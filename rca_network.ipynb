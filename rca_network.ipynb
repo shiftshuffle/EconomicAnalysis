{
 "cells": [
  {
   "cell_type": "code",
   "execution_count": 19,
   "metadata": {},
   "outputs": [
    {
     "output_type": "display_data",
     "data": {
      "text/html": "        <script type=\"text/javascript\">\n        window.PlotlyConfig = {MathJaxConfig: 'local'};\n        if (window.MathJax) {MathJax.Hub.Config({SVG: {font: \"STIX-Web\"}});}\n        if (typeof require !== 'undefined') {\n        require.undef(\"plotly\");\n        requirejs.config({\n            paths: {\n                'plotly': ['https://cdn.plot.ly/plotly-latest.min']\n            }\n        });\n        require(['plotly'], function(Plotly) {\n            window._Plotly = Plotly;\n        });\n        }\n        </script>\n        "
     },
     "metadata": {}
    }
   ],
   "source": [
    "import networkx as nx\n",
    "%matplotlib inline\n",
    "from random import randrange as rr\n",
    "\n",
    "import numpy as np\n",
    "import pandas as pd\n",
    "import matplotlib.pyplot as plt\n",
    "import seaborn as sns\n",
    "\n",
    "import plotly\n",
    "from plotly.offline import download_plotlyjs, init_notebook_mode, plot, iplot\n",
    "import plotly.graph_objs as go\n",
    "import plotly.figure_factory as ff\n",
    "\n",
    "init_notebook_mode(connected=True)"
   ]
  },
  {
   "cell_type": "code",
   "execution_count": 20,
   "metadata": {},
   "outputs": [],
   "source": [
    "df = pd.read_csv(\"data/wtf.csv\")\n",
    "df['sitc4'] = df['sitc4'].astype(str)\n",
    "del df['Unnamed: 0']\n",
    "\n",
    "gdf = df.groupby([\"sitc4\",\"exporter\"]).sum().reset_index()\n",
    "gdf = gdf[['sitc4','exporter','value']]\n",
    "\n",
    "rca_df = pd.read_csv(\"data/rca.csv\")\n",
    "del rca_df['Unnamed: 0']\n",
    "rca_df = rca_df.dropna(subset=['sitc4', 'exporter'])"
   ]
  },
  {
   "cell_type": "markdown",
   "metadata": {},
   "source": [
    "# $M_{cp}$"
   ]
  },
  {
   "cell_type": "code",
   "execution_count": 21,
   "metadata": {},
   "outputs": [
    {
     "output_type": "execute_result",
     "data": {
      "text/plain": [
       "      sitc4      exporter  value         rca\n",
       "1      0015     Areas NES  39012   23.301008\n",
       "2      001X     Areas NES     30   54.200398\n",
       "5      0141     Areas NES    158    1.791831\n",
       "11     02XX     Areas NES    102  111.224206\n",
       "18     0412     Areas NES  38224    4.208621\n",
       "...     ...           ...    ...         ...\n",
       "62398  7449  Eur.Other NE    496    9.559791\n",
       "62399  7919  Eur.Other NE   2110  143.167907\n",
       "62400  5416      CACM NES    518  553.623273\n",
       "62401  6841  Br.Antr.Terr   2262  251.251165\n",
       "62402  9310     Fr.Guiana   4258   57.410065\n",
       "\n",
       "[24303 rows x 4 columns]"
      ],
      "text/html": "<div>\n<style scoped>\n    .dataframe tbody tr th:only-of-type {\n        vertical-align: middle;\n    }\n\n    .dataframe tbody tr th {\n        vertical-align: top;\n    }\n\n    .dataframe thead th {\n        text-align: right;\n    }\n</style>\n<table border=\"1\" class=\"dataframe\">\n  <thead>\n    <tr style=\"text-align: right;\">\n      <th></th>\n      <th>sitc4</th>\n      <th>exporter</th>\n      <th>value</th>\n      <th>rca</th>\n    </tr>\n  </thead>\n  <tbody>\n    <tr>\n      <th>1</th>\n      <td>0015</td>\n      <td>Areas NES</td>\n      <td>39012</td>\n      <td>23.301008</td>\n    </tr>\n    <tr>\n      <th>2</th>\n      <td>001X</td>\n      <td>Areas NES</td>\n      <td>30</td>\n      <td>54.200398</td>\n    </tr>\n    <tr>\n      <th>5</th>\n      <td>0141</td>\n      <td>Areas NES</td>\n      <td>158</td>\n      <td>1.791831</td>\n    </tr>\n    <tr>\n      <th>11</th>\n      <td>02XX</td>\n      <td>Areas NES</td>\n      <td>102</td>\n      <td>111.224206</td>\n    </tr>\n    <tr>\n      <th>18</th>\n      <td>0412</td>\n      <td>Areas NES</td>\n      <td>38224</td>\n      <td>4.208621</td>\n    </tr>\n    <tr>\n      <th>...</th>\n      <td>...</td>\n      <td>...</td>\n      <td>...</td>\n      <td>...</td>\n    </tr>\n    <tr>\n      <th>62398</th>\n      <td>7449</td>\n      <td>Eur.Other NE</td>\n      <td>496</td>\n      <td>9.559791</td>\n    </tr>\n    <tr>\n      <th>62399</th>\n      <td>7919</td>\n      <td>Eur.Other NE</td>\n      <td>2110</td>\n      <td>143.167907</td>\n    </tr>\n    <tr>\n      <th>62400</th>\n      <td>5416</td>\n      <td>CACM NES</td>\n      <td>518</td>\n      <td>553.623273</td>\n    </tr>\n    <tr>\n      <th>62401</th>\n      <td>6841</td>\n      <td>Br.Antr.Terr</td>\n      <td>2262</td>\n      <td>251.251165</td>\n    </tr>\n    <tr>\n      <th>62402</th>\n      <td>9310</td>\n      <td>Fr.Guiana</td>\n      <td>4258</td>\n      <td>57.410065</td>\n    </tr>\n  </tbody>\n</table>\n<p>24303 rows × 4 columns</p>\n</div>"
     },
     "metadata": {},
     "execution_count": 21
    }
   ],
   "source": [
    "rca_treshold = 1\n",
    "mcp = rca_df[rca_df.rca >= rca_treshold]\n",
    "mcp"
   ]
  },
  {
   "cell_type": "markdown",
   "metadata": {},
   "source": [
    "# Random functions"
   ]
  },
  {
   "cell_type": "code",
   "execution_count": 22,
   "metadata": {},
   "outputs": [],
   "source": [
    "products = list(mcp.sitc4.unique())\n",
    "countries = list(mcp.exporter.unique())\n",
    "def random_pair():\n",
    "    r_product=products[rr(0,len(products))]\n",
    "    r_country=countries[rr(0,len(countries))]\n",
    "\n",
    "\n",
    "    random_pair = (r_product,r_country)\n",
    "    return random_pair\n"
   ]
  },
  {
   "cell_type": "code",
   "execution_count": 23,
   "metadata": {},
   "outputs": [],
   "source": [
    "def degree_country(country):\n",
    "    return len(mcp[mcp.exporter == country])"
   ]
  },
  {
   "cell_type": "markdown",
   "metadata": {},
   "source": [
    "# Null Model 1\n",
    "\n",
    "Preserves links but random degree sequence for Products and Countries assigned randomly"
   ]
  },
  {
   "cell_type": "code",
   "execution_count": 24,
   "metadata": {},
   "outputs": [
    {
     "output_type": "execute_result",
     "data": {
      "text/plain": [
       "24303"
      ]
     },
     "metadata": {},
     "execution_count": 24
    }
   ],
   "source": [
    "number_edges = mcp.shape[0]\n",
    "number_edges"
   ]
  },
  {
   "cell_type": "code",
   "execution_count": 25,
   "metadata": {},
   "outputs": [
    {
     "output_type": "execute_result",
     "data": {
      "text/plain": [
       " MC SAR',\n",
       " '0585': 'Latvia',\n",
       " '812X': 'Somalia',\n",
       " '582': 'Cent.Afr.Rep',\n",
       " '6543': 'Belize',\n",
       " '8973': 'Algeria',\n",
       " '7239': 'Bosnia Herzg',\n",
       " '6899': 'Australia',\n",
       " '7762': 'Cote Divoire',\n",
       " '2652': 'Paraguay',\n",
       " '5123': 'Argentina',\n",
       " '4314': 'Mongolia',\n",
       " '7842': 'Albania',\n",
       " '2119': 'Romania',\n",
       " '6515': 'Occ.Pal.Terr',\n",
       " '2820': 'China MC SAR',\n",
       " '7921': 'Oman',\n",
       " '73AA': 'St.Helena',\n",
       " '484': 'Ghana',\n",
       " '121': 'Taiwan',\n",
       " '65AA': 'Ethiopia',\n",
       " '6575': 'Denmark',\n",
       " '8749': 'Portugal',\n",
       " '0482': 'Iraq',\n",
       " '512A': 'Ecuador',\n",
       " '211A': 'Haiti',\n",
       " '5416': 'Bulgaria',\n",
       " '7810': 'Honduras',\n",
       " '4239': 'World',\n",
       " '7234': 'Areas NES',\n",
       " '736X': 'Argentina',\n",
       " '6642': 'Kenya',\n",
       " '7243': 'China HK SAR',\n",
       " '689X': 'Zimbabwe',\n",
       " '84AA': 'Bahamas',\n",
       " '7367': 'Azerbaijan',\n",
       " '741X': 'St.Pierre Mq',\n",
       " '5839': 'Honduras',\n",
       " '7491': 'Samoa',\n",
       " '8842': 'Portugal',\n",
       " '821A': 'Czech Rep',\n",
       " '742': 'Lithuania',\n",
       " '831X': 'Paraguay',\n",
       " '722A': 'Gabon',\n",
       " '0741': 'Paraguay',\n",
       " '0230': 'Oth.Oceania',\n",
       " '3343': 'Cote Divoire',\n",
       " '634A': 'Netherlands',\n",
       " '0121': 'Dominican Rp',\n",
       " '897X': 'Cote Divoire',\n",
       " '222A': 'Pakistan',\n",
       " '791A': 'Gibraltar',\n",
       " '657X': 'Togo',\n",
       " '51AA': 'Finland',\n",
       " '7421': 'Germany',\n",
       " '115': 'Barbados',\n",
       " '5233': 'Taiwan',\n",
       " '723': 'Mexico',\n",
       " '513X': 'CACM NES',\n",
       " '6713': 'Portugal',\n",
       " '6344': 'Yemen',\n",
       " '09XX': 'Liberia',\n",
       " '5833': 'Afghanistan',\n",
       " '33AA': 'Suriname',\n",
       " '53XX': 'Taiwan',\n",
       " '714X': 'Uruguay',\n",
       " '6664': 'Iraq',\n",
       " '3353': 'Papua N.Guin',\n",
       " '122X': 'Bangladesh',\n",
       " '2450': 'Finland',\n",
       " '6597': 'Guinea',\n",
       " '6940': 'Kazakhstan',\n",
       " '628A': 'Kyrgyzstan',\n",
       " '655A': 'Romania',\n",
       " '2112': 'USA',\n",
       " '2222': 'Singapore',\n",
       " '6612': 'Italy',\n",
       " '598X': 'Uganda',\n",
       " '6511': 'Nicaragua',\n",
       " '751X': 'Colombia',\n",
       " '4233': 'Oth.Oceania',\n",
       " '667A': 'Eur.Other NE',\n",
       " '514X': 'Hungary',\n",
       " '7244': 'Iceland',\n",
       " '0011': 'Iran',\n",
       " '0430': 'Neth.Ant.Aru',\n",
       " '7268': 'Georgia',\n",
       " '6343': 'China',\n",
       " '0422': 'Saudi Arabia',\n",
       " '652A': 'Indonesia',\n",
       " '141': 'Netherlands',\n",
       " '073X': 'Sudan',\n",
       " '7263': 'Panama',\n",
       " '642X': 'Cote Divoire',\n",
       " '0811': 'Tunisia',\n",
       " '042X': 'Sri Lanka',\n",
       " '6880': 'Lithuania',\n",
       " '1122': 'Brazil',\n",
       " '5913': 'Qatar',\n",
       " '0577': 'Mongolia',\n",
       " '2518': 'Jamaica',\n",
       " '0616': 'El Salvador',\n",
       " '711A': 'Barbados',\n",
       " '6911': 'Belarus',\n",
       " '0129': 'Austria',\n",
       " '04AA': 'Malawi',\n",
       " '0752': 'Oman',\n",
       " '6997': 'Sweden',\n",
       " '6978': 'Guadeloupe',\n",
       " '5513': 'Armenia',\n",
       " '2923': 'Bermuda',\n",
       " '7248': 'Philippines',\n",
       " '752X': 'Kazakhstan',\n",
       " '751A': 'TFYR Macedna',\n",
       " '274A': 'Mauritius',\n",
       " '611X': 'Nicaragua',\n",
       " '011A': 'Ukraine',\n",
       " '848X': 'CACM NES',\n",
       " '8463': 'Rwanda',\n",
       " '287X': 'Zimbabwe',\n",
       " '6674': 'Algeria',\n",
       " '75AA': 'Greece',\n",
       " '6992': 'Tunisia',\n",
       " '7722': 'Pakistan',\n",
       " '4249': 'Angola',\n",
       " '586': 'Ecuador',\n",
       " '5113': 'China',\n",
       " '121X': 'Italy',\n",
       " '0751': 'Djibouti',\n",
       " '6254': 'Poland',\n",
       " '2741': 'Malta',\n",
       " '2771': 'Pakistan',\n",
       " '7525': 'Iceland',\n",
       " '693A': 'Croatia',\n",
       " '0344': 'Finland',\n",
       " '64AA': 'Neth.Ant.Aru',\n",
       " '7831': 'Honduras',\n",
       " '6785': 'Iraq',\n",
       " '712A': 'Honduras',\n",
       " '653X': 'Uruguay',\n",
       " '8429': 'Neth.Ant.Aru',\n",
       " '561': 'Mongolia',\n",
       " '8996': 'EEC NES',\n",
       " '718A': 'Korea Rep.',\n",
       " '5223': 'Argentina',\n",
       " '6512': 'Zambia',\n",
       " '691X': 'Papua N.Guin',\n",
       " '2640': 'Lebanon',\n",
       " '8922': 'Belgium-Lux',\n",
       " '663X': 'Bulgaria',\n",
       " '5621': 'Singapore',\n",
       " '2926': 'Haiti',\n",
       " '6618': 'Trinidad Tbg',\n",
       " '7112': 'Paraguay',\n",
       " '022A': 'USA',\n",
       " '5914': 'Ireland',\n",
       " '2731': 'Venezuela',\n",
       " '6251': 'Cuba',\n",
       " '844X': 'US NES',\n",
       " '0814': 'Philippines',\n",
       " '783A': 'Oth.Oceania',\n",
       " '282A': 'Georgia',\n",
       " '2120': 'Venezuela',\n",
       " '6352': 'GuineaBissau',\n",
       " '03XX': 'Rwanda',\n",
       " '1221': 'World',\n",
       " '721A': 'Czech Rep',\n",
       " '782A': 'Indonesia',\n",
       " '2224': 'Papua N.Guin',\n",
       " '661A': 'Qatar',\n",
       " '2712': 'Sierra Leone',\n",
       " '22AA': 'Jamaica',\n",
       " '718X': 'Niger',\n",
       " '2239': 'Singapore',\n",
       " '4243': 'Albania',\n",
       " '819': 'EEC NES',\n",
       " '846X': 'Paraguay',\n",
       " '55XX': 'Panama',\n",
       " '6342': 'Guinea',\n",
       " '572X': 'Ukraine',\n",
       " '692X': 'Latvia',\n",
       " '752': 'Greenland',\n",
       " '8994': 'Viet Nam',\n",
       " '713A': 'Australia',\n",
       " '931A': 'Indonesia',\n",
       " '7861': 'Eur.Other NE',\n",
       " '4113': 'Untd Arab Em',\n",
       " '6359': 'Lebanon',\n",
       " '6760': 'Hungary',\n",
       " '812': 'Lao P.Dem.R',\n",
       " '12': 'Slovakia',\n",
       " '0371': 'Belgium-Lux',\n",
       " '885A': 'Chad',\n",
       " '0149': 'Korea D P Rp',\n",
       " '292A': 'Areas NES',\n",
       " '7119': 'Algeria',\n",
       " '762X': 'Chile',\n",
       " '662X': 'Czech Rep',\n",
       " '6747': 'Qatar',\n",
       " '0013': 'Australia',\n",
       " '9710': 'Turkmenistan',\n",
       " '6545': 'Russian Fed',\n",
       " '034A': 'Turkey',\n",
       " '6716': 'China FTZ',\n",
       " '7919': 'India',\n",
       " '062A': 'Haiti',\n",
       " '7938': 'Turkey',\n",
       " '1222': 'Oth.Oceania',\n",
       " '058A': 'Bahamas',\n",
       " '752A': 'Iceland',\n",
       " '2614': 'Turkmenistan',\n",
       " '591A': 'Myanmar',\n",
       " '0813': 'Br.Antr.Terr',\n",
       " '287A': 'World',\n",
       " '616': 'Bahrain',\n",
       " '233X': 'Tunisia',\n",
       " '724X': 'Occ.Pal.Terr',\n",
       " '7932': 'Czech Rep',\n",
       " '511A': 'Asia NES',\n",
       " '6560': 'Haiti',\n",
       " '8211': 'Guatemala',\n",
       " '7245': 'Thailand',\n",
       " '7264': 'Russian Fed',\n",
       " '430': 'Ecuador',\n",
       " '071X': 'Yugoslavia',\n",
       " '712X': 'Guyana',\n",
       " '224': 'Cuba',\n",
       " '24XX': 'USA',\n",
       " '6624': 'Malaysia',\n",
       " '14': 'Seychelles',\n",
       " '6633': 'Seychelles',\n",
       " '0589': 'Korea D P Rp',\n",
       " '5163': 'Panama',\n",
       " '6832': 'New Zealand',\n",
       " '278X': 'Oman',\n",
       " '655X': 'Mauritius',\n",
       " '0224': 'Peru',\n",
       " '87XX': 'Saudi Arabia',\n",
       " '333A': 'Saudi Arabia',\n",
       " '351A': 'World',\n",
       " '764X': 'US NES',\n",
       " '28AA': 'Iceland',\n",
       " '6422': 'St.Helena',\n",
       " '4235': 'Paraguay',\n",
       " '421': 'Bahamas',\n",
       " '2440': 'World',\n",
       " '371': 'Saudi Arabia',\n",
       " '814': 'Denmark',\n",
       " '763X': 'Uzbekistan',\n",
       " '699X': 'Kazakhstan',\n",
       " '72AA': 'Russian Fed',\n",
       " '6593': 'Fr.Guiana',\n",
       " '7621': 'GuineaBissau',\n",
       " '412': 'Philippines',\n",
       " '842A': 'Malawi',\n",
       " '2690': 'Myanmar',\n",
       " '045X': 'Sierra Leone',\n",
       " '723A': 'Rwanda',\n",
       " '7224': 'Kuwait',\n",
       " '7631': 'Samoa',\n",
       " '6974': 'Fiji',\n",
       " '8741': 'Albania',\n",
       " '744A': 'Mauritania',\n",
       " '0544': 'Malawi',\n",
       " '658X': 'Azerbaijan',\n",
       " '5821': 'Bahrain',\n",
       " '5849': 'Bosnia Herzg',\n",
       " '7452': 'Thailand',\n",
       " '2874': 'Iraq',\n",
       " '5822': 'Zimbabwe',\n",
       " '0564': 'China FTZ',\n",
       " '0240': 'Ecuador',\n",
       " '682X': 'Fiji',\n",
       " '6416': 'Algeria',\n",
       " '811': 'Eur.Other NE',\n",
       " '7271': 'Cent.Afr.Rep',\n",
       " '1124': 'Azerbaijan',\n",
       " '8998': 'Ethiopia',\n",
       " '037A': 'Ukraine',\n",
       " '5114': 'Somalia',\n",
       " '8983': 'Bermuda',\n",
       " '771X': 'Bahamas',\n",
       " '266X': 'Samoa',\n",
       " '0586': 'Guinea',\n",
       " '2687': 'Iraq',\n",
       " '679A': 'Iran',\n",
       " '7742': 'Indonesia',\n",
       " '7648': 'Togo',\n",
       " '7368': 'Nepal',\n",
       " '764A': 'CACM NES',\n",
       " '6129': 'Uruguay',\n",
       " '7416': 'Albania',\n",
       " '118': 'Syria',\n",
       " '02XX': 'World',\n",
       " '8921': 'Estonia',\n",
       " '8471': 'New Calednia',\n",
       " '7423': 'Zimbabwe',\n",
       " '8431': 'Tunisia',\n",
       " '2231': 'Burundi',\n",
       " '6589': 'Mauritius',\n",
       " '628X': 'Italy',\n",
       " '6749': 'Slovakia',\n",
       " '6821': 'Cent.Afr.Rep',\n",
       " '7284': 'Kiribati',\n",
       " '845A': 'Kyrgyzstan',\n",
       " '882A': 'Argentina',\n",
       " '711X': 'Kyrgyzstan',\n",
       " '2114': 'Tajikistan',\n",
       " '697X': 'Barbados',\n",
       " '5154': 'Latvia',\n",
       " '240': 'Liberia',\n",
       " '2925': 'TFYR Macedna',\n",
       " '2232': 'Benin',\n",
       " '5824': 'Denmark',\n",
       " '6793': 'Uzbekistan',\n",
       " '533X': 'Tunisia',\n",
       " '2516': 'Dominican Rp',\n",
       " '6733': 'Guinea',\n",
       " '564': 'Neutral Zone',\n",
       " '69AA': 'Haiti',\n",
       " '562X': 'Neth.Ant.Aru',\n",
       " '726A': 'Austria',\n",
       " '634X': 'Dominican Rp',\n",
       " '411': 'Viet Nam',\n",
       " '263A': 'Asia West NS',\n",
       " '6519': 'Ukraine',\n",
       " '722X': 'Thailand',\n",
       " '7641': 'Greece',\n",
       " '431X': 'Neth.Ant.Aru',\n",
       " '69XX': 'Gibraltar',\n",
       " '6842': 'Benin',\n",
       " '2633': 'Ghana',\n",
       " '522X': 'Guinea',\n",
       " '8720': 'Mauritius',\n",
       " '7441': 'Belize',\n",
       " '6349': 'Guinea',\n",
       " '288X': 'Philippines',\n",
       " '7649': 'Nicaragua',\n",
       " '7499': 'Korea Rep.',\n",
       " '0116': 'Barbados',\n",
       " '6744': 'Fr Ind O',\n",
       " '431A': 'Qatar',\n",
       " '79AA': 'Guinea',\n",
       " '0343': 'Niger',\n",
       " '7213': 'Canada',\n",
       " '689A': 'Burundi',\n",
       " '2816': 'Iceland',\n",
       " '451': 'Papua N.Guin',\n",
       " '2732': 'Kuwait',\n",
       " '5838': 'Areas NES',\n",
       " '0251': 'Philippines',\n",
       " '775A': 'Turkmenistan',\n",
       " '6546': 'Jamaica',\n",
       " '874A': 'Ecuador',\n",
       " '7764': 'Greece',\n",
       " '6552': 'Oman',\n",
       " '7149': 'Nepal',\n",
       " '8424': 'Taiwan',\n",
       " '2223': 'UK',\n",
       " '786A': 'Indonesia',\n",
       " '541A': 'Lithuania',\n",
       " '7511': 'New Zealand',\n",
       " '591X': 'Fiji',\n",
       " '783X': 'Israel',\n",
       " '8742': 'Afr.Other NS',\n",
       " '721X': 'Russian Fed',\n",
       " '7126': 'New Calednia',\n",
       " '621A': 'Zimbabwe',\n",
       " '2922': 'Malawi',\n",
       " '5231': 'Qatar',\n",
       " '7524': 'Peru',\n",
       " '7246': 'Russian Fed',\n",
       " '7139': 'Mexico',\n",
       " '7247': 'Asia NES',\n",
       " '5AAA': 'Occ.Pal.Terr',\n",
       " '6549': 'Denmark',\n",
       " '6582': 'Slovenia',\n",
       " '7753': 'Malaysia',\n",
       " '7362': 'China FTZ',\n",
       " '6635': 'Fiji',\n",
       " '66AA': 'Guatemala',\n",
       " '5121': 'Neth.Ant.Aru',\n",
       " '7XXX': 'CACM NES',\n",
       " '884X': 'Gambia',\n",
       " '0711': 'Sudan',\n",
       " '12XX': 'Eur.Other NE',\n",
       " '037X': 'China',\n",
       " '6536': 'Australia',\n",
       " '3345': 'Mauritius',\n",
       " '036A': 'Tunisia',\n",
       " '8745': 'Cambodia',\n",
       " '699A': 'Albania',\n",
       " '058X': 'New Calednia',\n",
       " '585A': 'Oth.Oceania',\n",
       " '7528': 'Turkey',\n",
       " '843A': 'Mali',\n",
       " '5543': 'Libya',\n",
       " '2667': 'Mexico',\n",
       " '5530': 'Uganda',\n",
       " '615': 'Azerbaijan',\n",
       " '6871': 'Singapore',\n",
       " '551X': 'Greenland',\n",
       " '687X': 'UK',\n",
       " '114': 'Yugoslavia',\n",
       " '0582': 'Paraguay',\n",
       " '7758': 'Barbados',\n",
       " '4111': 'Fiji',\n",
       " '27XX': 'Oth.Oceania',\n",
       " '323A': 'El Salvador',\n",
       " '895X': 'Tajikistan',\n",
       " '657A': 'Afghanistan',\n",
       " '584A': 'Saudi Arabia',\n",
       " '488': 'Poland',\n",
       " '0411': 'Kazakhstan',\n",
       " '7435': 'Slovenia',\n",
       " '686X': 'Samoa',\n",
       " '8972': 'Neutral Zone',\n",
       " '75XX': 'GuineaBissau',\n",
       " '784A': 'Eur.Other NE',\n",
       " '0452': 'Eq.Guinea',\n",
       " '6253': 'Latvia',\n",
       " '7133': 'St.Helena',\n",
       " '8981': 'Greenland',\n",
       " '6613': 'Haiti',\n",
       " '653A': 'Ireland',\n",
       " '0914': 'Gibraltar',\n",
       " '5921': 'UK',\n",
       " '3223': 'Indonesia',\n",
       " '2460': 'Azerbaijan',\n",
       " '0583': 'St.Pierre Mq',\n",
       " '2631': 'Israel',\n",
       " '8946': 'Cent.Afr.Rep',\n",
       " '1110': 'Cote Divoire',\n",
       " '522A': 'Iran',\n",
       " '1223': 'Angola',\n",
       " '5249': 'France,Monac',\n",
       " '55AA': 'Poland',\n",
       " '784X': 'Canada',\n",
       " '5147': 'Honduras',\n",
       " '8122': 'Nepal',\n",
       " '7163': 'Venezuela',\n",
       " '685X': 'Finland',\n",
       " '771A': 'Albania',\n",
       " '0252': 'Liberia',\n",
       " '012A': 'Madagascar',\n",
       " '8960': 'Syria',\n",
       " '07AA': 'Dem.Rp.Congo',\n",
       " '89AA': 'Afghanistan',\n",
       " '7369': 'Argentina',\n",
       " '4311': 'Mongolia',\n",
       " '847A': 'Uganda',\n",
       " '571': 'Dem.Rp.Congo',\n",
       " '0142': 'Korea D P Rp',\n",
       " '024A': 'Latvia',\n",
       " '2472': 'Belize',\n",
       " '7493': 'Ukraine',\n",
       " '5411': 'Iraq',\n",
       " '8441': 'Croatia',\n",
       " '0541': 'Greenland',\n",
       " '0015': 'Rwanda',\n",
       " '8813': 'Cameroon',\n",
       " '677X': 'Guatemala',\n",
       " '8999': 'France,Monac',\n",
       " '77XX': 'Nicaragua',\n",
       " '695X': 'UK',\n",
       " '664A': 'Venezuela',\n",
       " '8989': 'Mauritania',\n",
       " '7929': 'Gabon',\n",
       " '0730': 'Bosnia Herzg',\n",
       " '8811': 'EEC NES',\n",
       " '741A': 'Liberia',\n",
       " '6912': 'Barbados',\n",
       " '592A': 'Malawi',\n",
       " '0561': 'Dem.Rp.Congo',\n",
       " '1212': 'Australia',\n",
       " '684X': 'Madagascar',\n",
       " '674A': 'Bolivia',\n",
       " '6114': 'Latvia',\n",
       " '61XX': 'Thailand',\n",
       " '679X': 'Neth.Ant.Aru',\n",
       " '001A': 'Bahrain',\n",
       " '056X': 'EEC NES',\n",
       " '0812': 'UK',\n",
       " '914': 'Mongolia',\n",
       " '7131': 'Togo',\n",
       " '759X': 'US NES',\n",
       " '0451': 'Kiribati',\n",
       " '7911': 'Malta',\n",
       " '583': 'Barbados',\n",
       " '573': 'South Africa',\n",
       " '2814': 'Bahrain',\n",
       " '4AAA': 'Chad',\n",
       " '2772': 'Spain',\n",
       " '223': 'Qatar',\n",
       " '5826': 'Lebanon',\n",
       " '2482': 'Sweden',\n",
       " '762A': 'Paraguay',\n",
       " '2713': 'Greece',\n",
       " '6112': 'Ireland',\n",
       " '081A': 'China FTZ',\n",
       " '71AA': 'Argentina',\n",
       " '091A': 'Venezuela',\n",
       " '726X': 'Fiji',\n",
       " '0118': 'Taiwan',\n",
       " '111A': 'Haiti',\n",
       " '341X': 'St.Pierre Mq',\n",
       " '0470': 'Netherlands',\n",
       " '071A': 'Malta',\n",
       " '813': 'Burundi',\n",
       " '2517': 'Brazil',\n",
       " '5542': 'Ireland',\n",
       " '7267': 'Neth.Ant.Aru',\n",
       " '0113': 'Gibraltar',\n",
       " '2875': 'Bahamas',\n",
       " '23XX': 'Madagascar',\n",
       " '7731': 'Mauritania',\n",
       " '52AA': 'Australia',\n",
       " '625X': 'Slovenia',\n",
       " '778X': 'St.Helena',\n",
       " '6639': 'Philippines',\n",
       " '0574': 'Mexico',\n",
       " '8951': 'Mongolia',\n",
       " '87AA': 'Pakistan',\n",
       " '6637': 'Bulgaria',\n",
       " '899A': 'Yemen',\n",
       " '696A': 'Falkland Is',\n",
       " '516A': 'Mali',\n",
       " '06AA': 'Asia West NS',\n",
       " '7788': 'Asia NES',\n",
       " '931X': 'Singapore',\n",
       " '512X': 'Ukraine',\n",
       " '6411': 'Indonesia',\n",
       " '05XX': 'Denmark',\n",
       " '6994': 'Pakistan',\n",
       " '268A': 'China MC SAR',\n",
       " '112A': 'Areas NES',\n",
       " '5827': 'Algeria',\n",
       " '6538': 'Eq.Guinea',\n",
       " '5837': 'Algeria',\n",
       " '6419': 'Yugoslavia',\n",
       " '7761': 'Cyprus',\n",
       " '8510': 'Turkey',\n",
       " '2AAA': 'Myanmar',\n",
       " '8974': 'Dem.Rp.Congo',\n",
       " '048X': 'Niger',\n",
       " '781X': 'Italy',\n",
       " '6665': 'St.Kt-Nev-An',\n",
       " '6354': 'Greenland',\n",
       " '5221': 'Guyana',\n",
       " '06XX': 'Bosnia Herzg',\n",
       " '751': 'Argentina',\n",
       " '271A': 'Liberia',\n",
       " '5148': 'Algeria',\n",
       " '7492': 'Greenland',\n",
       " '149': 'Bangladesh',\n",
       " '0619': 'Lao P.Dem.R',\n",
       " '6413': 'Finland',\n",
       " '6415': 'New Calednia',\n",
       " '759A': 'France,Monac',\n",
       " '84XX': 'Mauritania',\n",
       " '2873': 'Estonia',\n",
       " '53AA': 'Myanmar',\n",
       " '6351': 'CACM NES',\n",
       " '5829': 'Guatemala',\n",
       " '641X': 'Uruguay',\n",
       " '5155': 'Poland',\n",
       " '515A': 'Kiribati',\n",
       " '6644': 'Malaysia',\n",
       " '11': 'Yemen',\n",
       " '7912': 'Mozambique',\n",
       " '8924': 'Trinidad Tbg',\n",
       " '7822': 'Zambia',\n",
       " '7851': 'Seychelles',\n",
       " '2634': 'Bangladesh',\n",
       " '871A': 'Papua N.Guin',\n",
       " '6421': 'Canada',\n",
       " '3221': 'Myanmar',\n",
       " '761A': 'Iceland',\n",
       " '5139': 'Turkmenistan',\n",
       " '6863': 'Ethiopia',\n",
       " '0341': 'Spain',\n",
       " '7913': 'Rwanda',\n",
       " '8121': 'Bosnia Herzg',\n",
       " '2785': 'Mozambique',\n",
       " '8434': 'Uzbekistan',\n",
       " '7211': 'Malaysia',\n",
       " '7161': 'Madagascar',\n",
       " '7868': 'Latvia',\n",
       " '821X': 'Bahamas',\n",
       " '8481': 'Belarus',\n",
       " '0114': 'Taiwan',\n",
       " '7361': 'Falkland Is',\n",
       " '728A': 'Oman',\n",
       " '8310': 'Mauritius',\n",
       " '116': 'Korea Rep.',\n",
       " '5823': 'Zimbabwe',\n",
       " '6973': 'Rwanda',\n",
       " '247X': 'Iran',\n",
       " '2911': 'UK',\n",
       " '8822': 'Ireland',\n",
       " '847X': 'Panama',\n",
       " '6581': 'El Salvador',\n",
       " '782X': 'Myanmar',\n",
       " '894A': 'Israel',\n",
       " '665A': 'Denmark',\n",
       " '4312': 'Occ.Pal.Terr',\n",
       " '7138': 'Burkina Faso',\n",
       " '8124': 'Br.Antr.Terr',\n",
       " '7643': 'Sudan',\n",
       " '6341': 'Thailand',\n",
       " '793A': 'Croatia',\n",
       " '4232': 'Cyprus',\n",
       " '2225': 'Angola',\n",
       " '483': 'Yemen',\n",
       " '2685': 'Albania',\n",
       " '265X': 'Bolivia',\n",
       " '334X': 'Morocco',\n",
       " '2686': 'Indonesia',\n",
       " '0223': 'Colombia',\n",
       " '6594': 'Turkey',\n",
       " '322A': 'Tanzania',\n",
       " '6572': 'Ethiopia',\n",
       " '691A': 'Estonia',\n",
       " '8452': 'Mauritania',\n",
       " '2919': 'Haiti',\n",
       " '0913': 'Niger',\n",
       " '111': 'Kiribati',\n",
       " '662A': 'Bolivia',\n",
       " '268X': 'Fiji',\n",
       " '061A': 'Turkmenistan',\n",
       " '4313': 'Mauritius',\n",
       " '3354': 'Turkey',\n",
       " '6534': 'Nepal',\n",
       " '7439': 'Greece',\n",
       " '7928': 'France,Monac',\n",
       " '8732': 'Georgia',\n",
       " '71XX': 'Norway',\n",
       " '5841': 'Ukraine',\n",
       " '7841': 'Costa Rica',\n",
       " '62XX': 'Guinea',\n",
       " '713X': 'Cyprus',\n",
       " '4234': 'EEC NES',\n",
       " '892A': 'Canada',\n",
       " '575': 'Albania',\n",
       " '6794': 'Libya',\n",
       " '0611': 'Guadeloupe',\n",
       " '04XX': 'Sri Lanka',\n",
       " '843X': 'Malta',\n",
       " '3341': 'Korea D P Rp',\n",
       " '781A': 'Guyana',\n",
       " '676X': 'Asia NES',\n",
       " '0548': 'Taiwan',\n",
       " '67AA': 'Tunisia',\n",
       " '583A': 'Suriname',\n",
       " '057A': 'Turkmenistan',\n",
       " '5852': 'Sri Lanka',\n",
       " '6522': 'Br.Antr.Terr',\n",
       " '0350': 'Latvia',\n",
       " '683A': 'St.Helena',\n",
       " '2332': 'Germany',\n",
       " '66XX': 'Thailand',\n",
       " '4241': 'St.Pierre Mq',\n",
       " '6745': 'Kiribati',\n",
       " '515X': 'US NES',\n",
       " '6259': 'Bahrain',\n",
       " '6122': 'Neutral Zone',\n",
       " '2682': 'Fr Ind O',\n",
       " '737X': 'China',\n",
       " '02AA': 'South Africa',\n",
       " '6423': 'Burkina Faso',\n",
       " '6584': 'Korea D P Rp',\n",
       " '0565': 'China',\n",
       " '8439': 'Nigeria',\n",
       " '7188': 'Afr.Other NS',\n",
       " '554A': 'Colombia',\n",
       " '2871': 'Guatemala',\n",
       " '482': 'Fr.Guiana',\n",
       " '2320': 'Uruguay',\n",
       " '0571': 'Sweden',\n",
       " '2483': 'Sweden',\n",
       " '344': 'Somalia',\n",
       " '291A': 'Guadeloupe',\n",
       " '7721': 'Fr.Guiana',\n",
       " '8821': 'Tunisia',\n",
       " '0980': 'Kuwait',\n",
       " '3415': 'Nigeria',\n",
       " '6851': 'Senegal',\n",
       " '0542': 'Libya',\n",
       " '424X': 'Iceland',\n",
       " '742X': 'Sweden',\n",
       " '0712': 'Paraguay',\n",
       " '13': 'Zimbabwe',\n",
       " '5332': 'Portugal',\n",
       " '654A': 'Italy',\n",
       " '5222': 'Trinidad Tbg',\n",
       " '635X': 'Niger',\n",
       " '2860': 'Belarus',\n",
       " '281X': 'Neth.Ant.Aru',\n",
       " '0488': 'Belarus',\n",
       " '2613': 'Sri Lanka',\n",
       " '423A': 'Canada',\n",
       " '579': 'Yemen',\n",
       " '6418': 'Qatar',\n",
       " '0723': 'Iraq',\n",
       " '6651': 'Chad',\n",
       " '61AA': 'US NES',\n",
       " '041X': 'China FTZ',\n",
       " '772A': 'Ghana',\n",
       " '8435': 'Barbados',\n",
       " '6872': 'Cuba',\n",
       " '7832': 'Qatar',\n",
       " '267X': 'Thailand',\n",
       " '898A': 'Kazakhstan',\n",
       " '551A': 'Haiti',\n",
       " '33XX': 'Burkina Faso',\n",
       " '7923': 'Korea D P Rp',\n",
       " '565': 'Cent.Afr.Rep',\n",
       " '651A': 'Korea D P Rp',\n",
       " '8212': 'Canada',\n",
       " '333X': 'Zambia',\n",
       " '523X': 'Jamaica',\n",
       " '7723': 'Guinea',\n",
       " '5146': 'New Calednia',\n",
       " '014X': 'Hungary',\n",
       " '01XX': 'Cyprus',\n",
       " '716A': 'Liberia',\n",
       " '514A': 'Paraguay',\n",
       " '8851': 'Afr.Other NS',\n",
       " '874X': 'EEC NES',\n",
       " '267A': 'Japan',\n",
       " '2471': 'TFYR Macedna',\n",
       " '24AA': 'Eq.Guinea',\n",
       " '786X': 'Latvia',\n",
       " '2238': 'Poland',\n",
       " '073A': 'China HK SAR',\n",
       " '2221': 'Somalia',\n",
       " '8982': 'Untd Arab Em',\n",
       " '9XXX': 'Mongolia',\n",
       " '6732': 'Albania',\n",
       " '7914': 'Fr Ind O',\n",
       " '0572': 'Saudi Arabia',\n",
       " '2331': 'Ethiopia',\n",
       " '21XX': 'CACM NES',\n",
       " '744X': 'Uzbekistan',\n",
       " '9000': 'South Africa',\n",
       " '74XX': 'Panama',\n",
       " '741': 'Madagascar',\n",
       " '32AA': 'Nepal',\n",
       " '913': 'Benin',\n",
       " '533A': 'Venezuela',\n",
       " '893X': 'Sierra Leone',\n",
       " '5989': 'Asia West NS',\n",
       " '7763': 'Neth.Ant.Aru',\n",
       " '422': 'Seychelles',\n",
       " '577': 'Cuba',\n",
       " '59AA': 'Kyrgyzstan',\n",
       " '63AA': 'Bahamas',\n",
       " '460': 'South Africa',\n",
       " '5334': 'Fr.Guiana',\n",
       " '727A': 'Nigeria',\n",
       " '672A': 'Bangladesh',\n",
       " '941A': 'Tanzania',\n",
       " '884A': 'Saudi Arabia',\n",
       " '6645': 'Papua N.Guin',\n",
       " '341A': 'Bolivia',\n",
       " '5413': 'India',\n",
       " '0115': 'Cambodia',\n",
       " '6412': 'Slovakia',\n",
       " '612X': 'Kiribati',\n",
       " '6210': 'Australia',\n",
       " '6583': 'Greece',\n",
       " '894X': 'Australia',\n",
       " '6516': 'Morocco',\n",
       " '2714': 'China',\n",
       " '291X': 'St.Helena',\n",
       " '5922': 'Ethiopia',\n",
       " '129': 'Ireland',\n",
       " '5912': 'Australia',\n",
       " '5825': 'Jamaica',\n",
       " '6113': 'Fr Ind O',\n",
       " '67XX': 'Guatemala',\n",
       " '6954': 'Rep Moldova',\n",
       " '1123': 'Peru',\n",
       " '6811': 'Lithuania',\n",
       " '6724': 'Cote Divoire',\n",
       " '09AA': 'Asia West NS',\n",
       " '686A': 'Korea D P Rp',\n",
       " '785A': 'GuineaBissau',\n",
       " '572': 'St.Helena',\n",
       " '2655': 'Untd Arab Em',\n",
       " '5623': 'Netherlands',\n",
       " '68XX': 'Senegal',\n",
       " '8484': 'Bermuda',\n",
       " '7783': 'Jordan',\n",
       " '695A': 'USA',\n",
       " '65XX': 'Guadeloupe',\n",
       " '882X': 'Greece',\n",
       " '694X': 'India',\n",
       " '745A': 'Greenland',\n",
       " '5112': 'Neth.Ant.Aru',\n",
       " '892X': 'TFYR Macedna',\n",
       " '2654': 'Neth.Ant.Aru',\n",
       " '8933': 'China MC SAR',\n",
       " '513A': 'Djibouti',\n",
       " '7931': 'Guinea',\n",
       " '6812': 'Belgium-Lux',\n",
       " '58XX': 'Cent.Afr.Rep',\n",
       " '6542': 'Ghana',\n",
       " '2742': 'Slovakia',\n",
       " '873A': 'Bermuda',\n",
       " '725A': 'Cuba',\n",
       " '6746': 'Mongolia',\n",
       " '043X': 'Cent.Afr.Rep',\n",
       " '727X': 'St.Helena',\n",
       " '054A': 'Eq.Guinea',\n",
       " '112': 'Jamaica',\n",
       " '749A': 'Korea D P Rp',\n",
       " '0459': 'Afghanistan',\n",
       " '5831': 'Barbados',\n",
       " '7272': 'Honduras',\n",
       " '2882': 'India',\n",
       " '335A': 'Liberia',\n",
       " '659A': 'Turkmenistan',\n",
       " '8748': 'Cuba',\n",
       " '7853': 'Ethiopia',\n",
       " '072X': 'Mauritius',\n",
       " '048A': 'Trinidad Tbg',\n",
       " '292X': 'Eur.Other NE',\n",
       " '672X': 'Ethiopia',\n",
       " '7371': 'South Africa',\n",
       " '056A': 'Bahrain',\n",
       " '583X': 'Jordan',\n",
       " '057X': 'Lithuania',\n",
       " '742A': 'Kyrgyzstan',\n",
       " '548': 'Eur.Other NE',\n",
       " '5232': 'Ecuador',\n",
       " '245A': 'Malawi',\n",
       " '265A': 'Kenya',\n",
       " '2924': 'Untd Arab Em',\n",
       " '0484': 'Yugoslavia',\n",
       " '6932': 'Gabon',\n",
       " '32XX': 'Mali',\n",
       " '323X': 'Russian Fed',\n",
       " '470': 'Georgia',\n",
       " '0481': 'Seychelles',\n",
       " '791X': 'Germany',\n",
       " '78XX': 'Estonia',\n",
       " '5331': 'Guinea',\n",
       " '661X': 'Liberia',\n",
       " '582A': 'Cyprus',\n",
       " '7219': 'Iceland',\n",
       " '5311': 'Cote Divoire',\n",
       " '73XX': 'Israel',\n",
       " '792X': 'Argentina',\n",
       " '8952': 'Togo',\n",
       " '7251': 'Guadeloupe',\n",
       " '6289': 'Areas NES',\n",
       " '2927': 'Guatemala',\n",
       " '8939': 'Switz.Liecht',\n",
       " '0573': 'Afghanistan',\n",
       " '8482': 'Romania',\n",
       " '665X': 'Bangladesh',\n",
       " '574': 'Guyana',\n",
       " '42XX': 'Egypt',\n",
       " '075X': 'Dominican Rp',\n",
       " '07XX': 'USA',\n",
       " '7129': 'Argentina',\n",
       " '6960': 'Cambodia',\n",
       " '743A': 'Fiji',\n",
       " '872X': 'Cuba',\n",
       " '2511': 'Guadeloupe',\n",
       " '899X': 'Gibraltar',\n",
       " '7782': 'Seychelles',\n",
       " '553X': 'Cote Divoire',\n",
       " '7283': 'Slovakia',\n",
       " '5514': 'Liberia',\n",
       " '685A': 'Tanzania',\n",
       " '0546': 'Kuwait',\n",
       " '6783': 'Neth.Ant.Aru',\n",
       " '6999': 'Barbados',\n",
       " '4242': 'TFYR Macedna',\n",
       " '0742': 'Uzbekistan',\n",
       " '63XX': 'Angola',\n",
       " '6935': 'Myanmar',\n",
       " '29XX': 'New Calednia',\n",
       " '335X': 'Occ.Pal.Terr',\n",
       " '5843': 'Malaysia',\n",
       " '7523': 'Kenya',\n",
       " '6424': 'Kenya',\n",
       " '6996': 'Angola',\n",
       " '51XX': 'Argentina',\n",
       " '671X': 'Lao P.Dem.R',\n",
       " '664X': 'Congo',\n",
       " '773X': 'Cameroon',\n",
       " '8947': 'Cameroon',\n",
       " '025X': 'China HK SAR',\n",
       " '8AAA': 'Untd Arab Em',\n",
       " '075A': 'St.Kt-Nev-An',\n",
       " '2815': 'Cyprus',\n",
       " '898X': 'Slovenia',\n",
       " '2481': 'Fr Ind O',\n",
       " '2234': 'Rwanda',\n",
       " '2876': 'Honduras',\n",
       " '7233': 'Uzbekistan',\n",
       " '77AA': 'Djibouti',\n",
       " '232X': 'Gambia',\n",
       " '6116': 'Israel',\n",
       " '846A': 'Panama',\n",
       " '74AA': 'Israel',\n",
       " '714A': 'Cuba',\n",
       " '6517': 'Sudan',\n",
       " '620': 'Algeria',\n",
       " '541': 'Greece',\n",
       " '8928': 'Bangladesh',\n",
       " '6647': 'Asia NES',\n",
       " '2881': 'Bangladesh',\n",
       " '6428': 'Falkland Is',\n",
       " '8433': 'Iran',\n",
       " '0460': 'Afr.Other NS',\n",
       " '142': 'Costa Rica',\n",
       " '26XX': 'Romania',\n",
       " '281A': 'Portugal',\n",
       " '6891': 'Norway',\n",
       " '112X': 'World',\n",
       " '0579': 'EEC NES',\n",
       " '881X': 'CACM NES',\n",
       " '0112': 'Areas NES',\n",
       " '3413': 'Liberia',\n",
       " '7612': 'Togo',\n",
       " '232A': 'Kenya',\n",
       " '7622': 'Kyrgyzstan',\n",
       " '6577': 'Falkland Is',\n",
       " '7512': 'Nicaragua',\n",
       " '5834': 'Mongolia',\n",
       " '7223': 'Kuwait',\n",
       " '2666': 'TFYR Macedna',\n",
       " '725X': 'Georgia',\n",
       " '8830': 'Mongolia',\n",
       " '2519': 'Philippines',\n",
       " '7768': 'Myanmar',\n",
       " '411X': 'Australia',\n",
       " '0615': 'South Africa',\n",
       " '8932': 'Djibouti',\n",
       " '6673': 'Senegal',\n",
       " '5981': 'Lao P.Dem.R',\n",
       " '222X': 'Portugal',\n",
       " '651X': 'Chad',\n",
       " '459': 'Kazakhstan',\n",
       " '5145': 'Cent.Afr.Rep',\n",
       " '001X': 'Oth.Oceania',\n",
       " '722': 'Ireland',\n",
       " '7591': 'UK',\n",
       " '5312': 'Chad',\n",
       " '5835': 'Greece',\n",
       " '7162': 'Gibraltar',\n",
       " ...}"
      ]
     },
     "metadata": {},
     "execution_count": 25
    }
   ],
   "source": [
    "d={}\n",
    "for i in range(number_edges):\n",
    "    rp=random_pair()\n",
    "    d[rp[0]]=rp[1]\n",
    "    \n",
    "d"
   ]
  },
  {
   "cell_type": "code",
   "execution_count": 26,
   "metadata": {},
   "outputs": [
    {
     "output_type": "execute_result",
     "data": {
      "text/plain": [
       "     sitc4      exporter\n",
       "0     26AA      Colombia\n",
       "1     773A      Pakistan\n",
       "2     532A      Mongolia\n",
       "3      589    Seychelles\n",
       "4     0014  Neutral Zone\n",
       "...    ...           ...\n",
       "1376  11XX        Norway\n",
       "1377  091X         Italy\n",
       "1378  28XX    Yugoslavia\n",
       "1379  761X       Croatia\n",
       "1380  211X  Neutral Zone\n",
       "\n",
       "[1381 rows x 2 columns]"
      ],
      "text/html": "<div>\n<style scoped>\n    .dataframe tbody tr th:only-of-type {\n        vertical-align: middle;\n    }\n\n    .dataframe tbody tr th {\n        vertical-align: top;\n    }\n\n    .dataframe thead th {\n        text-align: right;\n    }\n</style>\n<table border=\"1\" class=\"dataframe\">\n  <thead>\n    <tr style=\"text-align: right;\">\n      <th></th>\n      <th>sitc4</th>\n      <th>exporter</th>\n    </tr>\n  </thead>\n  <tbody>\n    <tr>\n      <th>0</th>\n      <td>26AA</td>\n      <td>Colombia</td>\n    </tr>\n    <tr>\n      <th>1</th>\n      <td>773A</td>\n      <td>Pakistan</td>\n    </tr>\n    <tr>\n      <th>2</th>\n      <td>532A</td>\n      <td>Mongolia</td>\n    </tr>\n    <tr>\n      <th>3</th>\n      <td>589</td>\n      <td>Seychelles</td>\n    </tr>\n    <tr>\n      <th>4</th>\n      <td>0014</td>\n      <td>Neutral Zone</td>\n    </tr>\n    <tr>\n      <th>...</th>\n      <td>...</td>\n      <td>...</td>\n    </tr>\n    <tr>\n      <th>1376</th>\n      <td>11XX</td>\n      <td>Norway</td>\n    </tr>\n    <tr>\n      <th>1377</th>\n      <td>091X</td>\n      <td>Italy</td>\n    </tr>\n    <tr>\n      <th>1378</th>\n      <td>28XX</td>\n      <td>Yugoslavia</td>\n    </tr>\n    <tr>\n      <th>1379</th>\n      <td>761X</td>\n      <td>Croatia</td>\n    </tr>\n    <tr>\n      <th>1380</th>\n      <td>211X</td>\n      <td>Neutral Zone</td>\n    </tr>\n  </tbody>\n</table>\n<p>1381 rows × 2 columns</p>\n</div>"
     },
     "metadata": {},
     "execution_count": 26
    }
   ],
   "source": [
    "null1 = pd.DataFrame(list(d.items()),columns = ['sitc4','exporter'])\n",
    "null1"
   ]
  },
  {
   "cell_type": "code",
   "execution_count": null,
   "metadata": {},
   "outputs": [],
   "source": []
  },
  {
   "cell_type": "markdown",
   "metadata": {},
   "source": [
    "# Null Model 2"
   ]
  },
  {
   "cell_type": "code",
   "execution_count": 27,
   "metadata": {},
   "outputs": [
    {
     "output_type": "execute_result",
     "data": {
      "text/plain": [
       "           exporter  value         rca sitc4\n",
       "1         Areas NES  39012   23.301008  6760\n",
       "2         Areas NES     30   54.200398  6644\n",
       "5         Areas NES    158    1.791831   481\n",
       "11        Areas NES    102  111.224206  5841\n",
       "18        Areas NES  38224    4.208621  697A\n",
       "...             ...    ...         ...   ...\n",
       "62398  Eur.Other NE    496    9.559791  6512\n",
       "62399  Eur.Other NE   2110  143.167907   723\n",
       "62400      CACM NES    518  553.623273  51AA\n",
       "62401  Br.Antr.Terr   2262  251.251165  7852\n",
       "62402     Fr.Guiana   4258   57.410065  251X\n",
       "\n",
       "[24303 rows x 4 columns]"
      ],
      "text/html": "<div>\n<style scoped>\n    .dataframe tbody tr th:only-of-type {\n        vertical-align: middle;\n    }\n\n    .dataframe tbody tr th {\n        vertical-align: top;\n    }\n\n    .dataframe thead th {\n        text-align: right;\n    }\n</style>\n<table border=\"1\" class=\"dataframe\">\n  <thead>\n    <tr style=\"text-align: right;\">\n      <th></th>\n      <th>exporter</th>\n      <th>value</th>\n      <th>rca</th>\n      <th>sitc4</th>\n    </tr>\n  </thead>\n  <tbody>\n    <tr>\n      <th>1</th>\n      <td>Areas NES</td>\n      <td>39012</td>\n      <td>23.301008</td>\n      <td>6760</td>\n    </tr>\n    <tr>\n      <th>2</th>\n      <td>Areas NES</td>\n      <td>30</td>\n      <td>54.200398</td>\n      <td>6644</td>\n    </tr>\n    <tr>\n      <th>5</th>\n      <td>Areas NES</td>\n      <td>158</td>\n      <td>1.791831</td>\n      <td>481</td>\n    </tr>\n    <tr>\n      <th>11</th>\n      <td>Areas NES</td>\n      <td>102</td>\n      <td>111.224206</td>\n      <td>5841</td>\n    </tr>\n    <tr>\n      <th>18</th>\n      <td>Areas NES</td>\n      <td>38224</td>\n      <td>4.208621</td>\n      <td>697A</td>\n    </tr>\n    <tr>\n      <th>...</th>\n      <td>...</td>\n      <td>...</td>\n      <td>...</td>\n      <td>...</td>\n    </tr>\n    <tr>\n      <th>62398</th>\n      <td>Eur.Other NE</td>\n      <td>496</td>\n      <td>9.559791</td>\n      <td>6512</td>\n    </tr>\n    <tr>\n      <th>62399</th>\n      <td>Eur.Other NE</td>\n      <td>2110</td>\n      <td>143.167907</td>\n      <td>723</td>\n    </tr>\n    <tr>\n      <th>62400</th>\n      <td>CACM NES</td>\n      <td>518</td>\n      <td>553.623273</td>\n      <td>51AA</td>\n    </tr>\n    <tr>\n      <th>62401</th>\n      <td>Br.Antr.Terr</td>\n      <td>2262</td>\n      <td>251.251165</td>\n      <td>7852</td>\n    </tr>\n    <tr>\n      <th>62402</th>\n      <td>Fr.Guiana</td>\n      <td>4258</td>\n      <td>57.410065</td>\n      <td>251X</td>\n    </tr>\n  </tbody>\n</table>\n<p>24303 rows × 4 columns</p>\n</div>"
     },
     "metadata": {},
     "execution_count": 27
    }
   ],
   "source": [
    "null2 = mcp\n",
    "del null2['sitc4']\n",
    "\n",
    "new_products = []\n",
    "\n",
    "for i in range(len(null2)):\n",
    "    r_product=products[rr(0,len(products))]\n",
    "    new_products.append(r_product)\n",
    "\n",
    "null2[\"sitc4\"]=new_products\n",
    "\n",
    "null2"
   ]
  },
  {
   "cell_type": "markdown",
   "metadata": {},
   "source": [
    "# Null Model 3"
   ]
  },
  {
   "cell_type": "code",
   "execution_count": 28,
   "metadata": {},
   "outputs": [
    {
     "output_type": "execute_result",
     "data": {
      "text/plain": [
       "       value         rca sitc4     exporter\n",
       "1      39012   23.301008  6760      Denmark\n",
       "2         30   54.200398  6644       Jordan\n",
       "5        158    1.791831   481       Zambia\n",
       "11       102  111.224206  5841   Uzbekistan\n",
       "18     38224    4.208621  697A      Ukraine\n",
       "...      ...         ...   ...          ...\n",
       "62398    496    9.559791  6512    Singapore\n",
       "62399   2110  143.167907   723     Thailand\n",
       "62400    518  553.623273  51AA     Djibouti\n",
       "62401   2262  251.251165  7852  Netherlands\n",
       "62402   4258   57.410065  251X     Bulgaria\n",
       "\n",
       "[24303 rows x 4 columns]"
      ],
      "text/html": "<div>\n<style scoped>\n    .dataframe tbody tr th:only-of-type {\n        vertical-align: middle;\n    }\n\n    .dataframe tbody tr th {\n        vertical-align: top;\n    }\n\n    .dataframe thead th {\n        text-align: right;\n    }\n</style>\n<table border=\"1\" class=\"dataframe\">\n  <thead>\n    <tr style=\"text-align: right;\">\n      <th></th>\n      <th>value</th>\n      <th>rca</th>\n      <th>sitc4</th>\n      <th>exporter</th>\n    </tr>\n  </thead>\n  <tbody>\n    <tr>\n      <th>1</th>\n      <td>39012</td>\n      <td>23.301008</td>\n      <td>6760</td>\n      <td>Denmark</td>\n    </tr>\n    <tr>\n      <th>2</th>\n      <td>30</td>\n      <td>54.200398</td>\n      <td>6644</td>\n      <td>Jordan</td>\n    </tr>\n    <tr>\n      <th>5</th>\n      <td>158</td>\n      <td>1.791831</td>\n      <td>481</td>\n      <td>Zambia</td>\n    </tr>\n    <tr>\n      <th>11</th>\n      <td>102</td>\n      <td>111.224206</td>\n      <td>5841</td>\n      <td>Uzbekistan</td>\n    </tr>\n    <tr>\n      <th>18</th>\n      <td>38224</td>\n      <td>4.208621</td>\n      <td>697A</td>\n      <td>Ukraine</td>\n    </tr>\n    <tr>\n      <th>...</th>\n      <td>...</td>\n      <td>...</td>\n      <td>...</td>\n      <td>...</td>\n    </tr>\n    <tr>\n      <th>62398</th>\n      <td>496</td>\n      <td>9.559791</td>\n      <td>6512</td>\n      <td>Singapore</td>\n    </tr>\n    <tr>\n      <th>62399</th>\n      <td>2110</td>\n      <td>143.167907</td>\n      <td>723</td>\n      <td>Thailand</td>\n    </tr>\n    <tr>\n      <th>62400</th>\n      <td>518</td>\n      <td>553.623273</td>\n      <td>51AA</td>\n      <td>Djibouti</td>\n    </tr>\n    <tr>\n      <th>62401</th>\n      <td>2262</td>\n      <td>251.251165</td>\n      <td>7852</td>\n      <td>Netherlands</td>\n    </tr>\n    <tr>\n      <th>62402</th>\n      <td>4258</td>\n      <td>57.410065</td>\n      <td>251X</td>\n      <td>Bulgaria</td>\n    </tr>\n  </tbody>\n</table>\n<p>24303 rows × 4 columns</p>\n</div>"
     },
     "metadata": {},
     "execution_count": 28
    }
   ],
   "source": [
    "null3 = mcp\n",
    "del null3['exporter']\n",
    "\n",
    "new_countries = []\n",
    "\n",
    "for i in range(len(null3)):\n",
    "    r_countries=countries[rr(0,len(countries))]\n",
    "    new_countries.append(r_countries)\n",
    "\n",
    "null3[\"exporter\"]=new_countries\n",
    "\n",
    "null3"
   ]
  },
  {
   "cell_type": "code",
   "execution_count": null,
   "metadata": {},
   "outputs": [],
   "source": []
  },
  {
   "cell_type": "code",
   "execution_count": null,
   "metadata": {},
   "outputs": [],
   "source": []
  },
  {
   "cell_type": "code",
   "execution_count": null,
   "metadata": {},
   "outputs": [],
   "source": []
  },
  {
   "cell_type": "code",
   "execution_count": null,
   "metadata": {},
   "outputs": [],
   "source": []
  },
  {
   "cell_type": "markdown",
   "metadata": {},
   "source": [
    "# Example Draw"
   ]
  },
  {
   "cell_type": "code",
   "execution_count": 29,
   "metadata": {},
   "outputs": [],
   "source": [
    "my_dict = {\"country1\":\"011\",\"country2\":\"011\",\"country3\":\"211\"}\n",
    "df = pd.DataFrame(list(my_dict.items()),columns = ['exporter','sitc4']) "
   ]
  },
  {
   "cell_type": "code",
   "execution_count": 30,
   "metadata": {},
   "outputs": [
    {
     "output_type": "execute_result",
     "data": {
      "text/plain": [
       "   exporter sitc4\n",
       "0  country1   011\n",
       "1  country2   011\n",
       "2  country3   211"
      ],
      "text/html": "<div>\n<style scoped>\n    .dataframe tbody tr th:only-of-type {\n        vertical-align: middle;\n    }\n\n    .dataframe tbody tr th {\n        vertical-align: top;\n    }\n\n    .dataframe thead th {\n        text-align: right;\n    }\n</style>\n<table border=\"1\" class=\"dataframe\">\n  <thead>\n    <tr style=\"text-align: right;\">\n      <th></th>\n      <th>exporter</th>\n      <th>sitc4</th>\n    </tr>\n  </thead>\n  <tbody>\n    <tr>\n      <th>0</th>\n      <td>country1</td>\n      <td>011</td>\n    </tr>\n    <tr>\n      <th>1</th>\n      <td>country2</td>\n      <td>011</td>\n    </tr>\n    <tr>\n      <th>2</th>\n      <td>country3</td>\n      <td>211</td>\n    </tr>\n  </tbody>\n</table>\n</div>"
     },
     "metadata": {},
     "execution_count": 30
    }
   ],
   "source": [
    "df"
   ]
  },
  {
   "cell_type": "markdown",
   "metadata": {},
   "source": [
    "### Create Graph"
   ]
  },
  {
   "cell_type": "code",
   "execution_count": 31,
   "metadata": {},
   "outputs": [
    {
     "output_type": "display_data",
     "data": {
      "text/plain": "<Figure size 720x720 with 1 Axes>",
      "image/svg+xml": "<?xml version=\"1.0\" encoding=\"utf-8\" standalone=\"no\"?>\n<!DOCTYPE svg PUBLIC \"-//W3C//DTD SVG 1.1//EN\"\n  \"http://www.w3.org/Graphics/SVG/1.1/DTD/svg11.dtd\">\n<!-- Created with matplotlib (https://matplotlib.org/) -->\n<svg height=\"751.797656pt\" version=\"1.1\" viewBox=\"0 0 734.4 751.797656\" width=\"734.4pt\" xmlns=\"http://www.w3.org/2000/svg\" xmlns:xlink=\"http://www.w3.org/1999/xlink\">\n <metadata>\n  <rdf:RDF xmlns:cc=\"http://creativecommons.org/ns#\" xmlns:dc=\"http://purl.org/dc/elements/1.1/\" xmlns:rdf=\"http://www.w3.org/1999/02/22-rdf-syntax-ns#\">\n   <cc:Work>\n    <dc:type rdf:resource=\"http://purl.org/dc/dcmitype/StillImage\"/>\n    <dc:date>2021-01-24T18:43:01.952684</dc:date>\n    <dc:format>image/svg+xml</dc:format>\n    <dc:creator>\n     <cc:Agent>\n      <dc:title>Matplotlib v3.3.3, https://matplotlib.org/</dc:title>\n     </cc:Agent>\n    </dc:creator>\n   </cc:Work>\n  </rdf:RDF>\n </metadata>\n <defs>\n  <style type=\"text/css\">*{stroke-linecap:butt;stroke-linejoin:round;}</style>\n </defs>\n <g id=\"figure_1\">\n  <g id=\"patch_1\">\n   <path d=\"M 0 751.797656 \nL 734.4 751.797656 \nL 734.4 0 \nL 0 0 \nz\n\" style=\"fill:#ffffff;\"/>\n  </g>\n  <g id=\"axes_1\">\n   <g id=\"LineCollection_1\">\n    <path clip-path=\"url(#p1408eec947)\" d=\"M 640.46612 178.696196 \nL 580.140111 294.812665 \n\" style=\"fill:none;stroke:#000000;stroke-opacity:0.8;\"/>\n    <path clip-path=\"url(#p1408eec947)\" d=\"M 640.46612 178.696196 \nL 694.472727 57.324929 \n\" style=\"fill:none;stroke:#000000;stroke-opacity:0.8;\"/>\n    <path clip-path=\"url(#p1408eec947)\" d=\"M 39.927273 587.756699 \nL 72.61625 711.870384 \n\" style=\"fill:none;stroke:#000000;stroke-opacity:0.8;\"/>\n   </g>\n   <g id=\"LineCollection_2\">\n    <path clip-path=\"url(#p1408eec947)\" d=\"M 640.46612 178.696196 \nL 580.140111 294.812665 \n\" style=\"fill:none;stroke:#000000;\"/>\n    <path clip-path=\"url(#p1408eec947)\" d=\"M 640.46612 178.696196 \nL 694.472727 57.324929 \n\" style=\"fill:none;stroke:#000000;\"/>\n    <path clip-path=\"url(#p1408eec947)\" d=\"M 39.927273 587.756699 \nL 72.61625 711.870384 \n\" style=\"fill:none;stroke:#000000;\"/>\n   </g>\n   <g id=\"PathCollection_1\">\n    <path clip-path=\"url(#p1408eec947)\" d=\"M 640.46612 179.81423 \nC 640.762626 179.81423 641.047028 179.696427 641.256689 179.486766 \nC 641.466351 179.277104 641.584154 178.992702 641.584154 178.696196 \nC 641.584154 178.39969 641.466351 178.115288 641.256689 177.905627 \nC 641.047028 177.695966 640.762626 177.578162 640.46612 177.578162 \nC 640.169614 177.578162 639.885212 177.695966 639.675551 177.905627 \nC 639.465889 178.115288 639.348086 178.39969 639.348086 178.696196 \nC 639.348086 178.992702 639.465889 179.277104 639.675551 179.486766 \nC 639.885212 179.696427 640.169614 179.81423 640.46612 179.81423 \nz\n\" style=\"fill:#800080;fill-opacity:0.8;stroke:#800080;stroke-opacity:0.8;\"/>\n    <path clip-path=\"url(#p1408eec947)\" d=\"M 580.140111 295.603234 \nC 580.349772 295.603234 580.550875 295.519935 580.699128 295.371682 \nC 580.847381 295.223429 580.93068 295.022326 580.93068 294.812665 \nC 580.93068 294.603003 580.847381 294.401901 580.699128 294.253648 \nC 580.550875 294.105395 580.349772 294.022095 580.140111 294.022095 \nC 579.930449 294.022095 579.729347 294.105395 579.581094 294.253648 \nC 579.432841 294.401901 579.349541 294.603003 579.349541 294.812665 \nC 579.349541 295.022326 579.432841 295.223429 579.581094 295.371682 \nC 579.729347 295.519935 579.930449 295.603234 580.140111 295.603234 \nz\n\" style=\"fill:#800080;fill-opacity:0.8;stroke:#800080;stroke-opacity:0.8;\"/>\n    <path clip-path=\"url(#p1408eec947)\" d=\"M 694.472727 58.115498 \nC 694.682389 58.115498 694.883491 58.032199 695.031744 57.883946 \nC 695.179997 57.735693 695.263297 57.53459 695.263297 57.324929 \nC 695.263297 57.115268 695.179997 56.914165 695.031744 56.765912 \nC 694.883491 56.617659 694.682389 56.53436 694.472727 56.53436 \nC 694.263066 56.53436 694.061963 56.617659 693.91371 56.765912 \nC 693.765457 56.914165 693.682158 57.115268 693.682158 57.324929 \nC 693.682158 57.53459 693.765457 57.735693 693.91371 57.883946 \nC 694.061963 58.032199 694.263066 58.115498 694.472727 58.115498 \nz\n\" style=\"fill:#800080;fill-opacity:0.8;stroke:#800080;stroke-opacity:0.8;\"/>\n    <path clip-path=\"url(#p1408eec947)\" d=\"M 39.927273 588.547268 \nC 40.136934 588.547268 40.338037 588.463969 40.48629 588.315716 \nC 40.634543 588.167463 40.717842 587.96636 40.717842 587.756699 \nC 40.717842 587.547037 40.634543 587.345935 40.48629 587.197682 \nC 40.338037 587.049429 40.136934 586.966129 39.927273 586.966129 \nC 39.717611 586.966129 39.516509 587.049429 39.368256 587.197682 \nC 39.220003 587.345935 39.136703 587.547037 39.136703 587.756699 \nC 39.136703 587.96636 39.220003 588.167463 39.368256 588.315716 \nC 39.516509 588.463969 39.717611 588.547268 39.927273 588.547268 \nz\n\" style=\"fill:#800080;fill-opacity:0.8;stroke:#800080;stroke-opacity:0.8;\"/>\n    <path clip-path=\"url(#p1408eec947)\" d=\"M 72.61625 712.660953 \nC 72.825911 712.660953 73.027014 712.577654 73.175267 712.429401 \nC 73.32352 712.281147 73.406819 712.080045 73.406819 711.870384 \nC 73.406819 711.660722 73.32352 711.45962 73.175267 711.311367 \nC 73.027014 711.163113 72.825911 711.079814 72.61625 711.079814 \nC 72.406588 711.079814 72.205486 711.163113 72.057233 711.311367 \nC 71.90898 711.45962 71.82568 711.660722 71.82568 711.870384 \nC 71.82568 712.080045 71.90898 712.281147 72.057233 712.429401 \nC 72.205486 712.577654 72.406588 712.660953 72.61625 712.660953 \nz\n\" style=\"fill:#800080;fill-opacity:0.8;stroke:#800080;stroke-opacity:0.8;\"/>\n   </g>\n   <g id=\"PathCollection_2\">\n    <defs>\n     <path d=\"M 0 8.660254 \nC 2.296726 8.660254 4.499694 7.747755 6.123724 6.123724 \nC 7.747755 4.499694 8.660254 2.296726 8.660254 0 \nC 8.660254 -2.296726 7.747755 -4.499694 6.123724 -6.123724 \nC 4.499694 -7.747755 2.296726 -8.660254 0 -8.660254 \nC -2.296726 -8.660254 -4.499694 -7.747755 -6.123724 -6.123724 \nC -7.747755 -4.499694 -8.660254 -2.296726 -8.660254 0 \nC -8.660254 2.296726 -7.747755 4.499694 -6.123724 6.123724 \nC -4.499694 7.747755 -2.296726 8.660254 0 8.660254 \nz\n\" id=\"m505dad2c66\" style=\"stroke:#1f78b4;\"/>\n    </defs>\n    <g clip-path=\"url(#p1408eec947)\">\n     <use style=\"fill:#1f78b4;stroke:#1f78b4;\" x=\"640.46612\" xlink:href=\"#m505dad2c66\" y=\"178.696196\"/>\n     <use style=\"fill:#1f78b4;stroke:#1f78b4;\" x=\"580.140111\" xlink:href=\"#m505dad2c66\" y=\"294.812665\"/>\n     <use style=\"fill:#1f78b4;stroke:#1f78b4;\" x=\"694.472727\" xlink:href=\"#m505dad2c66\" y=\"57.324929\"/>\n     <use style=\"fill:#1f78b4;stroke:#1f78b4;\" x=\"39.927273\" xlink:href=\"#m505dad2c66\" y=\"587.756699\"/>\n     <use style=\"fill:#1f78b4;stroke:#1f78b4;\" x=\"72.61625\" xlink:href=\"#m505dad2c66\" y=\"711.870384\"/>\n    </g>\n   </g>\n   <g id=\"text_1\">\n    <g clip-path=\"url(#p1408eec947)\">\n     <!-- 011 -->\n     <g transform=\"translate(628.059245 182.283384)scale(0.13 -0.13)\">\n      <defs>\n       <path d=\"M 31.78125 66.40625 \nQ 24.171875 66.40625 20.328125 58.90625 \nQ 16.5 51.421875 16.5 36.375 \nQ 16.5 21.390625 20.328125 13.890625 \nQ 24.171875 6.390625 31.78125 6.390625 \nQ 39.453125 6.390625 43.28125 13.890625 \nQ 47.125 21.390625 47.125 36.375 \nQ 47.125 51.421875 43.28125 58.90625 \nQ 39.453125 66.40625 31.78125 66.40625 \nz\nM 31.78125 74.21875 \nQ 44.046875 74.21875 50.515625 64.515625 \nQ 56.984375 54.828125 56.984375 36.375 \nQ 56.984375 17.96875 50.515625 8.265625 \nQ 44.046875 -1.421875 31.78125 -1.421875 \nQ 19.53125 -1.421875 13.0625 8.265625 \nQ 6.59375 17.96875 6.59375 36.375 \nQ 6.59375 54.828125 13.0625 64.515625 \nQ 19.53125 74.21875 31.78125 74.21875 \nz\n\" id=\"DejaVuSans-48\"/>\n       <path d=\"M 12.40625 8.296875 \nL 28.515625 8.296875 \nL 28.515625 63.921875 \nL 10.984375 60.40625 \nL 10.984375 69.390625 \nL 28.421875 72.90625 \nL 38.28125 72.90625 \nL 38.28125 8.296875 \nL 54.390625 8.296875 \nL 54.390625 0 \nL 12.40625 0 \nz\n\" id=\"DejaVuSans-49\"/>\n      </defs>\n      <use xlink:href=\"#DejaVuSans-48\"/>\n      <use x=\"63.623047\" xlink:href=\"#DejaVuSans-49\"/>\n      <use x=\"127.246094\" xlink:href=\"#DejaVuSans-49\"/>\n     </g>\n    </g>\n   </g>\n   <g id=\"text_2\">\n    <g clip-path=\"url(#p1408eec947)\">\n     <!-- country1 -->\n     <g transform=\"translate(551.147064 298.399852)scale(0.13 -0.13)\">\n      <defs>\n       <path d=\"M 48.78125 52.59375 \nL 48.78125 44.1875 \nQ 44.96875 46.296875 41.140625 47.34375 \nQ 37.3125 48.390625 33.40625 48.390625 \nQ 24.65625 48.390625 19.8125 42.84375 \nQ 14.984375 37.3125 14.984375 27.296875 \nQ 14.984375 17.28125 19.8125 11.734375 \nQ 24.65625 6.203125 33.40625 6.203125 \nQ 37.3125 6.203125 41.140625 7.25 \nQ 44.96875 8.296875 48.78125 10.40625 \nL 48.78125 2.09375 \nQ 45.015625 0.34375 40.984375 -0.53125 \nQ 36.96875 -1.421875 32.421875 -1.421875 \nQ 20.0625 -1.421875 12.78125 6.34375 \nQ 5.515625 14.109375 5.515625 27.296875 \nQ 5.515625 40.671875 12.859375 48.328125 \nQ 20.21875 56 33.015625 56 \nQ 37.15625 56 41.109375 55.140625 \nQ 45.0625 54.296875 48.78125 52.59375 \nz\n\" id=\"DejaVuSans-99\"/>\n       <path d=\"M 30.609375 48.390625 \nQ 23.390625 48.390625 19.1875 42.75 \nQ 14.984375 37.109375 14.984375 27.296875 \nQ 14.984375 17.484375 19.15625 11.84375 \nQ 23.34375 6.203125 30.609375 6.203125 \nQ 37.796875 6.203125 41.984375 11.859375 \nQ 46.1875 17.53125 46.1875 27.296875 \nQ 46.1875 37.015625 41.984375 42.703125 \nQ 37.796875 48.390625 30.609375 48.390625 \nz\nM 30.609375 56 \nQ 42.328125 56 49.015625 48.375 \nQ 55.71875 40.765625 55.71875 27.296875 \nQ 55.71875 13.875 49.015625 6.21875 \nQ 42.328125 -1.421875 30.609375 -1.421875 \nQ 18.84375 -1.421875 12.171875 6.21875 \nQ 5.515625 13.875 5.515625 27.296875 \nQ 5.515625 40.765625 12.171875 48.375 \nQ 18.84375 56 30.609375 56 \nz\n\" id=\"DejaVuSans-111\"/>\n       <path d=\"M 8.5 21.578125 \nL 8.5 54.6875 \nL 17.484375 54.6875 \nL 17.484375 21.921875 \nQ 17.484375 14.15625 20.5 10.265625 \nQ 23.53125 6.390625 29.59375 6.390625 \nQ 36.859375 6.390625 41.078125 11.03125 \nQ 45.3125 15.671875 45.3125 23.6875 \nL 45.3125 54.6875 \nL 54.296875 54.6875 \nL 54.296875 0 \nL 45.3125 0 \nL 45.3125 8.40625 \nQ 42.046875 3.421875 37.71875 1 \nQ 33.40625 -1.421875 27.6875 -1.421875 \nQ 18.265625 -1.421875 13.375 4.4375 \nQ 8.5 10.296875 8.5 21.578125 \nz\nM 31.109375 56 \nz\n\" id=\"DejaVuSans-117\"/>\n       <path d=\"M 54.890625 33.015625 \nL 54.890625 0 \nL 45.90625 0 \nL 45.90625 32.71875 \nQ 45.90625 40.484375 42.875 44.328125 \nQ 39.84375 48.1875 33.796875 48.1875 \nQ 26.515625 48.1875 22.3125 43.546875 \nQ 18.109375 38.921875 18.109375 30.90625 \nL 18.109375 0 \nL 9.078125 0 \nL 9.078125 54.6875 \nL 18.109375 54.6875 \nL 18.109375 46.1875 \nQ 21.34375 51.125 25.703125 53.5625 \nQ 30.078125 56 35.796875 56 \nQ 45.21875 56 50.046875 50.171875 \nQ 54.890625 44.34375 54.890625 33.015625 \nz\n\" id=\"DejaVuSans-110\"/>\n       <path d=\"M 18.3125 70.21875 \nL 18.3125 54.6875 \nL 36.8125 54.6875 \nL 36.8125 47.703125 \nL 18.3125 47.703125 \nL 18.3125 18.015625 \nQ 18.3125 11.328125 20.140625 9.421875 \nQ 21.96875 7.515625 27.59375 7.515625 \nL 36.8125 7.515625 \nL 36.8125 0 \nL 27.59375 0 \nQ 17.1875 0 13.234375 3.875 \nQ 9.28125 7.765625 9.28125 18.015625 \nL 9.28125 47.703125 \nL 2.6875 47.703125 \nL 2.6875 54.6875 \nL 9.28125 54.6875 \nL 9.28125 70.21875 \nz\n\" id=\"DejaVuSans-116\"/>\n       <path d=\"M 41.109375 46.296875 \nQ 39.59375 47.171875 37.8125 47.578125 \nQ 36.03125 48 33.890625 48 \nQ 26.265625 48 22.1875 43.046875 \nQ 18.109375 38.09375 18.109375 28.8125 \nL 18.109375 0 \nL 9.078125 0 \nL 9.078125 54.6875 \nL 18.109375 54.6875 \nL 18.109375 46.1875 \nQ 20.953125 51.171875 25.484375 53.578125 \nQ 30.03125 56 36.53125 56 \nQ 37.453125 56 38.578125 55.875 \nQ 39.703125 55.765625 41.0625 55.515625 \nz\n\" id=\"DejaVuSans-114\"/>\n       <path d=\"M 32.171875 -5.078125 \nQ 28.375 -14.84375 24.75 -17.8125 \nQ 21.140625 -20.796875 15.09375 -20.796875 \nL 7.90625 -20.796875 \nL 7.90625 -13.28125 \nL 13.1875 -13.28125 \nQ 16.890625 -13.28125 18.9375 -11.515625 \nQ 21 -9.765625 23.484375 -3.21875 \nL 25.09375 0.875 \nL 2.984375 54.6875 \nL 12.5 54.6875 \nL 29.59375 11.921875 \nL 46.6875 54.6875 \nL 56.203125 54.6875 \nz\n\" id=\"DejaVuSans-121\"/>\n      </defs>\n      <use xlink:href=\"#DejaVuSans-99\"/>\n      <use x=\"54.980469\" xlink:href=\"#DejaVuSans-111\"/>\n      <use x=\"116.162109\" xlink:href=\"#DejaVuSans-117\"/>\n      <use x=\"179.541016\" xlink:href=\"#DejaVuSans-110\"/>\n      <use x=\"242.919922\" xlink:href=\"#DejaVuSans-116\"/>\n      <use x=\"282.128906\" xlink:href=\"#DejaVuSans-114\"/>\n      <use x=\"323.242188\" xlink:href=\"#DejaVuSans-121\"/>\n      <use x=\"382.421875\" xlink:href=\"#DejaVuSans-49\"/>\n     </g>\n    </g>\n   </g>\n   <g id=\"text_3\">\n    <g clip-path=\"url(#p1408eec947)\">\n     <!-- country2 -->\n     <g transform=\"translate(665.47968 60.912116)scale(0.13 -0.13)\">\n      <defs>\n       <path d=\"M 19.1875 8.296875 \nL 53.609375 8.296875 \nL 53.609375 0 \nL 7.328125 0 \nL 7.328125 8.296875 \nQ 12.9375 14.109375 22.625 23.890625 \nQ 32.328125 33.6875 34.8125 36.53125 \nQ 39.546875 41.84375 41.421875 45.53125 \nQ 43.3125 49.21875 43.3125 52.78125 \nQ 43.3125 58.59375 39.234375 62.25 \nQ 35.15625 65.921875 28.609375 65.921875 \nQ 23.96875 65.921875 18.8125 64.3125 \nQ 13.671875 62.703125 7.8125 59.421875 \nL 7.8125 69.390625 \nQ 13.765625 71.78125 18.9375 73 \nQ 24.125 74.21875 28.421875 74.21875 \nQ 39.75 74.21875 46.484375 68.546875 \nQ 53.21875 62.890625 53.21875 53.421875 \nQ 53.21875 48.921875 51.53125 44.890625 \nQ 49.859375 40.875 45.40625 35.40625 \nQ 44.1875 33.984375 37.640625 27.21875 \nQ 31.109375 20.453125 19.1875 8.296875 \nz\n\" id=\"DejaVuSans-50\"/>\n      </defs>\n      <use xlink:href=\"#DejaVuSans-99\"/>\n      <use x=\"54.980469\" xlink:href=\"#DejaVuSans-111\"/>\n      <use x=\"116.162109\" xlink:href=\"#DejaVuSans-117\"/>\n      <use x=\"179.541016\" xlink:href=\"#DejaVuSans-110\"/>\n      <use x=\"242.919922\" xlink:href=\"#DejaVuSans-116\"/>\n      <use x=\"282.128906\" xlink:href=\"#DejaVuSans-114\"/>\n      <use x=\"323.242188\" xlink:href=\"#DejaVuSans-121\"/>\n      <use x=\"382.421875\" xlink:href=\"#DejaVuSans-50\"/>\n     </g>\n    </g>\n   </g>\n   <g id=\"text_4\">\n    <g clip-path=\"url(#p1408eec947)\">\n     <!-- 211 -->\n     <g transform=\"translate(27.520398 591.343886)scale(0.13 -0.13)\">\n      <use xlink:href=\"#DejaVuSans-50\"/>\n      <use x=\"63.623047\" xlink:href=\"#DejaVuSans-49\"/>\n      <use x=\"127.246094\" xlink:href=\"#DejaVuSans-49\"/>\n     </g>\n    </g>\n   </g>\n   <g id=\"text_5\">\n    <g clip-path=\"url(#p1408eec947)\">\n     <!-- country3 -->\n     <g transform=\"translate(43.623203 715.457571)scale(0.13 -0.13)\">\n      <defs>\n       <path d=\"M 40.578125 39.3125 \nQ 47.65625 37.796875 51.625 33 \nQ 55.609375 28.21875 55.609375 21.1875 \nQ 55.609375 10.40625 48.1875 4.484375 \nQ 40.765625 -1.421875 27.09375 -1.421875 \nQ 22.515625 -1.421875 17.65625 -0.515625 \nQ 12.796875 0.390625 7.625 2.203125 \nL 7.625 11.71875 \nQ 11.71875 9.328125 16.59375 8.109375 \nQ 21.484375 6.890625 26.8125 6.890625 \nQ 36.078125 6.890625 40.9375 10.546875 \nQ 45.796875 14.203125 45.796875 21.1875 \nQ 45.796875 27.640625 41.28125 31.265625 \nQ 36.765625 34.90625 28.71875 34.90625 \nL 20.21875 34.90625 \nL 20.21875 43.015625 \nL 29.109375 43.015625 \nQ 36.375 43.015625 40.234375 45.921875 \nQ 44.09375 48.828125 44.09375 54.296875 \nQ 44.09375 59.90625 40.109375 62.90625 \nQ 36.140625 65.921875 28.71875 65.921875 \nQ 24.65625 65.921875 20.015625 65.03125 \nQ 15.375 64.15625 9.8125 62.3125 \nL 9.8125 71.09375 \nQ 15.4375 72.65625 20.34375 73.4375 \nQ 25.25 74.21875 29.59375 74.21875 \nQ 40.828125 74.21875 47.359375 69.109375 \nQ 53.90625 64.015625 53.90625 55.328125 \nQ 53.90625 49.265625 50.4375 45.09375 \nQ 46.96875 40.921875 40.578125 39.3125 \nz\n\" id=\"DejaVuSans-51\"/>\n      </defs>\n      <use xlink:href=\"#DejaVuSans-99\"/>\n      <use x=\"54.980469\" xlink:href=\"#DejaVuSans-111\"/>\n      <use x=\"116.162109\" xlink:href=\"#DejaVuSans-117\"/>\n      <use x=\"179.541016\" xlink:href=\"#DejaVuSans-110\"/>\n      <use x=\"242.919922\" xlink:href=\"#DejaVuSans-116\"/>\n      <use x=\"282.128906\" xlink:href=\"#DejaVuSans-114\"/>\n      <use x=\"323.242188\" xlink:href=\"#DejaVuSans-121\"/>\n      <use x=\"382.421875\" xlink:href=\"#DejaVuSans-51\"/>\n     </g>\n    </g>\n   </g>\n   <g id=\"text_6\">\n    <!-- Economic Network -->\n    <g transform=\"translate(297.194531 18.597656)scale(0.15 -0.15)\">\n     <defs>\n      <path d=\"M 9.8125 72.90625 \nL 55.90625 72.90625 \nL 55.90625 64.59375 \nL 19.671875 64.59375 \nL 19.671875 43.015625 \nL 54.390625 43.015625 \nL 54.390625 34.71875 \nL 19.671875 34.71875 \nL 19.671875 8.296875 \nL 56.78125 8.296875 \nL 56.78125 0 \nL 9.8125 0 \nz\n\" id=\"DejaVuSans-69\"/>\n      <path d=\"M 52 44.1875 \nQ 55.375 50.25 60.0625 53.125 \nQ 64.75 56 71.09375 56 \nQ 79.640625 56 84.28125 50.015625 \nQ 88.921875 44.046875 88.921875 33.015625 \nL 88.921875 0 \nL 79.890625 0 \nL 79.890625 32.71875 \nQ 79.890625 40.578125 77.09375 44.375 \nQ 74.3125 48.1875 68.609375 48.1875 \nQ 61.625 48.1875 57.5625 43.546875 \nQ 53.515625 38.921875 53.515625 30.90625 \nL 53.515625 0 \nL 44.484375 0 \nL 44.484375 32.71875 \nQ 44.484375 40.625 41.703125 44.40625 \nQ 38.921875 48.1875 33.109375 48.1875 \nQ 26.21875 48.1875 22.15625 43.53125 \nQ 18.109375 38.875 18.109375 30.90625 \nL 18.109375 0 \nL 9.078125 0 \nL 9.078125 54.6875 \nL 18.109375 54.6875 \nL 18.109375 46.1875 \nQ 21.1875 51.21875 25.484375 53.609375 \nQ 29.78125 56 35.6875 56 \nQ 41.65625 56 45.828125 52.96875 \nQ 50 49.953125 52 44.1875 \nz\n\" id=\"DejaVuSans-109\"/>\n      <path d=\"M 9.421875 54.6875 \nL 18.40625 54.6875 \nL 18.40625 0 \nL 9.421875 0 \nz\nM 9.421875 75.984375 \nL 18.40625 75.984375 \nL 18.40625 64.59375 \nL 9.421875 64.59375 \nz\n\" id=\"DejaVuSans-105\"/>\n      <path id=\"DejaVuSans-32\"/>\n      <path d=\"M 9.8125 72.90625 \nL 23.09375 72.90625 \nL 55.421875 11.921875 \nL 55.421875 72.90625 \nL 64.984375 72.90625 \nL 64.984375 0 \nL 51.703125 0 \nL 19.390625 60.984375 \nL 19.390625 0 \nL 9.8125 0 \nz\n\" id=\"DejaVuSans-78\"/>\n      <path d=\"M 56.203125 29.59375 \nL 56.203125 25.203125 \nL 14.890625 25.203125 \nQ 15.484375 15.921875 20.484375 11.0625 \nQ 25.484375 6.203125 34.421875 6.203125 \nQ 39.59375 6.203125 44.453125 7.46875 \nQ 49.3125 8.734375 54.109375 11.28125 \nL 54.109375 2.78125 \nQ 49.265625 0.734375 44.1875 -0.34375 \nQ 39.109375 -1.421875 33.890625 -1.421875 \nQ 20.796875 -1.421875 13.15625 6.1875 \nQ 5.515625 13.8125 5.515625 26.8125 \nQ 5.515625 40.234375 12.765625 48.109375 \nQ 20.015625 56 32.328125 56 \nQ 43.359375 56 49.78125 48.890625 \nQ 56.203125 41.796875 56.203125 29.59375 \nz\nM 47.21875 32.234375 \nQ 47.125 39.59375 43.09375 43.984375 \nQ 39.0625 48.390625 32.421875 48.390625 \nQ 24.90625 48.390625 20.390625 44.140625 \nQ 15.875 39.890625 15.1875 32.171875 \nz\n\" id=\"DejaVuSans-101\"/>\n      <path d=\"M 4.203125 54.6875 \nL 13.1875 54.6875 \nL 24.421875 12.015625 \nL 35.59375 54.6875 \nL 46.1875 54.6875 \nL 57.421875 12.015625 \nL 68.609375 54.6875 \nL 77.59375 54.6875 \nL 63.28125 0 \nL 52.6875 0 \nL 40.921875 44.828125 \nL 29.109375 0 \nL 18.5 0 \nz\n\" id=\"DejaVuSans-119\"/>\n      <path d=\"M 9.078125 75.984375 \nL 18.109375 75.984375 \nL 18.109375 31.109375 \nL 44.921875 54.6875 \nL 56.390625 54.6875 \nL 27.390625 29.109375 \nL 57.625 0 \nL 45.90625 0 \nL 18.109375 26.703125 \nL 18.109375 0 \nL 9.078125 0 \nz\n\" id=\"DejaVuSans-107\"/>\n     </defs>\n     <use xlink:href=\"#DejaVuSans-69\"/>\n     <use x=\"63.183594\" xlink:href=\"#DejaVuSans-99\"/>\n     <use x=\"118.164062\" xlink:href=\"#DejaVuSans-111\"/>\n     <use x=\"179.345703\" xlink:href=\"#DejaVuSans-110\"/>\n     <use x=\"242.724609\" xlink:href=\"#DejaVuSans-111\"/>\n     <use x=\"303.90625\" xlink:href=\"#DejaVuSans-109\"/>\n     <use x=\"401.318359\" xlink:href=\"#DejaVuSans-105\"/>\n     <use x=\"429.101562\" xlink:href=\"#DejaVuSans-99\"/>\n     <use x=\"484.082031\" xlink:href=\"#DejaVuSans-32\"/>\n     <use x=\"515.869141\" xlink:href=\"#DejaVuSans-78\"/>\n     <use x=\"590.673828\" xlink:href=\"#DejaVuSans-101\"/>\n     <use x=\"652.197266\" xlink:href=\"#DejaVuSans-116\"/>\n     <use x=\"691.40625\" xlink:href=\"#DejaVuSans-119\"/>\n     <use x=\"773.193359\" xlink:href=\"#DejaVuSans-111\"/>\n     <use x=\"834.375\" xlink:href=\"#DejaVuSans-114\"/>\n     <use x=\"875.488281\" xlink:href=\"#DejaVuSans-107\"/>\n    </g>\n   </g>\n  </g>\n </g>\n <defs>\n  <clipPath id=\"p1408eec947\">\n   <rect height=\"720\" width=\"720\" x=\"7.2\" y=\"24.597656\"/>\n  </clipPath>\n </defs>\n</svg>\n",
      "image/png": "[encoded data removed]"
     },
     "metadata": {}
    }
   ],
   "source": [
    "g=nx.from_pandas_edgelist(df,source = \"sitc4\",target =\"exporter\")\n",
    "#nx.draw(g)\n",
    "\n",
    "size_variable = 10\n",
    "pos = nx.spring_layout(g)\n",
    "degreecen=nx.degree_centrality(g)\n",
    "values2 = [degreecen.get(node) for node in g.nodes()]\n",
    "values2=list(map(lambda x: x*size_variable ,values2))\n",
    "\n",
    "plt.close('all')\n",
    "plt.figure(figsize=(10, 10))\n",
    "nx.draw(g,pos, cmap = plt.get_cmap(\"rainbow\"), node_color = \"purple\", node_size=values2,with_labels = False,alpha=0.8)\n",
    "nx.draw_networkx(g,pos,font_size=13)\n",
    "plt.title( \"Economic Network\", size=15)\n",
    "plt.show()\n",
    "plt.close()"
   ]
  },
  {
   "cell_type": "code",
   "execution_count": null,
   "metadata": {},
   "outputs": [],
   "source": []
  },
  {
   "cell_type": "code",
   "execution_count": null,
   "metadata": {},
   "outputs": [],
   "source": []
  },
  {
   "cell_type": "markdown",
   "metadata": {},
   "source": [
    "# K series"
   ]
  },
  {
   "cell_type": "code",
   "execution_count": null,
   "metadata": {},
   "outputs": [],
   "source": []
  },
  {
   "cell_type": "code",
   "execution_count": 36,
   "metadata": {},
   "outputs": [
    {
     "output_type": "display_data",
     "data": {
      "application/vnd.plotly.v1+json": {
       "config": {
        "plotlyServerURL": "https://plot.ly"
       },
       "data": [
        {
         "marker": {
          "color": "rgba(48, 217, 189, 1)"
         },
         "mode": "markers+text",
         "name": "citations",
         "text": [
          "Denmark",
          "Jordan",
          "Zambia",
          "Uzbekistan",
          "Ukraine",
          "India",
          "Afghanistan",
          "GuineaBissau",
          "Senegal",
          "Bermuda",
          "Eq.Guinea",
          "EEC NES",
          "Israel",
          "Turkmenistan",
          "Oth.Oceania",
          "Algeria",
          "Canada",
          "Finland",
          "Thailand",
          "Gambia",
          "Areas NES",
          "Afr.Other NS",
          "Czech Rep",
          "Oman",
          "Burkina Faso",
          "France,Monac",
          "Tanzania",
          "Ecuador",
          "Dominican Rp",
          "Burundi",
          "Estonia",
          "Germany",
          "Libya",
          "Lebanon",
          "Nicaragua",
          "Benin",
          "Bahrain",
          "Eur.Other NE",
          "Congo",
          "Kazakhstan",
          "Kuwait",
          "South Africa",
          "Iraq",
          "CACM NES",
          "Panama",
          "Chad",
          "China HK SAR",
          "Yugoslavia",
          "UK",
          "Madagascar",
          "Kyrgyzstan",
          "Cuba",
          "Russian Fed",
          "Bosnia Herzg",
          "St.Helena",
          "Sri Lanka",
          "US NES",
          "Djibouti",
          "Mozambique",
          "Venezuela",
          "Qatar",
          "Asia West NS",
          "Seychelles",
          "Hungary",
          "Mongolia",
          "Neutral Zone",
          "Korea D P Rp",
          "Taiwan",
          "Bolivia",
          "Guadeloupe",
          "Dem.Rp.Congo",
          "Romania",
          "Belgium-Lux",
          "Myanmar",
          "Samoa",
          "Sierra Leone",
          "Uganda",
          "Mexico",
          "Lithuania",
          "Italy",
          "Papua N.Guin",
          "Turkey",
          "Rwanda",
          "Bahamas",
          "Georgia",
          "Netherlands",
          "Costa Rica",
          "Falkland Is",
          "Albania",
          "Austria",
          "Kiribati",
          "Cent.Afr.Rep",
          "Switz.Liecht",
          "Niger",
          "Belize",
          "Poland",
          "New Calednia",
          "Cambodia",
          "Lao P.Dem.R",
          "Peru",
          "Ethiopia",
          "Singapore",
          "Yemen",
          "Armenia",
          "New Zealand",
          "Japan",
          "China MC SAR",
          "Haiti",
          "Angola",
          "Gibraltar",
          "Iceland",
          "Australia",
          "USA",
          "Guyana",
          "Greenland",
          "Rep Moldova",
          "Togo",
          "Egypt",
          "Gabon",
          "Kenya",
          "Latvia",
          "Croatia",
          "Bangladesh",
          "Ghana",
          "Cyprus",
          "Mauritania",
          "Tunisia",
          "Bulgaria",
          "Indonesia",
          "Portugal",
          "Chile",
          "El Salvador",
          "Saudi Arabia",
          "China FTZ",
          "Barbados",
          "Fiji",
          "Slovenia",
          "Mauritius",
          "China",
          "Nepal",
          "Zimbabwe",
          "Philippines",
          "Mali",
          "Iran",
          "Guatemala",
          "Untd Arab Em",
          "Occ.Pal.Terr",
          "Azerbaijan",
          "Liberia",
          "Malaysia",
          "Slovakia",
          "St.Kt-Nev-An",
          "Br.Antr.Terr",
          "Fr.Guiana",
          "Somalia",
          "Suriname",
          "Ireland",
          "Tajikistan",
          "Guinea",
          "Trinidad Tbg",
          "Brazil",
          "Jamaica",
          "Cameroon",
          "Viet Nam",
          "Uruguay",
          "Belarus",
          "Morocco",
          "TFYR Macedna",
          "Fr Ind O",
          "Cote Divoire",
          "Korea Rep.",
          "Argentina",
          "Nigeria",
          "Neth.Ant.Aru",
          "Sweden",
          "Syria",
          "Colombia",
          "Sudan",
          "Norway",
          "Honduras",
          "Spain",
          "Malta",
          "Asia NES",
          "Greece",
          "Malawi",
          "Pakistan",
          "St.Pierre Mq",
          "Paraguay"
         ],
         "type": "scatter",
         "x": [
          132,
          138,
          129,
          119,
          126,
          133,
          124,
          145,
          122,
          113,
          125,
          152,
          109,
          150,
          120,
          137,
          141,
          103,
          130,
          128,
          125,
          112,
          115,
          118,
          156,
          123,
          120,
          146,
          122,
          121,
          145,
          126,
          112,
          114,
          132,
          132,
          124,
          128,
          140,
          117,
          143,
          119,
          145,
          143,
          151,
          123,
          116,
          139,
          136,
          133,
          123,
          104,
          122,
          119,
          124,
          136,
          128,
          116,
          138,
          141,
          125,
          147,
          119,
          113,
          133,
          129,
          120,
          128,
          127,
          126,
          130,
          138,
          130,
          121,
          114,
          133,
          138,
          146,
          108,
          115,
          137,
          114,
          116,
          137,
          134,
          131,
          121,
          122,
          120,
          118,
          141,
          127,
          126,
          128,
          119,
          105,
          143,
          130,
          141,
          126,
          115,
          130,
          144,
          139,
          126,
          121,
          132,
          122,
          151,
          119,
          139,
          138,
          124,
          136,
          130,
          134,
          128,
          118,
          123,
          127,
          128,
          133,
          131,
          150,
          131,
          122,
          132,
          131,
          132,
          110,
          126,
          140,
          151,
          132,
          109,
          143,
          145,
          116,
          145,
          144,
          137,
          119,
          139,
          122,
          137,
          134,
          115,
          131,
          125,
          119,
          114,
          132,
          122,
          131,
          125,
          115,
          116,
          136,
          136,
          144,
          135,
          118,
          131,
          125,
          149,
          139,
          110,
          142,
          129,
          128,
          136,
          126,
          119,
          123,
          106,
          128,
          143,
          133,
          124,
          114,
          106,
          148,
          128,
          140,
          131,
          136,
          124,
          135
         ],
         "y": [
          17.833333333333332,
          17.644927536231883,
          17.751937984496124,
          17.285714285714285,
          17.72222222222222,
          17.51127819548872,
          17.241935483870968,
          18.255172413793105,
          18.065573770491802,
          17.964601769911503,
          18.008,
          17.723684210526315,
          18.761467889908257,
          17.80666666666667,
          17.35,
          17.875912408759124,
          16.078014184397162,
          17.737864077669904,
          17.56153846153846,
          17.75,
          18.008,
          17.598214285714285,
          17.843478260869563,
          17.847457627118644,
          16.935897435897434,
          17.715447154471544,
          16.9,
          18.602739726027398,
          17.631147540983605,
          18.75206611570248,
          16.579310344827586,
          17.563492063492063,
          17.883928571428573,
          18.017543859649123,
          17.856060606060606,
          18.37121212121212,
          17.919354838709676,
          17.0078125,
          17.47142857142857,
          18.863247863247864,
          17.60839160839161,
          17.756302521008404,
          18.137931034482758,
          16.636363636363637,
          17.781456953642383,
          18,
          17.79310344827586,
          18.906474820143885,
          17.522058823529413,
          17.32330827067669,
          18.365853658536587,
          19.153846153846153,
          17.92622950819672,
          17.554621848739497,
          17.64516129032258,
          18.235294117647058,
          17.34375,
          18.32758620689655,
          17.39855072463768,
          17.49645390070922,
          18,
          17.931972789115648,
          17.428571428571427,
          17.141592920353983,
          18.42105263157895,
          17.13953488372093,
          18.441666666666666,
          17.2265625,
          16.79527559055118,
          16.99206349206349,
          17.838461538461537,
          17.557971014492754,
          18.423076923076923,
          18.272727272727273,
          17.736842105263158,
          18.172932330827066,
          18.014492753623188,
          17.027397260273972,
          17.12037037037037,
          17.556521739130435,
          17.62773722627737,
          17.93859649122807,
          18.224137931034484,
          18.05109489051095,
          17.79850746268657,
          17.625954198473284,
          18.297520661157026,
          17.15573770491803,
          17.033333333333335,
          17.56779661016949,
          18.48936170212766,
          18.165354330708663,
          17.896825396825395,
          17.59375,
          18.07563025210084,
          18.742857142857144,
          17.062937062937063,
          17.623076923076923,
          18.333333333333332,
          17.357142857142858,
          17.669565217391305,
          17.3,
          17.631944444444443,
          18.309352517985612,
          17.3015873015873,
          17.06611570247934,
          17.257575757575758,
          17.84426229508197,
          17.794701986754966,
          18.462184873949578,
          17.97841726618705,
          18.58695652173913,
          17.89516129032258,
          17.25735294117647,
          18.284615384615385,
          17.507462686567163,
          17.4609375,
          17.516949152542374,
          18.15447154471545,
          17.590551181102363,
          18.1328125,
          16.93233082706767,
          17.30534351145038,
          17.873333333333335,
          17.022900763358777,
          18.237704918032787,
          17.257575757575758,
          17.404580152671755,
          17.46212121212121,
          18.054545454545455,
          16.642857142857142,
          17.85,
          17.403973509933774,
          17.545454545454547,
          17.93577981651376,
          17.825174825174827,
          18.17241379310345,
          17.620689655172413,
          18.248275862068965,
          17.92361111111111,
          17.503649635036496,
          17.605042016806724,
          17.697841726618705,
          17.540983606557376,
          17.153284671532848,
          18.097014925373134,
          17.678260869565218,
          17.610687022900763,
          17.464,
          17.596638655462186,
          18.333333333333332,
          18.174242424242426,
          17.639344262295083,
          17.793893129770993,
          17.408,
          18.121739130434783,
          17.370689655172413,
          17.558823529411764,
          17.955882352941178,
          17.25,
          17.22962962962963,
          17.728813559322035,
          17.954198473282442,
          17.44,
          18.369127516778523,
          17.72661870503597,
          17.863636363636363,
          18.169014084507044,
          17.852713178294575,
          18.53125,
          17.25,
          17.761904761904763,
          17.73949579831933,
          16.723577235772357,
          18.433962264150942,
          17.6015625,
          17.503496503496503,
          17,
          17.911290322580644,
          17.850877192982455,
          17.72641509433962,
          17.263513513513512,
          18.3671875,
          17.714285714285715,
          17.61832061068702,
          17.823529411764707,
          17.419354838709676,
          18.31851851851852
         ]
        }
       ],
       "layout": {
        "plot_bgcolor": "white",
        "template": {
         "data": {
          "bar": [
           {
            "error_x": {
             "color": "#2a3f5f"
            },
            "error_y": {
             "color": "#2a3f5f"
            },
            "marker": {
             "line": {
              "color": "#E5ECF6",
              "width": 0.5
             }
            },
            "type": "bar"
           }
          ],
          "barpolar": [
           {
            "marker": {
             "line": {
              "color": "#E5ECF6",
              "width": 0.5
             }
            },
            "type": "barpolar"
           }
          ],
          "carpet": [
           {
            "aaxis": {
             "endlinecolor": "#2a3f5f",
             "gridcolor": "white",
             "linecolor": "white",
             "minorgridcolor": "white",
             "startlinecolor": "#2a3f5f"
            },
            "baxis": {
             "endlinecolor": "#2a3f5f",
             "gridcolor": "white",
             "linecolor": "white",
             "minorgridcolor": "white",
             "startlinecolor": "#2a3f5f"
            },
            "type": "carpet"
           }
          ],
          "choropleth": [
           {
            "colorbar": {
             "outlinewidth": 0,
             "ticks": ""
            },
            "type": "choropleth"
           }
          ],
          "contour": [
           {
            "colorbar": {
             "outlinewidth": 0,
             "ticks": ""
            },
            "colorscale": [
             [
              0,
              "#0d0887"
             ],
             [
              0.1111111111111111,
              "#46039f"
             ],
             [
              0.2222222222222222,
              "#7201a8"
             ],
             [
              0.3333333333333333,
              "#9c179e"
             ],
             [
              0.4444444444444444,
              "#bd3786"
             ],
             [
              0.5555555555555556,
              "#d8576b"
             ],
             [
              0.6666666666666666,
              "#ed7953"
             ],
             [
              0.7777777777777778,
              "#fb9f3a"
             ],
             [
              0.8888888888888888,
              "#fdca26"
             ],
             [
              1,
              "#f0f921"
             ]
            ],
            "type": "contour"
           }
          ],
          "contourcarpet": [
           {
            "colorbar": {
             "outlinewidth": 0,
             "ticks": ""
            },
            "type": "contourcarpet"
           }
          ],
          "heatmap": [
           {
            "colorbar": {
             "outlinewidth": 0,
             "ticks": ""
            },
            "colorscale": [
             [
              0,
              "#0d0887"
             ],
             [
              0.1111111111111111,
              "#46039f"
             ],
             [
              0.2222222222222222,
              "#7201a8"
             ],
             [
              0.3333333333333333,
              "#9c179e"
             ],
             [
              0.4444444444444444,
              "#bd3786"
             ],
             [
              0.5555555555555556,
              "#d8576b"
             ],
             [
              0.6666666666666666,
              "#ed7953"
             ],
             [
              0.7777777777777778,
              "#fb9f3a"
             ],
             [
              0.8888888888888888,
              "#fdca26"
             ],
             [
              1,
              "#f0f921"
             ]
            ],
            "type": "heatmap"
           }
          ],
          "heatmapgl": [
           {
            "colorbar": {
             "outlinewidth": 0,
             "ticks": ""
            },
            "colorscale": [
             [
              0,
              "#0d0887"
             ],
             [
              0.1111111111111111,
              "#46039f"
             ],
             [
              0.2222222222222222,
              "#7201a8"
             ],
             [
              0.3333333333333333,
              "#9c179e"
             ],
             [
              0.4444444444444444,
              "#bd3786"
             ],
             [
              0.5555555555555556,
              "#d8576b"
             ],
             [
              0.6666666666666666,
              "#ed7953"
             ],
             [
              0.7777777777777778,
              "#fb9f3a"
             ],
             [
              0.8888888888888888,
              "#fdca26"
             ],
             [
              1,
              "#f0f921"
             ]
            ],
            "type": "heatmapgl"
           }
          ],
          "histogram": [
           {
            "marker": {
             "colorbar": {
              "outlinewidth": 0,
              "ticks": ""
             }
            },
            "type": "histogram"
           }
          ],
          "histogram2d": [
           {
            "colorbar": {
             "outlinewidth": 0,
             "ticks": ""
            },
            "colorscale": [
             [
              0,
              "#0d0887"
             ],
             [
              0.1111111111111111,
              "#46039f"
             ],
             [
              0.2222222222222222,
              "#7201a8"
             ],
             [
              0.3333333333333333,
              "#9c179e"
             ],
             [
              0.4444444444444444,
              "#bd3786"
             ],
             [
              0.5555555555555556,
              "#d8576b"
             ],
             [
              0.6666666666666666,
              "#ed7953"
             ],
             [
              0.7777777777777778,
              "#fb9f3a"
             ],
             [
              0.8888888888888888,
              "#fdca26"
             ],
             [
              1,
              "#f0f921"
             ]
            ],
            "type": "histogram2d"
           }
          ],
          "histogram2dcontour": [
           {
            "colorbar": {
             "outlinewidth": 0,
             "ticks": ""
            },
            "colorscale": [
             [
              0,
              "#0d0887"
             ],
             [
              0.1111111111111111,
              "#46039f"
             ],
             [
              0.2222222222222222,
              "#7201a8"
             ],
             [
              0.3333333333333333,
              "#9c179e"
             ],
             [
              0.4444444444444444,
              "#bd3786"
             ],
             [
              0.5555555555555556,
              "#d8576b"
             ],
             [
              0.6666666666666666,
              "#ed7953"
             ],
             [
              0.7777777777777778,
              "#fb9f3a"
             ],
             [
              0.8888888888888888,
              "#fdca26"
             ],
             [
              1,
              "#f0f921"
             ]
            ],
            "type": "histogram2dcontour"
           }
          ],
          "mesh3d": [
           {
            "colorbar": {
             "outlinewidth": 0,
             "ticks": ""
            },
            "type": "mesh3d"
           }
          ],
          "parcoords": [
           {
            "line": {
             "colorbar": {
              "outlinewidth": 0,
              "ticks": ""
             }
            },
            "type": "parcoords"
           }
          ],
          "pie": [
           {
            "automargin": true,
            "type": "pie"
           }
          ],
          "scatter": [
           {
            "marker": {
             "colorbar": {
              "outlinewidth": 0,
              "ticks": ""
             }
            },
            "type": "scatter"
           }
          ],
          "scatter3d": [
           {
            "line": {
             "colorbar": {
              "outlinewidth": 0,
              "ticks": ""
             }
            },
            "marker": {
             "colorbar": {
              "outlinewidth": 0,
              "ticks": ""
             }
            },
            "type": "scatter3d"
           }
          ],
          "scattercarpet": [
           {
            "marker": {
             "colorbar": {
              "outlinewidth": 0,
              "ticks": ""
             }
            },
            "type": "scattercarpet"
           }
          ],
          "scattergeo": [
           {
            "marker": {
             "colorbar": {
              "outlinewidth": 0,
              "ticks": ""
             }
            },
            "type": "scattergeo"
           }
          ],
          "scattergl": [
           {
            "marker": {
             "colorbar": {
              "outlinewidth": 0,
              "ticks": ""
             }
            },
            "type": "scattergl"
           }
          ],
          "scattermapbox": [
           {
            "marker": {
             "colorbar": {
              "outlinewidth": 0,
              "ticks": ""
             }
            },
            "type": "scattermapbox"
           }
          ],
          "scatterpolar": [
           {
            "marker": {
             "colorbar": {
              "outlinewidth": 0,
              "ticks": ""
             }
            },
            "type": "scatterpolar"
           }
          ],
          "scatterpolargl": [
           {
            "marker": {
             "colorbar": {
              "outlinewidth": 0,
              "ticks": ""
             }
            },
            "type": "scatterpolargl"
           }
          ],
          "scatterternary": [
           {
            "marker": {
             "colorbar": {
              "outlinewidth": 0,
              "ticks": ""
             }
            },
            "type": "scatterternary"
           }
          ],
          "surface": [
           {
            "colorbar": {
             "outlinewidth": 0,
             "ticks": ""
            },
            "colorscale": [
             [
              0,
              "#0d0887"
             ],
             [
              0.1111111111111111,
              "#46039f"
             ],
             [
              0.2222222222222222,
              "#7201a8"
             ],
             [
              0.3333333333333333,
              "#9c179e"
             ],
             [
              0.4444444444444444,
              "#bd3786"
             ],
             [
              0.5555555555555556,
              "#d8576b"
             ],
             [
              0.6666666666666666,
              "#ed7953"
             ],
             [
              0.7777777777777778,
              "#fb9f3a"
             ],
             [
              0.8888888888888888,
              "#fdca26"
             ],
             [
              1,
              "#f0f921"
             ]
            ],
            "type": "surface"
           }
          ],
          "table": [
           {
            "cells": {
             "fill": {
              "color": "#EBF0F8"
             },
             "line": {
              "color": "white"
             }
            },
            "header": {
             "fill": {
              "color": "#C8D4E3"
             },
             "line": {
              "color": "white"
             }
            },
            "type": "table"
           }
          ]
         },
         "layout": {
          "annotationdefaults": {
           "arrowcolor": "#2a3f5f",
           "arrowhead": 0,
           "arrowwidth": 1
          },
          "autotypenumbers": "strict",
          "coloraxis": {
           "colorbar": {
            "outlinewidth": 0,
            "ticks": ""
           }
          },
          "colorscale": {
           "diverging": [
            [
             0,
             "#8e0152"
            ],
            [
             0.1,
             "#c51b7d"
            ],
            [
             0.2,
             "#de77ae"
            ],
            [
             0.3,
             "#f1b6da"
            ],
            [
             0.4,
             "#fde0ef"
            ],
            [
             0.5,
             "#f7f7f7"
            ],
            [
             0.6,
             "#e6f5d0"
            ],
            [
             0.7,
             "#b8e186"
            ],
            [
             0.8,
             "#7fbc41"
            ],
            [
             0.9,
             "#4d9221"
            ],
            [
             1,
             "#276419"
            ]
           ],
           "sequential": [
            [
             0,
             "#0d0887"
            ],
            [
             0.1111111111111111,
             "#46039f"
            ],
            [
             0.2222222222222222,
             "#7201a8"
            ],
            [
             0.3333333333333333,
             "#9c179e"
            ],
            [
             0.4444444444444444,
             "#bd3786"
            ],
            [
             0.5555555555555556,
             "#d8576b"
            ],
            [
             0.6666666666666666,
             "#ed7953"
            ],
            [
             0.7777777777777778,
             "#fb9f3a"
            ],
            [
             0.8888888888888888,
             "#fdca26"
            ],
            [
             1,
             "#f0f921"
            ]
           ],
           "sequentialminus": [
            [
             0,
             "#0d0887"
            ],
            [
             0.1111111111111111,
             "#46039f"
            ],
            [
             0.2222222222222222,
             "#7201a8"
            ],
            [
             0.3333333333333333,
             "#9c179e"
            ],
            [
             0.4444444444444444,
             "#bd3786"
            ],
            [
             0.5555555555555556,
             "#d8576b"
            ],
            [
             0.6666666666666666,
             "#ed7953"
            ],
            [
             0.7777777777777778,
             "#fb9f3a"
            ],
            [
             0.8888888888888888,
             "#fdca26"
            ],
            [
             1,
             "#f0f921"
            ]
           ]
          },
          "colorway": [
           "#636efa",
           "#EF553B",
           "#00cc96",
           "#ab63fa",
           "#FFA15A",
           "#19d3f3",
           "#FF6692",
           "#B6E880",
           "#FF97FF",
           "#FECB52"
          ],
          "font": {
           "color": "#2a3f5f"
          },
          "geo": {
           "bgcolor": "white",
           "lakecolor": "white",
           "landcolor": "#E5ECF6",
           "showlakes": true,
           "showland": true,
           "subunitcolor": "white"
          },
          "hoverlabel": {
           "align": "left"
          },
          "hovermode": "closest",
          "mapbox": {
           "style": "light"
          },
          "paper_bgcolor": "white",
          "plot_bgcolor": "#E5ECF6",
          "polar": {
           "angularaxis": {
            "gridcolor": "white",
            "linecolor": "white",
            "ticks": ""
           },
           "bgcolor": "#E5ECF6",
           "radialaxis": {
            "gridcolor": "white",
            "linecolor": "white",
            "ticks": ""
           }
          },
          "scene": {
           "xaxis": {
            "backgroundcolor": "#E5ECF6",
            "gridcolor": "white",
            "gridwidth": 2,
            "linecolor": "white",
            "showbackground": true,
            "ticks": "",
            "zerolinecolor": "white"
           },
           "yaxis": {
            "backgroundcolor": "#E5ECF6",
            "gridcolor": "white",
            "gridwidth": 2,
            "linecolor": "white",
            "showbackground": true,
            "ticks": "",
            "zerolinecolor": "white"
           },
           "zaxis": {
            "backgroundcolor": "#E5ECF6",
            "gridcolor": "white",
            "gridwidth": 2,
            "linecolor": "white",
            "showbackground": true,
            "ticks": "",
            "zerolinecolor": "white"
           }
          },
          "shapedefaults": {
           "line": {
            "color": "#2a3f5f"
           }
          },
          "ternary": {
           "aaxis": {
            "gridcolor": "white",
            "linecolor": "white",
            "ticks": ""
           },
           "baxis": {
            "gridcolor": "white",
            "linecolor": "white",
            "ticks": ""
           },
           "bgcolor": "#E5ECF6",
           "caxis": {
            "gridcolor": "white",
            "linecolor": "white",
            "ticks": ""
           }
          },
          "title": {
           "x": 0.05
          },
          "xaxis": {
           "automargin": true,
           "gridcolor": "white",
           "linecolor": "white",
           "ticks": "",
           "title": {
            "standoff": 15
           },
           "zerolinecolor": "white",
           "zerolinewidth": 2
          },
          "yaxis": {
           "automargin": true,
           "gridcolor": "white",
           "linecolor": "white",
           "ticks": "",
           "title": {
            "standoff": 15
           },
           "zerolinecolor": "white",
           "zerolinewidth": 2
          }
         }
        },
        "xaxis": {
         "linecolor": "#d9d9d9",
         "mirror": true,
         "title": {
          "text": "$k_{c,0}$"
         }
        },
        "yaxis": {
         "linecolor": "#d9d9d9",
         "mirror": true,
         "title": {
          "text": "$k_{c,1}$"
         }
        }
       }
      },
      "text/html": "<div>                            <div id=\"3efbc08a-d1ef-47eb-8900-489106caa050\" class=\"plotly-graph-div\" style=\"height:525px; width:100%;\"></div>            <script type=\"text/javascript\">                require([\"plotly\"], function(Plotly) {                    window.PLOTLYENV=window.PLOTLYENV || {};                                    if (document.getElementById(\"3efbc08a-d1ef-47eb-8900-489106caa050\")) {                    Plotly.newPlot(                        \"3efbc08a-d1ef-47eb-8900-489106caa050\",                        [{\"marker\": {\"color\": \"rgba(48, 217, 189, 1)\"}, \"mode\": \"markers+text\", \"name\": \"citations\", \"text\": [\"Denmark\", \"Jordan\", \"Zambia\", \"Uzbekistan\", \"Ukraine\", \"India\", \"Afghanistan\", \"GuineaBissau\", \"Senegal\", \"Bermuda\", \"Eq.Guinea\", \"EEC NES\", \"Israel\", \"Turkmenistan\", \"Oth.Oceania\", \"Algeria\", \"Canada\", \"Finland\", \"Thailand\", \"Gambia\", \"Areas NES\", \"Afr.Other NS\", \"Czech Rep\", \"Oman\", \"Burkina Faso\", \"France,Monac\", \"Tanzania\", \"Ecuador\", \"Dominican Rp\", \"Burundi\", \"Estonia\", \"Germany\", \"Libya\", \"Lebanon\", \"Nicaragua\", \"Benin\", \"Bahrain\", \"Eur.Other NE\", \"Congo\", \"Kazakhstan\", \"Kuwait\", \"South Africa\", \"Iraq\", \"CACM NES\", \"Panama\", \"Chad\", \"China HK SAR\", \"Yugoslavia\", \"UK\", \"Madagascar\", \"Kyrgyzstan\", \"Cuba\", \"Russian Fed\", \"Bosnia Herzg\", \"St.Helena\", \"Sri Lanka\", \"US NES\", \"Djibouti\", \"Mozambique\", \"Venezuela\", \"Qatar\", \"Asia West NS\", \"Seychelles\", \"Hungary\", \"Mongolia\", \"Neutral Zone\", \"Korea D P Rp\", \"Taiwan\", \"Bolivia\", \"Guadeloupe\", \"Dem.Rp.Congo\", \"Romania\", \"Belgium-Lux\", \"Myanmar\", \"Samoa\", \"Sierra Leone\", \"Uganda\", \"Mexico\", \"Lithuania\", \"Italy\", \"Papua N.Guin\", \"Turkey\", \"Rwanda\", \"Bahamas\", \"Georgia\", \"Netherlands\", \"Costa Rica\", \"Falkland Is\", \"Albania\", \"Austria\", \"Kiribati\", \"Cent.Afr.Rep\", \"Switz.Liecht\", \"Niger\", \"Belize\", \"Poland\", \"New Calednia\", \"Cambodia\", \"Lao P.Dem.R\", \"Peru\", \"Ethiopia\", \"Singapore\", \"Yemen\", \"Armenia\", \"New Zealand\", \"Japan\", \"China MC SAR\", \"Haiti\", \"Angola\", \"Gibraltar\", \"Iceland\", \"Australia\", \"USA\", \"Guyana\", \"Greenland\", \"Rep Moldova\", \"Togo\", \"Egypt\", \"Gabon\", \"Kenya\", \"Latvia\", \"Croatia\", \"Bangladesh\", \"Ghana\", \"Cyprus\", \"Mauritania\", \"Tunisia\", \"Bulgaria\", \"Indonesia\", \"Portugal\", \"Chile\", \"El Salvador\", \"Saudi Arabia\", \"China FTZ\", \"Barbados\", \"Fiji\", \"Slovenia\", \"Mauritius\", \"China\", \"Nepal\", \"Zimbabwe\", \"Philippines\", \"Mali\", \"Iran\", \"Guatemala\", \"Untd Arab Em\", \"Occ.Pal.Terr\", \"Azerbaijan\", \"Liberia\", \"Malaysia\", \"Slovakia\", \"St.Kt-Nev-An\", \"Br.Antr.Terr\", \"Fr.Guiana\", \"Somalia\", \"Suriname\", \"Ireland\", \"Tajikistan\", \"Guinea\", \"Trinidad Tbg\", \"Brazil\", \"Jamaica\", \"Cameroon\", \"Viet Nam\", \"Uruguay\", \"Belarus\", \"Morocco\", \"TFYR Macedna\", \"Fr Ind O\", \"Cote Divoire\", \"Korea Rep.\", \"Argentina\", \"Nigeria\", \"Neth.Ant.Aru\", \"Sweden\", \"Syria\", \"Colombia\", \"Sudan\", \"Norway\", \"Honduras\", \"Spain\", \"Malta\", \"Asia NES\", \"Greece\", \"Malawi\", \"Pakistan\", \"St.Pierre Mq\", \"Paraguay\"], \"type\": \"scatter\", \"x\": [132, 138, 129, 119, 126, 133, 124, 145, 122, 113, 125, 152, 109, 150, 120, 137, 141, 103, 130, 128, 125, 112, 115, 118, 156, 123, 120, 146, 122, 121, 145, 126, 112, 114, 132, 132, 124, 128, 140, 117, 143, 119, 145, 143, 151, 123, 116, 139, 136, 133, 123, 104, 122, 119, 124, 136, 128, 116, 138, 141, 125, 147, 119, 113, 133, 129, 120, 128, 127, 126, 130, 138, 130, 121, 114, 133, 138, 146, 108, 115, 137, 114, 116, 137, 134, 131, 121, 122, 120, 118, 141, 127, 126, 128, 119, 105, 143, 130, 141, 126, 115, 130, 144, 139, 126, 121, 132, 122, 151, 119, 139, 138, 124, 136, 130, 134, 128, 118, 123, 127, 128, 133, 131, 150, 131, 122, 132, 131, 132, 110, 126, 140, 151, 132, 109, 143, 145, 116, 145, 144, 137, 119, 139, 122, 137, 134, 115, 131, 125, 119, 114, 132, 122, 131, 125, 115, 116, 136, 136, 144, 135, 118, 131, 125, 149, 139, 110, 142, 129, 128, 136, 126, 119, 123, 106, 128, 143, 133, 124, 114, 106, 148, 128, 140, 131, 136, 124, 135], \"y\": [17.833333333333332, 17.644927536231883, 17.751937984496124, 17.285714285714285, 17.72222222222222, 17.51127819548872, 17.241935483870968, 18.255172413793105, 18.065573770491802, 17.964601769911503, 18.008, 17.723684210526315, 18.761467889908257, 17.80666666666667, 17.35, 17.875912408759124, 16.078014184397162, 17.737864077669904, 17.56153846153846, 17.75, 18.008, 17.598214285714285, 17.843478260869563, 17.847457627118644, 16.935897435897434, 17.715447154471544, 16.9, 18.602739726027398, 17.631147540983605, 18.75206611570248, 16.579310344827586, 17.563492063492063, 17.883928571428573, 18.017543859649123, 17.856060606060606, 18.37121212121212, 17.919354838709676, 17.0078125, 17.47142857142857, 18.863247863247864, 17.60839160839161, 17.756302521008404, 18.137931034482758, 16.636363636363637, 17.781456953642383, 18.0, 17.79310344827586, 18.906474820143885, 17.522058823529413, 17.32330827067669, 18.365853658536587, 19.153846153846153, 17.92622950819672, 17.554621848739497, 17.64516129032258, 18.235294117647058, 17.34375, 18.32758620689655, 17.39855072463768, 17.49645390070922, 18.0, 17.931972789115648, 17.428571428571427, 17.141592920353983, 18.42105263157895, 17.13953488372093, 18.441666666666666, 17.2265625, 16.79527559055118, 16.99206349206349, 17.838461538461537, 17.557971014492754, 18.423076923076923, 18.272727272727273, 17.736842105263158, 18.172932330827066, 18.014492753623188, 17.027397260273972, 17.12037037037037, 17.556521739130435, 17.62773722627737, 17.93859649122807, 18.224137931034484, 18.05109489051095, 17.79850746268657, 17.625954198473284, 18.297520661157026, 17.15573770491803, 17.033333333333335, 17.56779661016949, 18.48936170212766, 18.165354330708663, 17.896825396825395, 17.59375, 18.07563025210084, 18.742857142857144, 17.062937062937063, 17.623076923076923, 18.333333333333332, 17.357142857142858, 17.669565217391305, 17.3, 17.631944444444443, 18.309352517985612, 17.3015873015873, 17.06611570247934, 17.257575757575758, 17.84426229508197, 17.794701986754966, 18.462184873949578, 17.97841726618705, 18.58695652173913, 17.89516129032258, 17.25735294117647, 18.284615384615385, 17.507462686567163, 17.4609375, 17.516949152542374, 18.15447154471545, 17.590551181102363, 18.1328125, 16.93233082706767, 17.30534351145038, 17.873333333333335, 17.022900763358777, 18.237704918032787, 17.257575757575758, 17.404580152671755, 17.46212121212121, 18.054545454545455, 16.642857142857142, 17.85, 17.403973509933774, 17.545454545454547, 17.93577981651376, 17.825174825174827, 18.17241379310345, 17.620689655172413, 18.248275862068965, 17.92361111111111, 17.503649635036496, 17.605042016806724, 17.697841726618705, 17.540983606557376, 17.153284671532848, 18.097014925373134, 17.678260869565218, 17.610687022900763, 17.464, 17.596638655462186, 18.333333333333332, 18.174242424242426, 17.639344262295083, 17.793893129770993, 17.408, 18.121739130434783, 17.370689655172413, 17.558823529411764, 17.955882352941178, 17.25, 17.22962962962963, 17.728813559322035, 17.954198473282442, 17.44, 18.369127516778523, 17.72661870503597, 17.863636363636363, 18.169014084507044, 17.852713178294575, 18.53125, 17.25, 17.761904761904763, 17.73949579831933, 16.723577235772357, 18.433962264150942, 17.6015625, 17.503496503496503, 17.0, 17.911290322580644, 17.850877192982455, 17.72641509433962, 17.263513513513512, 18.3671875, 17.714285714285715, 17.61832061068702, 17.823529411764707, 17.419354838709676, 18.31851851851852]}],                        {\"plot_bgcolor\": \"white\", \"template\": {\"data\": {\"bar\": [{\"error_x\": {\"color\": \"#2a3f5f\"}, \"error_y\": {\"color\": \"#2a3f5f\"}, \"marker\": {\"line\": {\"color\": \"#E5ECF6\", \"width\": 0.5}}, \"type\": \"bar\"}], \"barpolar\": [{\"marker\": {\"line\": {\"color\": \"#E5ECF6\", \"width\": 0.5}}, \"type\": \"barpolar\"}], \"carpet\": [{\"aaxis\": {\"endlinecolor\": \"#2a3f5f\", \"gridcolor\": \"white\", \"linecolor\": \"white\", \"minorgridcolor\": \"white\", \"startlinecolor\": \"#2a3f5f\"}, \"baxis\": {\"endlinecolor\": \"#2a3f5f\", \"gridcolor\": \"white\", \"linecolor\": \"white\", \"minorgridcolor\": \"white\", \"startlinecolor\": \"#2a3f5f\"}, \"type\": \"carpet\"}], \"choropleth\": [{\"colorbar\": {\"outlinewidth\": 0, \"ticks\": \"\"}, \"type\": \"choropleth\"}], \"contour\": [{\"colorbar\": {\"outlinewidth\": 0, \"ticks\": \"\"}, \"colorscale\": [[0.0, \"#0d0887\"], [0.1111111111111111, \"#46039f\"], [0.2222222222222222, \"#7201a8\"], [0.3333333333333333, \"#9c179e\"], [0.4444444444444444, \"#bd3786\"], [0.5555555555555556, \"#d8576b\"], [0.6666666666666666, \"#ed7953\"], [0.7777777777777778, \"#fb9f3a\"], [0.8888888888888888, \"#fdca26\"], [1.0, \"#f0f921\"]], \"type\": \"contour\"}], \"contourcarpet\": [{\"colorbar\": {\"outlinewidth\": 0, \"ticks\": \"\"}, \"type\": \"contourcarpet\"}], \"heatmap\": [{\"colorbar\": {\"outlinewidth\": 0, \"ticks\": \"\"}, \"colorscale\": [[0.0, \"#0d0887\"], [0.1111111111111111, \"#46039f\"], [0.2222222222222222, \"#7201a8\"], [0.3333333333333333, \"#9c179e\"], [0.4444444444444444, \"#bd3786\"], [0.5555555555555556, \"#d8576b\"], [0.6666666666666666, \"#ed7953\"], [0.7777777777777778, \"#fb9f3a\"], [0.8888888888888888, \"#fdca26\"], [1.0, \"#f0f921\"]], \"type\": \"heatmap\"}], \"heatmapgl\": [{\"colorbar\": {\"outlinewidth\": 0, \"ticks\": \"\"}, \"colorscale\": [[0.0, \"#0d0887\"], [0.1111111111111111, \"#46039f\"], [0.2222222222222222, \"#7201a8\"], [0.3333333333333333, \"#9c179e\"], [0.4444444444444444, \"#bd3786\"], [0.5555555555555556, \"#d8576b\"], [0.6666666666666666, \"#ed7953\"], [0.7777777777777778, \"#fb9f3a\"], [0.8888888888888888, \"#fdca26\"], [1.0, \"#f0f921\"]], \"type\": \"heatmapgl\"}], \"histogram\": [{\"marker\": {\"colorbar\": {\"outlinewidth\": 0, \"ticks\": \"\"}}, \"type\": \"histogram\"}], \"histogram2d\": [{\"colorbar\": {\"outlinewidth\": 0, \"ticks\": \"\"}, \"colorscale\": [[0.0, \"#0d0887\"], [0.1111111111111111, \"#46039f\"], [0.2222222222222222, \"#7201a8\"], [0.3333333333333333, \"#9c179e\"], [0.4444444444444444, \"#bd3786\"], [0.5555555555555556, \"#d8576b\"], [0.6666666666666666, \"#ed7953\"], [0.7777777777777778, \"#fb9f3a\"], [0.8888888888888888, \"#fdca26\"], [1.0, \"#f0f921\"]], \"type\": \"histogram2d\"}], \"histogram2dcontour\": [{\"colorbar\": {\"outlinewidth\": 0, \"ticks\": \"\"}, \"colorscale\": [[0.0, \"#0d0887\"], [0.1111111111111111, \"#46039f\"], [0.2222222222222222, \"#7201a8\"], [0.3333333333333333, \"#9c179e\"], [0.4444444444444444, \"#bd3786\"], [0.5555555555555556, \"#d8576b\"], [0.6666666666666666, \"#ed7953\"], [0.7777777777777778, \"#fb9f3a\"], [0.8888888888888888, \"#fdca26\"], [1.0, \"#f0f921\"]], \"type\": \"histogram2dcontour\"}], \"mesh3d\": [{\"colorbar\": {\"outlinewidth\": 0, \"ticks\": \"\"}, \"type\": \"mesh3d\"}], \"parcoords\": [{\"line\": {\"colorbar\": {\"outlinewidth\": 0, \"ticks\": \"\"}}, \"type\": \"parcoords\"}], \"pie\": [{\"automargin\": true, \"type\": \"pie\"}], \"scatter\": [{\"marker\": {\"colorbar\": {\"outlinewidth\": 0, \"ticks\": \"\"}}, \"type\": \"scatter\"}], \"scatter3d\": [{\"line\": {\"colorbar\": {\"outlinewidth\": 0, \"ticks\": \"\"}}, \"marker\": {\"colorbar\": {\"outlinewidth\": 0, \"ticks\": \"\"}}, \"type\": \"scatter3d\"}], \"scattercarpet\": [{\"marker\": {\"colorbar\": {\"outlinewidth\": 0, \"ticks\": \"\"}}, \"type\": \"scattercarpet\"}], \"scattergeo\": [{\"marker\": {\"colorbar\": {\"outlinewidth\": 0, \"ticks\": \"\"}}, \"type\": \"scattergeo\"}], \"scattergl\": [{\"marker\": {\"colorbar\": {\"outlinewidth\": 0, \"ticks\": \"\"}}, \"type\": \"scattergl\"}], \"scattermapbox\": [{\"marker\": {\"colorbar\": {\"outlinewidth\": 0, \"ticks\": \"\"}}, \"type\": \"scattermapbox\"}], \"scatterpolar\": [{\"marker\": {\"colorbar\": {\"outlinewidth\": 0, \"ticks\": \"\"}}, \"type\": \"scatterpolar\"}], \"scatterpolargl\": [{\"marker\": {\"colorbar\": {\"outlinewidth\": 0, \"ticks\": \"\"}}, \"type\": \"scatterpolargl\"}], \"scatterternary\": [{\"marker\": {\"colorbar\": {\"outlinewidth\": 0, \"ticks\": \"\"}}, \"type\": \"scatterternary\"}], \"surface\": [{\"colorbar\": {\"outlinewidth\": 0, \"ticks\": \"\"}, \"colorscale\": [[0.0, \"#0d0887\"], [0.1111111111111111, \"#46039f\"], [0.2222222222222222, \"#7201a8\"], [0.3333333333333333, \"#9c179e\"], [0.4444444444444444, \"#bd3786\"], [0.5555555555555556, \"#d8576b\"], [0.6666666666666666, \"#ed7953\"], [0.7777777777777778, \"#fb9f3a\"], [0.8888888888888888, \"#fdca26\"], [1.0, \"#f0f921\"]], \"type\": \"surface\"}], \"table\": [{\"cells\": {\"fill\": {\"color\": \"#EBF0F8\"}, \"line\": {\"color\": \"white\"}}, \"header\": {\"fill\": {\"color\": \"#C8D4E3\"}, \"line\": {\"color\": \"white\"}}, \"type\": \"table\"}]}, \"layout\": {\"annotationdefaults\": {\"arrowcolor\": \"#2a3f5f\", \"arrowhead\": 0, \"arrowwidth\": 1}, \"autotypenumbers\": \"strict\", \"coloraxis\": {\"colorbar\": {\"outlinewidth\": 0, \"ticks\": \"\"}}, \"colorscale\": {\"diverging\": [[0, \"#8e0152\"], [0.1, \"#c51b7d\"], [0.2, \"#de77ae\"], [0.3, \"#f1b6da\"], [0.4, \"#fde0ef\"], [0.5, \"#f7f7f7\"], [0.6, \"#e6f5d0\"], [0.7, \"#b8e186\"], [0.8, \"#7fbc41\"], [0.9, \"#4d9221\"], [1, \"#276419\"]], \"sequential\": [[0.0, \"#0d0887\"], [0.1111111111111111, \"#46039f\"], [0.2222222222222222, \"#7201a8\"], [0.3333333333333333, \"#9c179e\"], [0.4444444444444444, \"#bd3786\"], [0.5555555555555556, \"#d8576b\"], [0.6666666666666666, \"#ed7953\"], [0.7777777777777778, \"#fb9f3a\"], [0.8888888888888888, \"#fdca26\"], [1.0, \"#f0f921\"]], \"sequentialminus\": [[0.0, \"#0d0887\"], [0.1111111111111111, \"#46039f\"], [0.2222222222222222, \"#7201a8\"], [0.3333333333333333, \"#9c179e\"], [0.4444444444444444, \"#bd3786\"], [0.5555555555555556, \"#d8576b\"], [0.6666666666666666, \"#ed7953\"], [0.7777777777777778, \"#fb9f3a\"], [0.8888888888888888, \"#fdca26\"], [1.0, \"#f0f921\"]]}, \"colorway\": [\"#636efa\", \"#EF553B\", \"#00cc96\", \"#ab63fa\", \"#FFA15A\", \"#19d3f3\", \"#FF6692\", \"#B6E880\", \"#FF97FF\", \"#FECB52\"], \"font\": {\"color\": \"#2a3f5f\"}, \"geo\": {\"bgcolor\": \"white\", \"lakecolor\": \"white\", \"landcolor\": \"#E5ECF6\", \"showlakes\": true, \"showland\": true, \"subunitcolor\": \"white\"}, \"hoverlabel\": {\"align\": \"left\"}, \"hovermode\": \"closest\", \"mapbox\": {\"style\": \"light\"}, \"paper_bgcolor\": \"white\", \"plot_bgcolor\": \"#E5ECF6\", \"polar\": {\"angularaxis\": {\"gridcolor\": \"white\", \"linecolor\": \"white\", \"ticks\": \"\"}, \"bgcolor\": \"#E5ECF6\", \"radialaxis\": {\"gridcolor\": \"white\", \"linecolor\": \"white\", \"ticks\": \"\"}}, \"scene\": {\"xaxis\": {\"backgroundcolor\": \"#E5ECF6\", \"gridcolor\": \"white\", \"gridwidth\": 2, \"linecolor\": \"white\", \"showbackground\": true, \"ticks\": \"\", \"zerolinecolor\": \"white\"}, \"yaxis\": {\"backgroundcolor\": \"#E5ECF6\", \"gridcolor\": \"white\", \"gridwidth\": 2, \"linecolor\": \"white\", \"showbackground\": true, \"ticks\": \"\", \"zerolinecolor\": \"white\"}, \"zaxis\": {\"backgroundcolor\": \"#E5ECF6\", \"gridcolor\": \"white\", \"gridwidth\": 2, \"linecolor\": \"white\", \"showbackground\": true, \"ticks\": \"\", \"zerolinecolor\": \"white\"}}, \"shapedefaults\": {\"line\": {\"color\": \"#2a3f5f\"}}, \"ternary\": {\"aaxis\": {\"gridcolor\": \"white\", \"linecolor\": \"white\", \"ticks\": \"\"}, \"baxis\": {\"gridcolor\": \"white\", \"linecolor\": \"white\", \"ticks\": \"\"}, \"bgcolor\": \"#E5ECF6\", \"caxis\": {\"gridcolor\": \"white\", \"linecolor\": \"white\", \"ticks\": \"\"}}, \"title\": {\"x\": 0.05}, \"xaxis\": {\"automargin\": true, \"gridcolor\": \"white\", \"linecolor\": \"white\", \"ticks\": \"\", \"title\": {\"standoff\": 15}, \"zerolinecolor\": \"white\", \"zerolinewidth\": 2}, \"yaxis\": {\"automargin\": true, \"gridcolor\": \"white\", \"linecolor\": \"white\", \"ticks\": \"\", \"title\": {\"standoff\": 15}, \"zerolinecolor\": \"white\", \"zerolinewidth\": 2}}}, \"xaxis\": {\"linecolor\": \"#d9d9d9\", \"mirror\": true, \"title\": {\"text\": \"$k_{c,0}$\"}}, \"yaxis\": {\"linecolor\": \"#d9d9d9\", \"mirror\": true, \"title\": {\"text\": \"$k_{c,1}$\"}}},                        {\"responsive\": true}                    ).then(function(){\n                            \nvar gd = document.getElementById('3efbc08a-d1ef-47eb-8900-489106caa050');\nvar x = new MutationObserver(function (mutations, observer) {{\n        var display = window.getComputedStyle(gd).display;\n        if (!display || display === 'none') {{\n            console.log([gd, 'removed!']);\n            Plotly.purge(gd);\n            observer.disconnect();\n        }}\n}});\n\n// Listen for the removal of the full notebook cells\nvar notebookContainer = gd.closest('#notebook-container');\nif (notebookContainer) {{\n    x.observe(notebookContainer, {childList: true});\n}}\n\n// Listen for the clearing of the current output cell\nvar outputEl = gd.closest('.output');\nif (outputEl) {{\n    x.observe(outputEl, {childList: true});\n}}\n\n                        })                };                });            </script>        </div>"
     },
     "metadata": {}
    }
   ],
   "source": [
    "idf = mcp\n",
    "\n",
    "k = dict()\n",
    "for product in idf.sitc4.unique():\n",
    "    mdf = idf[idf.sitc4==product]\n",
    "    k[product]=[len(mdf)]\n",
    "    if len(mdf)==0:\n",
    "        print(mdf)\n",
    "for country in idf.exporter.unique():\n",
    "    mdf = idf[idf.exporter==country]\n",
    "    k[country]=[len(mdf)]\n",
    "    \n",
    "\n",
    "for country in idf.exporter.unique():\n",
    "    mdf = idf[idf.exporter==country]\n",
    "    sum_kp = 0\n",
    "    for product in mdf.sitc4.unique():\n",
    "        sum_kp += k[product][0]\n",
    "    k[country].append(sum_kp/k[country][0])\n",
    "\n",
    "for product in idf.sitc4.unique():\n",
    "    mdf = idf[idf.sitc4==product]\n",
    "    sum_kc = 0\n",
    "    for country in mdf.exporter.unique():\n",
    "        sum_kc += k[country][0]\n",
    "    k[product].append(sum_kc/k[product][0])\n",
    "\n",
    "for country in idf.exporter.unique():\n",
    "    mdf = idf[idf.exporter==country]\n",
    "    sum_kp = 0\n",
    "    for product in mdf.sitc4.unique():\n",
    "        sum_kp += k[product][1]\n",
    "    k[country].append(sum_kp/k[country][0])\n",
    "\n",
    "for product in idf.sitc4.unique():\n",
    "    mdf = idf[idf.sitc4==product]\n",
    "    sum_kc = 0\n",
    "    for country in mdf.exporter.unique():\n",
    "        sum_kc += k[country][1]\n",
    "    k[product].append(sum_kc/k[product][0])\n",
    "    \n",
    "    \n",
    "    \n",
    "country_list = list(idf.exporter.unique())\n",
    "country_list.remove(\"World\")\n",
    "\n",
    "\n",
    "kdf = pd.DataFrame({'country_name': country_list,\n",
    "                    'kc0': list(map(lambda x: k[x][0],country_list)),\n",
    "                   'kc1': list(map(lambda x: k[x][1],country_list))})\n",
    "\n",
    "layout = dict(plot_bgcolor='white', xaxis=dict(title='$k_{c,0}$', linecolor='#d9d9d9', mirror=True),\n",
    "              yaxis=dict(title='$k_{c,1}$', linecolor='#d9d9d9', mirror=True))\n",
    "\n",
    "data = go.Scatter(x=kdf['kc0'],\n",
    "                  y=kdf['kc1'],\n",
    "                  text=kdf['country_name'],\n",
    "                  mode='markers+text',\n",
    "                  marker=dict(color='rgba(48, 217, 189, 1)'),\n",
    "                  name='citations')\n",
    "\n",
    "fig = go.Figure(data=data, layout=layout)\n",
    "\n",
    "fig.show()"
   ]
  },
  {
   "cell_type": "code",
   "execution_count": 37,
   "metadata": {},
   "outputs": [
    {
     "output_type": "execute_result",
     "data": {
      "text/plain": [
       "[146, 17.027397260273972, 115.19806774550422]"
      ]
     },
     "metadata": {},
     "execution_count": 37
    }
   ],
   "source": [
    "k[\"Mexico\"]"
   ]
  },
  {
   "cell_type": "code",
   "execution_count": null,
   "metadata": {},
   "outputs": [],
   "source": []
  },
  {
   "cell_type": "code",
   "execution_count": null,
   "metadata": {},
   "outputs": [],
   "source": []
  },
  {
   "cell_type": "code",
   "execution_count": null,
   "metadata": {},
   "outputs": [],
   "source": []
  },
  {
   "cell_type": "code",
   "execution_count": null,
   "metadata": {},
   "outputs": [],
   "source": []
  },
  {
   "cell_type": "code",
   "execution_count": null,
   "metadata": {},
   "outputs": [],
   "source": []
  },
  {
   "cell_type": "code",
   "execution_count": null,
   "metadata": {},
   "outputs": [],
   "source": []
  },
  {
   "cell_type": "code",
   "execution_count": null,
   "metadata": {},
   "outputs": [],
   "source": []
  },
  {
   "cell_type": "code",
   "execution_count": null,
   "metadata": {},
   "outputs": [],
   "source": []
  },
  {
   "cell_type": "code",
   "execution_count": null,
   "metadata": {},
   "outputs": [],
   "source": []
  },
  {
   "cell_type": "code",
   "execution_count": null,
   "metadata": {},
   "outputs": [],
   "source": []
  },
  {
   "cell_type": "code",
   "execution_count": null,
   "metadata": {},
   "outputs": [],
   "source": []
  },
  {
   "cell_type": "code",
   "execution_count": null,
   "metadata": {},
   "outputs": [],
   "source": []
  }
 ],
 "metadata": {
  "kernelspec": {
   "display_name": "datakv",
   "language": "python",
   "name": "datakv"
  },
  "language_info": {
   "codemirror_mode": {
    "name": "ipython",
    "version": 3
   },
   "file_extension": ".py",
   "mimetype": "text/x-python",
   "name": "python",
   "nbconvert_exporter": "python",
   "pygments_lexer": "ipython3",
   "version": "3.9.1-final"
  }
 },
 "nbformat": 4,
 "nbformat_minor": 4
}