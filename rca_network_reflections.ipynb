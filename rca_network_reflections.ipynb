{
 "cells": [
  {
   "cell_type": "code",
   "execution_count": 2,
   "metadata": {},
   "outputs": [
    {
     "data": {
      "text/html": [
       "        <script type=\"text/javascript\">\n",
       "        window.PlotlyConfig = {MathJaxConfig: 'local'};\n",
       "        if (window.MathJax) {MathJax.Hub.Config({SVG: {font: \"STIX-Web\"}});}\n",
       "        if (typeof require !== 'undefined') {\n",
       "        require.undef(\"plotly\");\n",
       "        requirejs.config({\n",
       "            paths: {\n",
       "                'plotly': ['https://cdn.plot.ly/plotly-latest.min']\n",
       "            }\n",
       "        });\n",
       "        require(['plotly'], function(Plotly) {\n",
       "            window._Plotly = Plotly;\n",
       "        });\n",
       "        }\n",
       "        </script>\n",
       "        "
      ]
     },
     "metadata": {},
     "output_type": "display_data"
    }
   ],
   "source": [
    "import networkx as nx\n",
    "%matplotlib inline\n",
    "import numpy as np\n",
    "import pandas as pd\n",
    "import matplotlib.pyplot as plt\n",
    "import seaborn as sns\n",
    "\n",
    "import plotly\n",
    "from plotly.offline import download_plotlyjs, init_notebook_mode, plot, iplot\n",
    "import plotly.graph_objs as go\n",
    "import plotly.figure_factory as ff\n",
    "\n",
    "init_notebook_mode(connected=True)"
   ]
  },
  {
   "cell_type": "code",
   "execution_count": 71,
   "metadata": {},
   "outputs": [
    {
     "name": "stderr",
     "output_type": "stream",
     "text": [
      "/Users/francisco.villalobos/Library/Python/3.9/lib/python/site-packages/IPython/core/interactiveshell.py:3146: DtypeWarning:\n",
      "\n",
      "Columns (6) have mixed types.Specify dtype option on import or set low_memory=False.\n",
      "\n"
     ]
    }
   ],
   "source": [
    "df = pd.read_csv(\"data/wtf.csv\")\n",
    "df['sitc4'] = df['sitc4'].astype(str)\n",
    "del df['Unnamed: 0']\n",
    "\n",
    "gdf = df.groupby([\"sitc4\",\"exporter\"]).sum().reset_index()\n",
    "gdf = gdf[['sitc4','exporter','value']]\n",
    "\n",
    "rca_df = pd.read_csv(\"data/rca.csv\")\n",
    "del rca_df['Unnamed: 0']\n",
    "rca_df = rca_df.dropna(subset=['sitc4', 'exporter'])\n"
   ]
  },
  {
   "cell_type": "code",
   "execution_count": null,
   "metadata": {},
   "outputs": [],
   "source": []
  },
  {
   "cell_type": "markdown",
   "metadata": {},
   "source": [
    "# $M_{cp}$"
   ]
  },
  {
   "cell_type": "code",
   "execution_count": 98,
   "metadata": {},
   "outputs": [
    {
     "data": {
      "text/html": [
       "<div>\n",
       "<style scoped>\n",
       "    .dataframe tbody tr th:only-of-type {\n",
       "        vertical-align: middle;\n",
       "    }\n",
       "\n",
       "    .dataframe tbody tr th {\n",
       "        vertical-align: top;\n",
       "    }\n",
       "\n",
       "    .dataframe thead th {\n",
       "        text-align: right;\n",
       "    }\n",
       "</style>\n",
       "<table border=\"1\" class=\"dataframe\">\n",
       "  <thead>\n",
       "    <tr style=\"text-align: right;\">\n",
       "      <th></th>\n",
       "      <th>sitc4</th>\n",
       "      <th>exporter</th>\n",
       "      <th>value</th>\n",
       "      <th>rca</th>\n",
       "    </tr>\n",
       "  </thead>\n",
       "  <tbody>\n",
       "    <tr>\n",
       "      <th>1</th>\n",
       "      <td>0015</td>\n",
       "      <td>Areas NES</td>\n",
       "      <td>39012</td>\n",
       "      <td>23.301008</td>\n",
       "    </tr>\n",
       "    <tr>\n",
       "      <th>2</th>\n",
       "      <td>001X</td>\n",
       "      <td>Areas NES</td>\n",
       "      <td>30</td>\n",
       "      <td>54.200398</td>\n",
       "    </tr>\n",
       "    <tr>\n",
       "      <th>5</th>\n",
       "      <td>0141</td>\n",
       "      <td>Areas NES</td>\n",
       "      <td>158</td>\n",
       "      <td>1.791831</td>\n",
       "    </tr>\n",
       "    <tr>\n",
       "      <th>11</th>\n",
       "      <td>02XX</td>\n",
       "      <td>Areas NES</td>\n",
       "      <td>102</td>\n",
       "      <td>111.224206</td>\n",
       "    </tr>\n",
       "    <tr>\n",
       "      <th>18</th>\n",
       "      <td>0412</td>\n",
       "      <td>Areas NES</td>\n",
       "      <td>38224</td>\n",
       "      <td>4.208621</td>\n",
       "    </tr>\n",
       "    <tr>\n",
       "      <th>...</th>\n",
       "      <td>...</td>\n",
       "      <td>...</td>\n",
       "      <td>...</td>\n",
       "      <td>...</td>\n",
       "    </tr>\n",
       "    <tr>\n",
       "      <th>62398</th>\n",
       "      <td>7449</td>\n",
       "      <td>Eur.Other NE</td>\n",
       "      <td>496</td>\n",
       "      <td>9.559791</td>\n",
       "    </tr>\n",
       "    <tr>\n",
       "      <th>62399</th>\n",
       "      <td>7919</td>\n",
       "      <td>Eur.Other NE</td>\n",
       "      <td>2110</td>\n",
       "      <td>143.167907</td>\n",
       "    </tr>\n",
       "    <tr>\n",
       "      <th>62400</th>\n",
       "      <td>5416</td>\n",
       "      <td>CACM NES</td>\n",
       "      <td>518</td>\n",
       "      <td>553.623273</td>\n",
       "    </tr>\n",
       "    <tr>\n",
       "      <th>62401</th>\n",
       "      <td>6841</td>\n",
       "      <td>Br.Antr.Terr</td>\n",
       "      <td>2262</td>\n",
       "      <td>251.251165</td>\n",
       "    </tr>\n",
       "    <tr>\n",
       "      <th>62402</th>\n",
       "      <td>9310</td>\n",
       "      <td>Fr.Guiana</td>\n",
       "      <td>4258</td>\n",
       "      <td>57.410065</td>\n",
       "    </tr>\n",
       "  </tbody>\n",
       "</table>\n",
       "<p>24303 rows × 4 columns</p>\n",
       "</div>"
      ],
      "text/plain": [
       "      sitc4      exporter  value         rca\n",
       "1      0015     Areas NES  39012   23.301008\n",
       "2      001X     Areas NES     30   54.200398\n",
       "5      0141     Areas NES    158    1.791831\n",
       "11     02XX     Areas NES    102  111.224206\n",
       "18     0412     Areas NES  38224    4.208621\n",
       "...     ...           ...    ...         ...\n",
       "62398  7449  Eur.Other NE    496    9.559791\n",
       "62399  7919  Eur.Other NE   2110  143.167907\n",
       "62400  5416      CACM NES    518  553.623273\n",
       "62401  6841  Br.Antr.Terr   2262  251.251165\n",
       "62402  9310     Fr.Guiana   4258   57.410065\n",
       "\n",
       "[24303 rows x 4 columns]"
      ]
     },
     "execution_count": 98,
     "metadata": {},
     "output_type": "execute_result"
    }
   ],
   "source": [
    "rca_treshold = 1\n",
    "mcp = rca_df[rca_df.rca >= rca_treshold]\n",
    "mcp"
   ]
  },
  {
   "cell_type": "code",
   "execution_count": null,
   "metadata": {},
   "outputs": [],
   "source": []
  },
  {
   "cell_type": "markdown",
   "metadata": {},
   "source": [
    "#  $k_{c,0} = \\sum_{p} M_{cp}$"
   ]
  },
  {
   "cell_type": "code",
   "execution_count": 99,
   "metadata": {},
   "outputs": [
    {
     "data": {
      "text/plain": [
       "473"
      ]
     },
     "execution_count": 99,
     "metadata": {},
     "output_type": "execute_result"
    }
   ],
   "source": [
    "country = \"Germany\"\n",
    "mdf = mcp[mcp.exporter==country]\n",
    "len(mdf)"
   ]
  },
  {
   "cell_type": "markdown",
   "metadata": {},
   "source": [
    "#  $k_{p,0} = \\sum_{c} M_{cp}$"
   ]
  },
  {
   "cell_type": "code",
   "execution_count": 100,
   "metadata": {},
   "outputs": [
    {
     "data": {
      "text/plain": [
       "20"
      ]
     },
     "execution_count": 100,
     "metadata": {},
     "output_type": "execute_result"
    }
   ],
   "source": [
    "product = \"0011\"\n",
    "mdf = mcp[mcp.sitc4==product]\n",
    "len(mdf)\n"
   ]
  },
  {
   "cell_type": "code",
   "execution_count": null,
   "metadata": {},
   "outputs": [],
   "source": []
  },
  {
   "cell_type": "code",
   "execution_count": null,
   "metadata": {},
   "outputs": [],
   "source": []
  },
  {
   "cell_type": "markdown",
   "metadata": {},
   "source": [
    "# Initialize k reflection dictionary"
   ]
  },
  {
   "cell_type": "code",
   "execution_count": 101,
   "metadata": {},
   "outputs": [],
   "source": [
    "k = dict()\n",
    "for product in mcp.sitc4.unique():\n",
    "    mdf = mcp[mcp.sitc4==product]\n",
    "    k[product]=[len(mdf)]\n",
    "for country in mcp.exporter.unique():\n",
    "    mdf = mcp[mcp.exporter==country]\n",
    "    k[country]=[len(mdf)]\n",
    "    "
   ]
  },
  {
   "cell_type": "code",
   "execution_count": null,
   "metadata": {},
   "outputs": [],
   "source": []
  },
  {
   "cell_type": "markdown",
   "metadata": {},
   "source": [
    "#  $k_{c,1} = \\frac{1}{k_{c,0}} \\sum_{p} M_{cp}k_{p,0}$"
   ]
  },
  {
   "cell_type": "markdown",
   "metadata": {},
   "source": [
    "### Test on Germany"
   ]
  },
  {
   "cell_type": "code",
   "execution_count": 102,
   "metadata": {},
   "outputs": [
    {
     "data": {
      "text/plain": [
       "18.101479915433405"
      ]
     },
     "execution_count": 102,
     "metadata": {},
     "output_type": "execute_result"
    }
   ],
   "source": [
    "country = \"Germany\"\n",
    "mdf = mcp[mcp.exporter==country]\n",
    "sum_kp = 0\n",
    "for product in mdf.sitc4.unique():\n",
    "    sum_kp += k[product][0]\n",
    "\n",
    "sum_kp/k[country][0]"
   ]
  },
  {
   "cell_type": "markdown",
   "metadata": {},
   "source": [
    "### First iteration countries"
   ]
  },
  {
   "cell_type": "code",
   "execution_count": 103,
   "metadata": {},
   "outputs": [],
   "source": [
    "for country in mcp.exporter.unique():\n",
    "    mdf = mcp[mcp.exporter==country]\n",
    "    sum_kp = 0\n",
    "    for product in mdf.sitc4.unique():\n",
    "        sum_kp += k[product][0]\n",
    "    k[country].append(sum_kp/k[country][0])"
   ]
  },
  {
   "cell_type": "code",
   "execution_count": 104,
   "metadata": {},
   "outputs": [
    {
     "data": {
      "text/plain": [
       "[406, 18.194581280788178]"
      ]
     },
     "execution_count": 104,
     "metadata": {},
     "output_type": "execute_result"
    }
   ],
   "source": [
    "k[\"USA\"]"
   ]
  },
  {
   "cell_type": "code",
   "execution_count": null,
   "metadata": {},
   "outputs": [],
   "source": []
  },
  {
   "cell_type": "markdown",
   "metadata": {},
   "source": [
    "#  $k_{p,1} = \\frac{1}{k_{p,0}} \\sum_{p} M_{cp}k_{c,0}$"
   ]
  },
  {
   "cell_type": "markdown",
   "metadata": {},
   "source": [
    "### Test sitc4 0011"
   ]
  },
  {
   "cell_type": "code",
   "execution_count": 105,
   "metadata": {},
   "outputs": [
    {
     "data": {
      "text/plain": [
       "320.2631578947368"
      ]
     },
     "execution_count": 105,
     "metadata": {},
     "output_type": "execute_result"
    }
   ],
   "source": [
    "product = \"0015\"\n",
    "mdf = mcp[mcp.sitc4==product]\n",
    "sum_kc = 0\n",
    "for country in mdf.exporter.unique():\n",
    "    sum_kc += k[country][0]\n",
    "sum_kc/k[product][0]"
   ]
  },
  {
   "cell_type": "markdown",
   "metadata": {},
   "source": [
    "### All products"
   ]
  },
  {
   "cell_type": "code",
   "execution_count": 106,
   "metadata": {},
   "outputs": [],
   "source": [
    "for product in mcp.sitc4.unique():\n",
    "    mdf = mcp[mcp.sitc4==product]\n",
    "    sum_kc = 0\n",
    "    for country in mdf.exporter.unique():\n",
    "        sum_kc += k[country][0]\n",
    "    k[product].append(sum_kc/k[product][0])"
   ]
  },
  {
   "cell_type": "code",
   "execution_count": null,
   "metadata": {},
   "outputs": [],
   "source": []
  },
  {
   "cell_type": "code",
   "execution_count": 107,
   "metadata": {},
   "outputs": [],
   "source": [
    "country_list = list(mcp.exporter.unique())"
   ]
  },
  {
   "cell_type": "code",
   "execution_count": 108,
   "metadata": {},
   "outputs": [
    {
     "data": {
      "text/plain": [
       "['Areas NES',\n",
       " 'Argentina',\n",
       " 'Australia',\n",
       " 'Austria',\n",
       " 'Belgium-Lux',\n",
       " 'Belize',\n",
       " 'Brazil',\n",
       " 'Bulgaria',\n",
       " 'Cambodia',\n",
       " 'Canada',\n",
       " 'China',\n",
       " 'Czech Rep',\n",
       " 'Denmark',\n",
       " 'Ecuador',\n",
       " 'Egypt',\n",
       " 'Estonia',\n",
       " 'France,Monac',\n",
       " 'Germany',\n",
       " 'Greece',\n",
       " 'Honduras',\n",
       " 'Hungary',\n",
       " 'Ireland',\n",
       " 'Italy',\n",
       " 'Jordan',\n",
       " 'Lao P.Dem.R',\n",
       " 'Lithuania',\n",
       " 'Mexico',\n",
       " 'Myanmar',\n",
       " 'Netherlands',\n",
       " 'New Zealand',\n",
       " 'Nicaragua',\n",
       " 'Norway',\n",
       " 'Pakistan',\n",
       " 'Panama',\n",
       " 'Paraguay',\n",
       " 'Poland',\n",
       " 'Portugal',\n",
       " 'Romania',\n",
       " 'Russian Fed',\n",
       " 'Singapore',\n",
       " 'Slovakia',\n",
       " 'South Africa',\n",
       " 'Spain',\n",
       " 'Sweden',\n",
       " 'Thailand',\n",
       " 'UK',\n",
       " 'USA',\n",
       " 'Untd Arab Em',\n",
       " 'Uruguay',\n",
       " 'World',\n",
       " 'Djibouti',\n",
       " 'Ethiopia',\n",
       " 'Iran',\n",
       " 'Lebanon',\n",
       " 'Oman',\n",
       " 'Qatar',\n",
       " 'Saudi Arabia',\n",
       " 'Somalia',\n",
       " 'Sudan',\n",
       " 'Syria',\n",
       " 'Turkey',\n",
       " 'Uganda',\n",
       " 'Yemen',\n",
       " 'Algeria',\n",
       " 'Chile',\n",
       " 'Cyprus',\n",
       " 'Finland',\n",
       " 'Indonesia',\n",
       " 'Korea Rep.',\n",
       " 'Mali',\n",
       " 'Colombia',\n",
       " 'Israel',\n",
       " 'Japan',\n",
       " 'Malaysia',\n",
       " 'Peru',\n",
       " 'Venezuela',\n",
       " 'Belarus',\n",
       " 'Bosnia Herzg',\n",
       " 'China HK SAR',\n",
       " 'Costa Rica',\n",
       " 'Croatia',\n",
       " 'Iceland',\n",
       " 'Latvia',\n",
       " 'Libya',\n",
       " 'Neth.Ant.Aru',\n",
       " 'Slovenia',\n",
       " 'Switz.Liecht',\n",
       " 'Ukraine',\n",
       " 'Yugoslavia',\n",
       " 'Zimbabwe',\n",
       " 'Asia NES',\n",
       " 'Bolivia',\n",
       " 'Georgia',\n",
       " 'India',\n",
       " 'Kazakhstan',\n",
       " 'Kiribati',\n",
       " 'Mongolia',\n",
       " 'New Calednia',\n",
       " 'Occ.Pal.Terr',\n",
       " 'Rep Moldova',\n",
       " 'St.Kt-Nev-An',\n",
       " 'Taiwan',\n",
       " 'Trinidad Tbg',\n",
       " 'Barbados',\n",
       " 'Greenland',\n",
       " 'Morocco',\n",
       " 'TFYR Macedna',\n",
       " 'Burkina Faso',\n",
       " 'Viet Nam',\n",
       " 'Niger',\n",
       " 'Tunisia',\n",
       " 'Albania',\n",
       " 'Azerbaijan',\n",
       " 'Ghana',\n",
       " 'Korea D P Rp',\n",
       " 'Senegal',\n",
       " 'Cote Divoire',\n",
       " 'Papua N.Guin',\n",
       " 'Philippines',\n",
       " 'Togo',\n",
       " 'Bahrain',\n",
       " 'Bangladesh',\n",
       " 'Fiji',\n",
       " 'Jamaica',\n",
       " 'Mauritius',\n",
       " 'Kuwait',\n",
       " 'Kyrgyzstan',\n",
       " 'Bermuda',\n",
       " 'China MC SAR',\n",
       " 'Iraq',\n",
       " 'Nepal',\n",
       " 'Nigeria',\n",
       " 'Sri Lanka',\n",
       " 'Tanzania',\n",
       " 'El Salvador',\n",
       " 'US NES',\n",
       " 'Guatemala',\n",
       " 'Uzbekistan',\n",
       " 'Congo',\n",
       " 'Cuba',\n",
       " 'Dem.Rp.Congo',\n",
       " 'Guinea',\n",
       " 'GuineaBissau',\n",
       " 'Guyana',\n",
       " 'Haiti',\n",
       " 'Kenya',\n",
       " 'Madagascar',\n",
       " 'Malta',\n",
       " 'Mauritania',\n",
       " 'Mozambique',\n",
       " 'Samoa',\n",
       " 'Seychelles',\n",
       " 'Suriname',\n",
       " 'Zambia',\n",
       " 'Angola',\n",
       " 'Armenia',\n",
       " 'Cameroon',\n",
       " 'China FTZ',\n",
       " 'Eq.Guinea',\n",
       " 'Falkland Is',\n",
       " 'Fr Ind O',\n",
       " 'Gabon',\n",
       " 'Gambia',\n",
       " 'Rwanda',\n",
       " 'Sierra Leone',\n",
       " 'St.Helena',\n",
       " 'St.Pierre Mq',\n",
       " 'Turkmenistan',\n",
       " 'Benin',\n",
       " 'Oth.Oceania',\n",
       " 'Bahamas',\n",
       " 'Cent.Afr.Rep',\n",
       " 'Dominican Rp',\n",
       " 'Afghanistan',\n",
       " 'Tajikistan',\n",
       " 'Malawi',\n",
       " 'Afr.Other NS',\n",
       " 'EEC NES',\n",
       " 'Burundi',\n",
       " 'Liberia',\n",
       " 'Gibraltar',\n",
       " 'Chad',\n",
       " 'Asia West NS',\n",
       " 'Guadeloupe',\n",
       " 'Neutral Zone',\n",
       " 'Eur.Other NE',\n",
       " 'CACM NES',\n",
       " 'Br.Antr.Terr',\n",
       " 'Fr.Guiana']"
      ]
     },
     "execution_count": 108,
     "metadata": {},
     "output_type": "execute_result"
    }
   ],
   "source": [
    "country_list"
   ]
  },
  {
   "cell_type": "markdown",
   "metadata": {},
   "source": [
    "# phase plot"
   ]
  },
  {
   "cell_type": "code",
   "execution_count": 109,
   "metadata": {},
   "outputs": [
    {
     "data": {
      "application/vnd.plotly.v1+json": {
       "config": {
        "plotlyServerURL": "https://plot.ly"
       },
       "data": [
        {
         "marker": {
          "color": "rgba(48, 217, 189, 1)"
         },
         "mode": "markers+text",
         "name": "citations",
         "text": [
          "Areas NES",
          "Argentina",
          "Australia",
          "Austria",
          "Belgium-Lux",
          "Belize",
          "Brazil",
          "Bulgaria",
          "Cambodia",
          "Canada",
          "China",
          "Czech Rep",
          "Denmark",
          "Ecuador",
          "Egypt",
          "Estonia",
          "France,Monac",
          "Germany",
          "Greece",
          "Honduras",
          "Hungary",
          "Ireland",
          "Italy",
          "Jordan",
          "Lao P.Dem.R",
          "Lithuania",
          "Mexico",
          "Myanmar",
          "Netherlands",
          "New Zealand",
          "Nicaragua",
          "Norway",
          "Pakistan",
          "Panama",
          "Paraguay",
          "Poland",
          "Portugal",
          "Romania",
          "Russian Fed",
          "Singapore",
          "Slovakia",
          "South Africa",
          "Spain",
          "Sweden",
          "Thailand",
          "UK",
          "USA",
          "Untd Arab Em",
          "Uruguay",
          "Djibouti",
          "Ethiopia",
          "Iran",
          "Lebanon",
          "Oman",
          "Qatar",
          "Saudi Arabia",
          "Somalia",
          "Sudan",
          "Syria",
          "Turkey",
          "Uganda",
          "Yemen",
          "Algeria",
          "Chile",
          "Cyprus",
          "Finland",
          "Indonesia",
          "Korea Rep.",
          "Mali",
          "Colombia",
          "Israel",
          "Japan",
          "Malaysia",
          "Peru",
          "Venezuela",
          "Belarus",
          "Bosnia Herzg",
          "China HK SAR",
          "Costa Rica",
          "Croatia",
          "Iceland",
          "Latvia",
          "Libya",
          "Neth.Ant.Aru",
          "Slovenia",
          "Switz.Liecht",
          "Ukraine",
          "Yugoslavia",
          "Zimbabwe",
          "Asia NES",
          "Bolivia",
          "Georgia",
          "India",
          "Kazakhstan",
          "Kiribati",
          "Mongolia",
          "New Calednia",
          "Occ.Pal.Terr",
          "Rep Moldova",
          "St.Kt-Nev-An",
          "Taiwan",
          "Trinidad Tbg",
          "Barbados",
          "Greenland",
          "Morocco",
          "TFYR Macedna",
          "Burkina Faso",
          "Viet Nam",
          "Niger",
          "Tunisia",
          "Albania",
          "Azerbaijan",
          "Ghana",
          "Korea D P Rp",
          "Senegal",
          "Cote Divoire",
          "Papua N.Guin",
          "Philippines",
          "Togo",
          "Bahrain",
          "Bangladesh",
          "Fiji",
          "Jamaica",
          "Mauritius",
          "Kuwait",
          "Kyrgyzstan",
          "Bermuda",
          "China MC SAR",
          "Iraq",
          "Nepal",
          "Nigeria",
          "Sri Lanka",
          "Tanzania",
          "El Salvador",
          "US NES",
          "Guatemala",
          "Uzbekistan",
          "Congo",
          "Cuba",
          "Dem.Rp.Congo",
          "Guinea",
          "GuineaBissau",
          "Guyana",
          "Haiti",
          "Kenya",
          "Madagascar",
          "Malta",
          "Mauritania",
          "Mozambique",
          "Samoa",
          "Seychelles",
          "Suriname",
          "Zambia",
          "Angola",
          "Armenia",
          "Cameroon",
          "China FTZ",
          "Eq.Guinea",
          "Falkland Is",
          "Fr Ind O",
          "Gabon",
          "Gambia",
          "Rwanda",
          "Sierra Leone",
          "St.Helena",
          "St.Pierre Mq",
          "Turkmenistan",
          "Benin",
          "Oth.Oceania",
          "Bahamas",
          "Cent.Afr.Rep",
          "Dominican Rp",
          "Afghanistan",
          "Tajikistan",
          "Malawi",
          "Afr.Other NS",
          "EEC NES",
          "Burundi",
          "Liberia",
          "Gibraltar",
          "Chad",
          "Asia West NS",
          "Guadeloupe",
          "Neutral Zone",
          "Eur.Other NE",
          "CACM NES",
          "Br.Antr.Terr",
          "Fr.Guiana"
         ],
         "type": "scatter",
         "x": [
          258,
          233,
          227,
          460,
          461,
          46,
          265,
          305,
          44,
          233,
          332,
          482,
          352,
          110,
          158,
          138,
          469,
          473,
          381,
          67,
          384,
          166,
          477,
          106,
          45,
          175,
          169,
          96,
          445,
          190,
          62,
          144,
          132,
          128,
          89,
          468,
          256,
          278,
          196,
          124,
          300,
          203,
          471,
          321,
          279,
          360,
          406,
          100,
          183,
          16,
          38,
          57,
          110,
          21,
          16,
          22,
          19,
          39,
          73,
          382,
          41,
          23,
          23,
          149,
          180,
          209,
          279,
          223,
          46,
          151,
          214,
          238,
          155,
          150,
          65,
          99,
          213,
          219,
          81,
          276,
          59,
          116,
          17,
          32,
          321,
          336,
          335,
          232,
          103,
          16,
          89,
          85,
          311,
          82,
          36,
          53,
          27,
          5,
          144,
          65,
          240,
          39,
          61,
          25,
          144,
          244,
          45,
          177,
          22,
          134,
          98,
          59,
          69,
          148,
          62,
          80,
          44,
          119,
          36,
          55,
          64,
          78,
          55,
          57,
          15,
          80,
          39,
          55,
          5,
          55,
          31,
          121,
          77,
          57,
          38,
          91,
          80,
          23,
          49,
          22,
          32,
          40,
          34,
          48,
          83,
          84,
          55,
          20,
          62,
          13,
          23,
          32,
          38,
          6,
          56,
          33,
          98,
          9,
          15,
          14,
          15,
          19,
          19,
          43,
          8,
          7,
          41,
          35,
          24,
          45,
          16,
          89,
          49,
          45,
          40,
          10,
          9,
          12,
          13,
          26,
          8,
          5,
          7,
          2,
          6,
          1,
          1,
          1
         ],
         "y": [
          20.600775193798448,
          25.201716738197426,
          24.559471365638768,
          20.786956521739132,
          20.865509761388285,
          34.65217391304348,
          23.037735849056602,
          26.75409836065574,
          43.63636363636363,
          23.446351931330472,
          22.653614457831324,
          20.350622406639005,
          22.400568181818183,
          30.754545454545454,
          31.569620253164558,
          33.65217391304348,
          19.976545842217483,
          18.101479915433405,
          23.83727034120735,
          39.985074626865675,
          20.9140625,
          21.072289156626507,
          20.750524109014677,
          30.21698113207547,
          42.6,
          32.74857142857143,
          25.45562130177515,
          37.5,
          19.779775280898875,
          27.478947368421053,
          37.354838709677416,
          24.59722222222222,
          34.446969696969695,
          30.890625,
          28.48314606741573,
          23.365384615384617,
          27.62109375,
          25.47841726618705,
          21.45408163265306,
          20.556451612903224,
          24.54,
          26.29064039408867,
          22.471337579617835,
          19.794392523364486,
          26.942652329749105,
          18.433333333333334,
          18.194581280788178,
          28.54,
          26.934426229508198,
          38.5,
          34.13157894736842,
          26.526315789473685,
          31.027272727272727,
          30.523809523809526,
          37.0625,
          30.90909090909091,
          37.26315789473684,
          33.743589743589745,
          33.205479452054796,
          25.17801047120419,
          36.41463414634146,
          37.52173913043478,
          31.782608695652176,
          28.496644295302012,
          27.544444444444444,
          22.019138755980862,
          27.88888888888889,
          22.878923766816143,
          28.52173913043478,
          29.695364238410598,
          22.457943925233646,
          16.016806722689076,
          22.24516129032258,
          30.62,
          29.861538461538462,
          29.303030303030305,
          21.666666666666668,
          24.789954337899545,
          35.851851851851855,
          25.47463768115942,
          31.220338983050848,
          34.16379310344828,
          33.94117647058823,
          28.96875,
          24.35514018691589,
          19.428571428571427,
          22.155223880597013,
          28.90948275862069,
          30.650485436893202,
          42.125,
          31.202247191011235,
          29.788235294117648,
          25.633440514469452,
          24.926829268292682,
          36.083333333333336,
          36.905660377358494,
          36.074074074074076,
          27.8,
          30.354166666666668,
          30.661538461538463,
          20.85,
          32.8974358974359,
          29.360655737704917,
          36.04,
          35.15972222222222,
          21.09016393442623,
          30.77777777777778,
          30.338983050847457,
          27.40909090909091,
          31.738805970149254,
          36.33673469387755,
          32.83050847457627,
          33.95652173913044,
          28.83108108108108,
          36.403225806451616,
          30.3375,
          34.68181818181818,
          29.07563025210084,
          38.30555555555556,
          34.49090909090909,
          38.921875,
          40.92307692307692,
          36.836363636363636,
          37.87719298245614,
          33.4,
          31.4,
          27.71794871794872,
          37.38181818181818,
          22.8,
          35.67272727272727,
          30.806451612903224,
          33.18181818181818,
          35.15584415584416,
          40.08771929824562,
          40.63157894736842,
          38.91208791208791,
          29.625,
          35.34782608695652,
          33.38775510204081,
          32.72727272727273,
          40.65625,
          37.75,
          38.23529411764706,
          40.6875,
          35.91566265060241,
          39.535714285714285,
          31.618181818181817,
          39.45,
          36.61290322580645,
          42.69230769230769,
          38.608695652173914,
          35.65625,
          32.73684210526316,
          45,
          32.142857142857146,
          35.18181818181818,
          21.122448979591837,
          42.111111111111114,
          29.533333333333335,
          37.785714285714285,
          40.13333333333333,
          41.421052631578945,
          32.05263157894737,
          29.25581395348837,
          34.625,
          46,
          36.048780487804876,
          31.485714285714284,
          40.333333333333336,
          30.88888888888889,
          40,
          36.19101123595506,
          32.42857142857143,
          33.22222222222222,
          40.125,
          36.3,
          29.11111111111111,
          35.583333333333336,
          31.46153846153846,
          29.384615384615383,
          28.875,
          22.6,
          29.714285714285715,
          30.5,
          20.5,
          17,
          37,
          28
         ]
        }
       ],
       "layout": {
        "plot_bgcolor": "white",
        "template": {
         "data": {
          "bar": [
           {
            "error_x": {
             "color": "#2a3f5f"
            },
            "error_y": {
             "color": "#2a3f5f"
            },
            "marker": {
             "line": {
              "color": "#E5ECF6",
              "width": 0.5
             }
            },
            "type": "bar"
           }
          ],
          "barpolar": [
           {
            "marker": {
             "line": {
              "color": "#E5ECF6",
              "width": 0.5
             }
            },
            "type": "barpolar"
           }
          ],
          "carpet": [
           {
            "aaxis": {
             "endlinecolor": "#2a3f5f",
             "gridcolor": "white",
             "linecolor": "white",
             "minorgridcolor": "white",
             "startlinecolor": "#2a3f5f"
            },
            "baxis": {
             "endlinecolor": "#2a3f5f",
             "gridcolor": "white",
             "linecolor": "white",
             "minorgridcolor": "white",
             "startlinecolor": "#2a3f5f"
            },
            "type": "carpet"
           }
          ],
          "choropleth": [
           {
            "colorbar": {
             "outlinewidth": 0,
             "ticks": ""
            },
            "type": "choropleth"
           }
          ],
          "contour": [
           {
            "colorbar": {
             "outlinewidth": 0,
             "ticks": ""
            },
            "colorscale": [
             [
              0,
              "#0d0887"
             ],
             [
              0.1111111111111111,
              "#46039f"
             ],
             [
              0.2222222222222222,
              "#7201a8"
             ],
             [
              0.3333333333333333,
              "#9c179e"
             ],
             [
              0.4444444444444444,
              "#bd3786"
             ],
             [
              0.5555555555555556,
              "#d8576b"
             ],
             [
              0.6666666666666666,
              "#ed7953"
             ],
             [
              0.7777777777777778,
              "#fb9f3a"
             ],
             [
              0.8888888888888888,
              "#fdca26"
             ],
             [
              1,
              "#f0f921"
             ]
            ],
            "type": "contour"
           }
          ],
          "contourcarpet": [
           {
            "colorbar": {
             "outlinewidth": 0,
             "ticks": ""
            },
            "type": "contourcarpet"
           }
          ],
          "heatmap": [
           {
            "colorbar": {
             "outlinewidth": 0,
             "ticks": ""
            },
            "colorscale": [
             [
              0,
              "#0d0887"
             ],
             [
              0.1111111111111111,
              "#46039f"
             ],
             [
              0.2222222222222222,
              "#7201a8"
             ],
             [
              0.3333333333333333,
              "#9c179e"
             ],
             [
              0.4444444444444444,
              "#bd3786"
             ],
             [
              0.5555555555555556,
              "#d8576b"
             ],
             [
              0.6666666666666666,
              "#ed7953"
             ],
             [
              0.7777777777777778,
              "#fb9f3a"
             ],
             [
              0.8888888888888888,
              "#fdca26"
             ],
             [
              1,
              "#f0f921"
             ]
            ],
            "type": "heatmap"
           }
          ],
          "heatmapgl": [
           {
            "colorbar": {
             "outlinewidth": 0,
             "ticks": ""
            },
            "colorscale": [
             [
              0,
              "#0d0887"
             ],
             [
              0.1111111111111111,
              "#46039f"
             ],
             [
              0.2222222222222222,
              "#7201a8"
             ],
             [
              0.3333333333333333,
              "#9c179e"
             ],
             [
              0.4444444444444444,
              "#bd3786"
             ],
             [
              0.5555555555555556,
              "#d8576b"
             ],
             [
              0.6666666666666666,
              "#ed7953"
             ],
             [
              0.7777777777777778,
              "#fb9f3a"
             ],
             [
              0.8888888888888888,
              "#fdca26"
             ],
             [
              1,
              "#f0f921"
             ]
            ],
            "type": "heatmapgl"
           }
          ],
          "histogram": [
           {
            "marker": {
             "colorbar": {
              "outlinewidth": 0,
              "ticks": ""
             }
            },
            "type": "histogram"
           }
          ],
          "histogram2d": [
           {
            "colorbar": {
             "outlinewidth": 0,
             "ticks": ""
            },
            "colorscale": [
             [
              0,
              "#0d0887"
             ],
             [
              0.1111111111111111,
              "#46039f"
             ],
             [
              0.2222222222222222,
              "#7201a8"
             ],
             [
              0.3333333333333333,
              "#9c179e"
             ],
             [
              0.4444444444444444,
              "#bd3786"
             ],
             [
              0.5555555555555556,
              "#d8576b"
             ],
             [
              0.6666666666666666,
              "#ed7953"
             ],
             [
              0.7777777777777778,
              "#fb9f3a"
             ],
             [
              0.8888888888888888,
              "#fdca26"
             ],
             [
              1,
              "#f0f921"
             ]
            ],
            "type": "histogram2d"
           }
          ],
          "histogram2dcontour": [
           {
            "colorbar": {
             "outlinewidth": 0,
             "ticks": ""
            },
            "colorscale": [
             [
              0,
              "#0d0887"
             ],
             [
              0.1111111111111111,
              "#46039f"
             ],
             [
              0.2222222222222222,
              "#7201a8"
             ],
             [
              0.3333333333333333,
              "#9c179e"
             ],
             [
              0.4444444444444444,
              "#bd3786"
             ],
             [
              0.5555555555555556,
              "#d8576b"
             ],
             [
              0.6666666666666666,
              "#ed7953"
             ],
             [
              0.7777777777777778,
              "#fb9f3a"
             ],
             [
              0.8888888888888888,
              "#fdca26"
             ],
             [
              1,
              "#f0f921"
             ]
            ],
            "type": "histogram2dcontour"
           }
          ],
          "mesh3d": [
           {
            "colorbar": {
             "outlinewidth": 0,
             "ticks": ""
            },
            "type": "mesh3d"
           }
          ],
          "parcoords": [
           {
            "line": {
             "colorbar": {
              "outlinewidth": 0,
              "ticks": ""
             }
            },
            "type": "parcoords"
           }
          ],
          "pie": [
           {
            "automargin": true,
            "type": "pie"
           }
          ],
          "scatter": [
           {
            "marker": {
             "colorbar": {
              "outlinewidth": 0,
              "ticks": ""
             }
            },
            "type": "scatter"
           }
          ],
          "scatter3d": [
           {
            "line": {
             "colorbar": {
              "outlinewidth": 0,
              "ticks": ""
             }
            },
            "marker": {
             "colorbar": {
              "outlinewidth": 0,
              "ticks": ""
             }
            },
            "type": "scatter3d"
           }
          ],
          "scattercarpet": [
           {
            "marker": {
             "colorbar": {
              "outlinewidth": 0,
              "ticks": ""
             }
            },
            "type": "scattercarpet"
           }
          ],
          "scattergeo": [
           {
            "marker": {
             "colorbar": {
              "outlinewidth": 0,
              "ticks": ""
             }
            },
            "type": "scattergeo"
           }
          ],
          "scattergl": [
           {
            "marker": {
             "colorbar": {
              "outlinewidth": 0,
              "ticks": ""
             }
            },
            "type": "scattergl"
           }
          ],
          "scattermapbox": [
           {
            "marker": {
             "colorbar": {
              "outlinewidth": 0,
              "ticks": ""
             }
            },
            "type": "scattermapbox"
           }
          ],
          "scatterpolar": [
           {
            "marker": {
             "colorbar": {
              "outlinewidth": 0,
              "ticks": ""
             }
            },
            "type": "scatterpolar"
           }
          ],
          "scatterpolargl": [
           {
            "marker": {
             "colorbar": {
              "outlinewidth": 0,
              "ticks": ""
             }
            },
            "type": "scatterpolargl"
           }
          ],
          "scatterternary": [
           {
            "marker": {
             "colorbar": {
              "outlinewidth": 0,
              "ticks": ""
             }
            },
            "type": "scatterternary"
           }
          ],
          "surface": [
           {
            "colorbar": {
             "outlinewidth": 0,
             "ticks": ""
            },
            "colorscale": [
             [
              0,
              "#0d0887"
             ],
             [
              0.1111111111111111,
              "#46039f"
             ],
             [
              0.2222222222222222,
              "#7201a8"
             ],
             [
              0.3333333333333333,
              "#9c179e"
             ],
             [
              0.4444444444444444,
              "#bd3786"
             ],
             [
              0.5555555555555556,
              "#d8576b"
             ],
             [
              0.6666666666666666,
              "#ed7953"
             ],
             [
              0.7777777777777778,
              "#fb9f3a"
             ],
             [
              0.8888888888888888,
              "#fdca26"
             ],
             [
              1,
              "#f0f921"
             ]
            ],
            "type": "surface"
           }
          ],
          "table": [
           {
            "cells": {
             "fill": {
              "color": "#EBF0F8"
             },
             "line": {
              "color": "white"
             }
            },
            "header": {
             "fill": {
              "color": "#C8D4E3"
             },
             "line": {
              "color": "white"
             }
            },
            "type": "table"
           }
          ]
         },
         "layout": {
          "annotationdefaults": {
           "arrowcolor": "#2a3f5f",
           "arrowhead": 0,
           "arrowwidth": 1
          },
          "autotypenumbers": "strict",
          "coloraxis": {
           "colorbar": {
            "outlinewidth": 0,
            "ticks": ""
           }
          },
          "colorscale": {
           "diverging": [
            [
             0,
             "#8e0152"
            ],
            [
             0.1,
             "#c51b7d"
            ],
            [
             0.2,
             "#de77ae"
            ],
            [
             0.3,
             "#f1b6da"
            ],
            [
             0.4,
             "#fde0ef"
            ],
            [
             0.5,
             "#f7f7f7"
            ],
            [
             0.6,
             "#e6f5d0"
            ],
            [
             0.7,
             "#b8e186"
            ],
            [
             0.8,
             "#7fbc41"
            ],
            [
             0.9,
             "#4d9221"
            ],
            [
             1,
             "#276419"
            ]
           ],
           "sequential": [
            [
             0,
             "#0d0887"
            ],
            [
             0.1111111111111111,
             "#46039f"
            ],
            [
             0.2222222222222222,
             "#7201a8"
            ],
            [
             0.3333333333333333,
             "#9c179e"
            ],
            [
             0.4444444444444444,
             "#bd3786"
            ],
            [
             0.5555555555555556,
             "#d8576b"
            ],
            [
             0.6666666666666666,
             "#ed7953"
            ],
            [
             0.7777777777777778,
             "#fb9f3a"
            ],
            [
             0.8888888888888888,
             "#fdca26"
            ],
            [
             1,
             "#f0f921"
            ]
           ],
           "sequentialminus": [
            [
             0,
             "#0d0887"
            ],
            [
             0.1111111111111111,
             "#46039f"
            ],
            [
             0.2222222222222222,
             "#7201a8"
            ],
            [
             0.3333333333333333,
             "#9c179e"
            ],
            [
             0.4444444444444444,
             "#bd3786"
            ],
            [
             0.5555555555555556,
             "#d8576b"
            ],
            [
             0.6666666666666666,
             "#ed7953"
            ],
            [
             0.7777777777777778,
             "#fb9f3a"
            ],
            [
             0.8888888888888888,
             "#fdca26"
            ],
            [
             1,
             "#f0f921"
            ]
           ]
          },
          "colorway": [
           "#636efa",
           "#EF553B",
           "#00cc96",
           "#ab63fa",
           "#FFA15A",
           "#19d3f3",
           "#FF6692",
           "#B6E880",
           "#FF97FF",
           "#FECB52"
          ],
          "font": {
           "color": "#2a3f5f"
          },
          "geo": {
           "bgcolor": "white",
           "lakecolor": "white",
           "landcolor": "#E5ECF6",
           "showlakes": true,
           "showland": true,
           "subunitcolor": "white"
          },
          "hoverlabel": {
           "align": "left"
          },
          "hovermode": "closest",
          "mapbox": {
           "style": "light"
          },
          "paper_bgcolor": "white",
          "plot_bgcolor": "#E5ECF6",
          "polar": {
           "angularaxis": {
            "gridcolor": "white",
            "linecolor": "white",
            "ticks": ""
           },
           "bgcolor": "#E5ECF6",
           "radialaxis": {
            "gridcolor": "white",
            "linecolor": "white",
            "ticks": ""
           }
          },
          "scene": {
           "xaxis": {
            "backgroundcolor": "#E5ECF6",
            "gridcolor": "white",
            "gridwidth": 2,
            "linecolor": "white",
            "showbackground": true,
            "ticks": "",
            "zerolinecolor": "white"
           },
           "yaxis": {
            "backgroundcolor": "#E5ECF6",
            "gridcolor": "white",
            "gridwidth": 2,
            "linecolor": "white",
            "showbackground": true,
            "ticks": "",
            "zerolinecolor": "white"
           },
           "zaxis": {
            "backgroundcolor": "#E5ECF6",
            "gridcolor": "white",
            "gridwidth": 2,
            "linecolor": "white",
            "showbackground": true,
            "ticks": "",
            "zerolinecolor": "white"
           }
          },
          "shapedefaults": {
           "line": {
            "color": "#2a3f5f"
           }
          },
          "ternary": {
           "aaxis": {
            "gridcolor": "white",
            "linecolor": "white",
            "ticks": ""
           },
           "baxis": {
            "gridcolor": "white",
            "linecolor": "white",
            "ticks": ""
           },
           "bgcolor": "#E5ECF6",
           "caxis": {
            "gridcolor": "white",
            "linecolor": "white",
            "ticks": ""
           }
          },
          "title": {
           "x": 0.05
          },
          "xaxis": {
           "automargin": true,
           "gridcolor": "white",
           "linecolor": "white",
           "ticks": "",
           "title": {
            "standoff": 15
           },
           "zerolinecolor": "white",
           "zerolinewidth": 2
          },
          "yaxis": {
           "automargin": true,
           "gridcolor": "white",
           "linecolor": "white",
           "ticks": "",
           "title": {
            "standoff": 15
           },
           "zerolinecolor": "white",
           "zerolinewidth": 2
          }
         }
        },
        "xaxis": {
         "linecolor": "#d9d9d9",
         "mirror": true,
         "title": {
          "text": "$k_{c,0}$"
         }
        },
        "yaxis": {
         "linecolor": "#d9d9d9",
         "mirror": true,
         "title": {
          "text": "$k_{c,1}$"
         }
        }
       }
      },
      "text/html": [
       "<div>                            <div id=\"0eb9a7f1-51e0-4356-a99d-91d9273a8c27\" class=\"plotly-graph-div\" style=\"height:525px; width:100%;\"></div>            <script type=\"text/javascript\">                require([\"plotly\"], function(Plotly) {                    window.PLOTLYENV=window.PLOTLYENV || {};                                    if (document.getElementById(\"0eb9a7f1-51e0-4356-a99d-91d9273a8c27\")) {                    Plotly.newPlot(                        \"0eb9a7f1-51e0-4356-a99d-91d9273a8c27\",                        [{\"marker\": {\"color\": \"rgba(48, 217, 189, 1)\"}, \"mode\": \"markers+text\", \"name\": \"citations\", \"text\": [\"Areas NES\", \"Argentina\", \"Australia\", \"Austria\", \"Belgium-Lux\", \"Belize\", \"Brazil\", \"Bulgaria\", \"Cambodia\", \"Canada\", \"China\", \"Czech Rep\", \"Denmark\", \"Ecuador\", \"Egypt\", \"Estonia\", \"France,Monac\", \"Germany\", \"Greece\", \"Honduras\", \"Hungary\", \"Ireland\", \"Italy\", \"Jordan\", \"Lao P.Dem.R\", \"Lithuania\", \"Mexico\", \"Myanmar\", \"Netherlands\", \"New Zealand\", \"Nicaragua\", \"Norway\", \"Pakistan\", \"Panama\", \"Paraguay\", \"Poland\", \"Portugal\", \"Romania\", \"Russian Fed\", \"Singapore\", \"Slovakia\", \"South Africa\", \"Spain\", \"Sweden\", \"Thailand\", \"UK\", \"USA\", \"Untd Arab Em\", \"Uruguay\", \"Djibouti\", \"Ethiopia\", \"Iran\", \"Lebanon\", \"Oman\", \"Qatar\", \"Saudi Arabia\", \"Somalia\", \"Sudan\", \"Syria\", \"Turkey\", \"Uganda\", \"Yemen\", \"Algeria\", \"Chile\", \"Cyprus\", \"Finland\", \"Indonesia\", \"Korea Rep.\", \"Mali\", \"Colombia\", \"Israel\", \"Japan\", \"Malaysia\", \"Peru\", \"Venezuela\", \"Belarus\", \"Bosnia Herzg\", \"China HK SAR\", \"Costa Rica\", \"Croatia\", \"Iceland\", \"Latvia\", \"Libya\", \"Neth.Ant.Aru\", \"Slovenia\", \"Switz.Liecht\", \"Ukraine\", \"Yugoslavia\", \"Zimbabwe\", \"Asia NES\", \"Bolivia\", \"Georgia\", \"India\", \"Kazakhstan\", \"Kiribati\", \"Mongolia\", \"New Calednia\", \"Occ.Pal.Terr\", \"Rep Moldova\", \"St.Kt-Nev-An\", \"Taiwan\", \"Trinidad Tbg\", \"Barbados\", \"Greenland\", \"Morocco\", \"TFYR Macedna\", \"Burkina Faso\", \"Viet Nam\", \"Niger\", \"Tunisia\", \"Albania\", \"Azerbaijan\", \"Ghana\", \"Korea D P Rp\", \"Senegal\", \"Cote Divoire\", \"Papua N.Guin\", \"Philippines\", \"Togo\", \"Bahrain\", \"Bangladesh\", \"Fiji\", \"Jamaica\", \"Mauritius\", \"Kuwait\", \"Kyrgyzstan\", \"Bermuda\", \"China MC SAR\", \"Iraq\", \"Nepal\", \"Nigeria\", \"Sri Lanka\", \"Tanzania\", \"El Salvador\", \"US NES\", \"Guatemala\", \"Uzbekistan\", \"Congo\", \"Cuba\", \"Dem.Rp.Congo\", \"Guinea\", \"GuineaBissau\", \"Guyana\", \"Haiti\", \"Kenya\", \"Madagascar\", \"Malta\", \"Mauritania\", \"Mozambique\", \"Samoa\", \"Seychelles\", \"Suriname\", \"Zambia\", \"Angola\", \"Armenia\", \"Cameroon\", \"China FTZ\", \"Eq.Guinea\", \"Falkland Is\", \"Fr Ind O\", \"Gabon\", \"Gambia\", \"Rwanda\", \"Sierra Leone\", \"St.Helena\", \"St.Pierre Mq\", \"Turkmenistan\", \"Benin\", \"Oth.Oceania\", \"Bahamas\", \"Cent.Afr.Rep\", \"Dominican Rp\", \"Afghanistan\", \"Tajikistan\", \"Malawi\", \"Afr.Other NS\", \"EEC NES\", \"Burundi\", \"Liberia\", \"Gibraltar\", \"Chad\", \"Asia West NS\", \"Guadeloupe\", \"Neutral Zone\", \"Eur.Other NE\", \"CACM NES\", \"Br.Antr.Terr\", \"Fr.Guiana\"], \"type\": \"scatter\", \"x\": [258, 233, 227, 460, 461, 46, 265, 305, 44, 233, 332, 482, 352, 110, 158, 138, 469, 473, 381, 67, 384, 166, 477, 106, 45, 175, 169, 96, 445, 190, 62, 144, 132, 128, 89, 468, 256, 278, 196, 124, 300, 203, 471, 321, 279, 360, 406, 100, 183, 16, 38, 57, 110, 21, 16, 22, 19, 39, 73, 382, 41, 23, 23, 149, 180, 209, 279, 223, 46, 151, 214, 238, 155, 150, 65, 99, 213, 219, 81, 276, 59, 116, 17, 32, 321, 336, 335, 232, 103, 16, 89, 85, 311, 82, 36, 53, 27, 5, 144, 65, 240, 39, 61, 25, 144, 244, 45, 177, 22, 134, 98, 59, 69, 148, 62, 80, 44, 119, 36, 55, 64, 78, 55, 57, 15, 80, 39, 55, 5, 55, 31, 121, 77, 57, 38, 91, 80, 23, 49, 22, 32, 40, 34, 48, 83, 84, 55, 20, 62, 13, 23, 32, 38, 6, 56, 33, 98, 9, 15, 14, 15, 19, 19, 43, 8, 7, 41, 35, 24, 45, 16, 89, 49, 45, 40, 10, 9, 12, 13, 26, 8, 5, 7, 2, 6, 1, 1, 1], \"y\": [20.600775193798448, 25.201716738197426, 24.559471365638768, 20.786956521739132, 20.865509761388285, 34.65217391304348, 23.037735849056602, 26.75409836065574, 43.63636363636363, 23.446351931330472, 22.653614457831324, 20.350622406639005, 22.400568181818183, 30.754545454545454, 31.569620253164558, 33.65217391304348, 19.976545842217483, 18.101479915433405, 23.83727034120735, 39.985074626865675, 20.9140625, 21.072289156626507, 20.750524109014677, 30.21698113207547, 42.6, 32.74857142857143, 25.45562130177515, 37.5, 19.779775280898875, 27.478947368421053, 37.354838709677416, 24.59722222222222, 34.446969696969695, 30.890625, 28.48314606741573, 23.365384615384617, 27.62109375, 25.47841726618705, 21.45408163265306, 20.556451612903224, 24.54, 26.29064039408867, 22.471337579617835, 19.794392523364486, 26.942652329749105, 18.433333333333334, 18.194581280788178, 28.54, 26.934426229508198, 38.5, 34.13157894736842, 26.526315789473685, 31.027272727272727, 30.523809523809526, 37.0625, 30.90909090909091, 37.26315789473684, 33.743589743589745, 33.205479452054796, 25.17801047120419, 36.41463414634146, 37.52173913043478, 31.782608695652176, 28.496644295302012, 27.544444444444444, 22.019138755980862, 27.88888888888889, 22.878923766816143, 28.52173913043478, 29.695364238410598, 22.457943925233646, 16.016806722689076, 22.24516129032258, 30.62, 29.861538461538462, 29.303030303030305, 21.666666666666668, 24.789954337899545, 35.851851851851855, 25.47463768115942, 31.220338983050848, 34.16379310344828, 33.94117647058823, 28.96875, 24.35514018691589, 19.428571428571427, 22.155223880597013, 28.90948275862069, 30.650485436893202, 42.125, 31.202247191011235, 29.788235294117648, 25.633440514469452, 24.926829268292682, 36.083333333333336, 36.905660377358494, 36.074074074074076, 27.8, 30.354166666666668, 30.661538461538463, 20.85, 32.8974358974359, 29.360655737704917, 36.04, 35.15972222222222, 21.09016393442623, 30.77777777777778, 30.338983050847457, 27.40909090909091, 31.738805970149254, 36.33673469387755, 32.83050847457627, 33.95652173913044, 28.83108108108108, 36.403225806451616, 30.3375, 34.68181818181818, 29.07563025210084, 38.30555555555556, 34.49090909090909, 38.921875, 40.92307692307692, 36.836363636363636, 37.87719298245614, 33.4, 31.4, 27.71794871794872, 37.38181818181818, 22.8, 35.67272727272727, 30.806451612903224, 33.18181818181818, 35.15584415584416, 40.08771929824562, 40.63157894736842, 38.91208791208791, 29.625, 35.34782608695652, 33.38775510204081, 32.72727272727273, 40.65625, 37.75, 38.23529411764706, 40.6875, 35.91566265060241, 39.535714285714285, 31.618181818181817, 39.45, 36.61290322580645, 42.69230769230769, 38.608695652173914, 35.65625, 32.73684210526316, 45.0, 32.142857142857146, 35.18181818181818, 21.122448979591837, 42.111111111111114, 29.533333333333335, 37.785714285714285, 40.13333333333333, 41.421052631578945, 32.05263157894737, 29.25581395348837, 34.625, 46.0, 36.048780487804876, 31.485714285714284, 40.333333333333336, 30.88888888888889, 40.0, 36.19101123595506, 32.42857142857143, 33.22222222222222, 40.125, 36.3, 29.11111111111111, 35.583333333333336, 31.46153846153846, 29.384615384615383, 28.875, 22.6, 29.714285714285715, 30.5, 20.5, 17.0, 37.0, 28.0]}],                        {\"plot_bgcolor\": \"white\", \"template\": {\"data\": {\"bar\": [{\"error_x\": {\"color\": \"#2a3f5f\"}, \"error_y\": {\"color\": \"#2a3f5f\"}, \"marker\": {\"line\": {\"color\": \"#E5ECF6\", \"width\": 0.5}}, \"type\": \"bar\"}], \"barpolar\": [{\"marker\": {\"line\": {\"color\": \"#E5ECF6\", \"width\": 0.5}}, \"type\": \"barpolar\"}], \"carpet\": [{\"aaxis\": {\"endlinecolor\": \"#2a3f5f\", \"gridcolor\": \"white\", \"linecolor\": \"white\", \"minorgridcolor\": \"white\", \"startlinecolor\": \"#2a3f5f\"}, \"baxis\": {\"endlinecolor\": \"#2a3f5f\", \"gridcolor\": \"white\", \"linecolor\": \"white\", \"minorgridcolor\": \"white\", \"startlinecolor\": \"#2a3f5f\"}, \"type\": \"carpet\"}], \"choropleth\": [{\"colorbar\": {\"outlinewidth\": 0, \"ticks\": \"\"}, \"type\": \"choropleth\"}], \"contour\": [{\"colorbar\": {\"outlinewidth\": 0, \"ticks\": \"\"}, \"colorscale\": [[0.0, \"#0d0887\"], [0.1111111111111111, \"#46039f\"], [0.2222222222222222, \"#7201a8\"], [0.3333333333333333, \"#9c179e\"], [0.4444444444444444, \"#bd3786\"], [0.5555555555555556, \"#d8576b\"], [0.6666666666666666, \"#ed7953\"], [0.7777777777777778, \"#fb9f3a\"], [0.8888888888888888, \"#fdca26\"], [1.0, \"#f0f921\"]], \"type\": \"contour\"}], \"contourcarpet\": [{\"colorbar\": {\"outlinewidth\": 0, \"ticks\": \"\"}, \"type\": \"contourcarpet\"}], \"heatmap\": [{\"colorbar\": {\"outlinewidth\": 0, \"ticks\": \"\"}, \"colorscale\": [[0.0, \"#0d0887\"], [0.1111111111111111, \"#46039f\"], [0.2222222222222222, \"#7201a8\"], [0.3333333333333333, \"#9c179e\"], [0.4444444444444444, \"#bd3786\"], [0.5555555555555556, \"#d8576b\"], [0.6666666666666666, \"#ed7953\"], [0.7777777777777778, \"#fb9f3a\"], [0.8888888888888888, \"#fdca26\"], [1.0, \"#f0f921\"]], \"type\": \"heatmap\"}], \"heatmapgl\": [{\"colorbar\": {\"outlinewidth\": 0, \"ticks\": \"\"}, \"colorscale\": [[0.0, \"#0d0887\"], [0.1111111111111111, \"#46039f\"], [0.2222222222222222, \"#7201a8\"], [0.3333333333333333, \"#9c179e\"], [0.4444444444444444, \"#bd3786\"], [0.5555555555555556, \"#d8576b\"], [0.6666666666666666, \"#ed7953\"], [0.7777777777777778, \"#fb9f3a\"], [0.8888888888888888, \"#fdca26\"], [1.0, \"#f0f921\"]], \"type\": \"heatmapgl\"}], \"histogram\": [{\"marker\": {\"colorbar\": {\"outlinewidth\": 0, \"ticks\": \"\"}}, \"type\": \"histogram\"}], \"histogram2d\": [{\"colorbar\": {\"outlinewidth\": 0, \"ticks\": \"\"}, \"colorscale\": [[0.0, \"#0d0887\"], [0.1111111111111111, \"#46039f\"], [0.2222222222222222, \"#7201a8\"], [0.3333333333333333, \"#9c179e\"], [0.4444444444444444, \"#bd3786\"], [0.5555555555555556, \"#d8576b\"], [0.6666666666666666, \"#ed7953\"], [0.7777777777777778, \"#fb9f3a\"], [0.8888888888888888, \"#fdca26\"], [1.0, \"#f0f921\"]], \"type\": \"histogram2d\"}], \"histogram2dcontour\": [{\"colorbar\": {\"outlinewidth\": 0, \"ticks\": \"\"}, \"colorscale\": [[0.0, \"#0d0887\"], [0.1111111111111111, \"#46039f\"], [0.2222222222222222, \"#7201a8\"], [0.3333333333333333, \"#9c179e\"], [0.4444444444444444, \"#bd3786\"], [0.5555555555555556, \"#d8576b\"], [0.6666666666666666, \"#ed7953\"], [0.7777777777777778, \"#fb9f3a\"], [0.8888888888888888, \"#fdca26\"], [1.0, \"#f0f921\"]], \"type\": \"histogram2dcontour\"}], \"mesh3d\": [{\"colorbar\": {\"outlinewidth\": 0, \"ticks\": \"\"}, \"type\": \"mesh3d\"}], \"parcoords\": [{\"line\": {\"colorbar\": {\"outlinewidth\": 0, \"ticks\": \"\"}}, \"type\": \"parcoords\"}], \"pie\": [{\"automargin\": true, \"type\": \"pie\"}], \"scatter\": [{\"marker\": {\"colorbar\": {\"outlinewidth\": 0, \"ticks\": \"\"}}, \"type\": \"scatter\"}], \"scatter3d\": [{\"line\": {\"colorbar\": {\"outlinewidth\": 0, \"ticks\": \"\"}}, \"marker\": {\"colorbar\": {\"outlinewidth\": 0, \"ticks\": \"\"}}, \"type\": \"scatter3d\"}], \"scattercarpet\": [{\"marker\": {\"colorbar\": {\"outlinewidth\": 0, \"ticks\": \"\"}}, \"type\": \"scattercarpet\"}], \"scattergeo\": [{\"marker\": {\"colorbar\": {\"outlinewidth\": 0, \"ticks\": \"\"}}, \"type\": \"scattergeo\"}], \"scattergl\": [{\"marker\": {\"colorbar\": {\"outlinewidth\": 0, \"ticks\": \"\"}}, \"type\": \"scattergl\"}], \"scattermapbox\": [{\"marker\": {\"colorbar\": {\"outlinewidth\": 0, \"ticks\": \"\"}}, \"type\": \"scattermapbox\"}], \"scatterpolar\": [{\"marker\": {\"colorbar\": {\"outlinewidth\": 0, \"ticks\": \"\"}}, \"type\": \"scatterpolar\"}], \"scatterpolargl\": [{\"marker\": {\"colorbar\": {\"outlinewidth\": 0, \"ticks\": \"\"}}, \"type\": \"scatterpolargl\"}], \"scatterternary\": [{\"marker\": {\"colorbar\": {\"outlinewidth\": 0, \"ticks\": \"\"}}, \"type\": \"scatterternary\"}], \"surface\": [{\"colorbar\": {\"outlinewidth\": 0, \"ticks\": \"\"}, \"colorscale\": [[0.0, \"#0d0887\"], [0.1111111111111111, \"#46039f\"], [0.2222222222222222, \"#7201a8\"], [0.3333333333333333, \"#9c179e\"], [0.4444444444444444, \"#bd3786\"], [0.5555555555555556, \"#d8576b\"], [0.6666666666666666, \"#ed7953\"], [0.7777777777777778, \"#fb9f3a\"], [0.8888888888888888, \"#fdca26\"], [1.0, \"#f0f921\"]], \"type\": \"surface\"}], \"table\": [{\"cells\": {\"fill\": {\"color\": \"#EBF0F8\"}, \"line\": {\"color\": \"white\"}}, \"header\": {\"fill\": {\"color\": \"#C8D4E3\"}, \"line\": {\"color\": \"white\"}}, \"type\": \"table\"}]}, \"layout\": {\"annotationdefaults\": {\"arrowcolor\": \"#2a3f5f\", \"arrowhead\": 0, \"arrowwidth\": 1}, \"autotypenumbers\": \"strict\", \"coloraxis\": {\"colorbar\": {\"outlinewidth\": 0, \"ticks\": \"\"}}, \"colorscale\": {\"diverging\": [[0, \"#8e0152\"], [0.1, \"#c51b7d\"], [0.2, \"#de77ae\"], [0.3, \"#f1b6da\"], [0.4, \"#fde0ef\"], [0.5, \"#f7f7f7\"], [0.6, \"#e6f5d0\"], [0.7, \"#b8e186\"], [0.8, \"#7fbc41\"], [0.9, \"#4d9221\"], [1, \"#276419\"]], \"sequential\": [[0.0, \"#0d0887\"], [0.1111111111111111, \"#46039f\"], [0.2222222222222222, \"#7201a8\"], [0.3333333333333333, \"#9c179e\"], [0.4444444444444444, \"#bd3786\"], [0.5555555555555556, \"#d8576b\"], [0.6666666666666666, \"#ed7953\"], [0.7777777777777778, \"#fb9f3a\"], [0.8888888888888888, \"#fdca26\"], [1.0, \"#f0f921\"]], \"sequentialminus\": [[0.0, \"#0d0887\"], [0.1111111111111111, \"#46039f\"], [0.2222222222222222, \"#7201a8\"], [0.3333333333333333, \"#9c179e\"], [0.4444444444444444, \"#bd3786\"], [0.5555555555555556, \"#d8576b\"], [0.6666666666666666, \"#ed7953\"], [0.7777777777777778, \"#fb9f3a\"], [0.8888888888888888, \"#fdca26\"], [1.0, \"#f0f921\"]]}, \"colorway\": [\"#636efa\", \"#EF553B\", \"#00cc96\", \"#ab63fa\", \"#FFA15A\", \"#19d3f3\", \"#FF6692\", \"#B6E880\", \"#FF97FF\", \"#FECB52\"], \"font\": {\"color\": \"#2a3f5f\"}, \"geo\": {\"bgcolor\": \"white\", \"lakecolor\": \"white\", \"landcolor\": \"#E5ECF6\", \"showlakes\": true, \"showland\": true, \"subunitcolor\": \"white\"}, \"hoverlabel\": {\"align\": \"left\"}, \"hovermode\": \"closest\", \"mapbox\": {\"style\": \"light\"}, \"paper_bgcolor\": \"white\", \"plot_bgcolor\": \"#E5ECF6\", \"polar\": {\"angularaxis\": {\"gridcolor\": \"white\", \"linecolor\": \"white\", \"ticks\": \"\"}, \"bgcolor\": \"#E5ECF6\", \"radialaxis\": {\"gridcolor\": \"white\", \"linecolor\": \"white\", \"ticks\": \"\"}}, \"scene\": {\"xaxis\": {\"backgroundcolor\": \"#E5ECF6\", \"gridcolor\": \"white\", \"gridwidth\": 2, \"linecolor\": \"white\", \"showbackground\": true, \"ticks\": \"\", \"zerolinecolor\": \"white\"}, \"yaxis\": {\"backgroundcolor\": \"#E5ECF6\", \"gridcolor\": \"white\", \"gridwidth\": 2, \"linecolor\": \"white\", \"showbackground\": true, \"ticks\": \"\", \"zerolinecolor\": \"white\"}, \"zaxis\": {\"backgroundcolor\": \"#E5ECF6\", \"gridcolor\": \"white\", \"gridwidth\": 2, \"linecolor\": \"white\", \"showbackground\": true, \"ticks\": \"\", \"zerolinecolor\": \"white\"}}, \"shapedefaults\": {\"line\": {\"color\": \"#2a3f5f\"}}, \"ternary\": {\"aaxis\": {\"gridcolor\": \"white\", \"linecolor\": \"white\", \"ticks\": \"\"}, \"baxis\": {\"gridcolor\": \"white\", \"linecolor\": \"white\", \"ticks\": \"\"}, \"bgcolor\": \"#E5ECF6\", \"caxis\": {\"gridcolor\": \"white\", \"linecolor\": \"white\", \"ticks\": \"\"}}, \"title\": {\"x\": 0.05}, \"xaxis\": {\"automargin\": true, \"gridcolor\": \"white\", \"linecolor\": \"white\", \"ticks\": \"\", \"title\": {\"standoff\": 15}, \"zerolinecolor\": \"white\", \"zerolinewidth\": 2}, \"yaxis\": {\"automargin\": true, \"gridcolor\": \"white\", \"linecolor\": \"white\", \"ticks\": \"\", \"title\": {\"standoff\": 15}, \"zerolinecolor\": \"white\", \"zerolinewidth\": 2}}}, \"xaxis\": {\"linecolor\": \"#d9d9d9\", \"mirror\": true, \"title\": {\"text\": \"$k_{c,0}$\"}}, \"yaxis\": {\"linecolor\": \"#d9d9d9\", \"mirror\": true, \"title\": {\"text\": \"$k_{c,1}$\"}}},                        {\"responsive\": true}                    ).then(function(){\n",
       "                            \n",
       "var gd = document.getElementById('0eb9a7f1-51e0-4356-a99d-91d9273a8c27');\n",
       "var x = new MutationObserver(function (mutations, observer) {{\n",
       "        var display = window.getComputedStyle(gd).display;\n",
       "        if (!display || display === 'none') {{\n",
       "            console.log([gd, 'removed!']);\n",
       "            Plotly.purge(gd);\n",
       "            observer.disconnect();\n",
       "        }}\n",
       "}});\n",
       "\n",
       "// Listen for the removal of the full notebook cells\n",
       "var notebookContainer = gd.closest('#notebook-container');\n",
       "if (notebookContainer) {{\n",
       "    x.observe(notebookContainer, {childList: true});\n",
       "}}\n",
       "\n",
       "// Listen for the clearing of the current output cell\n",
       "var outputEl = gd.closest('.output');\n",
       "if (outputEl) {{\n",
       "    x.observe(outputEl, {childList: true});\n",
       "}}\n",
       "\n",
       "                        })                };                });            </script>        </div>"
      ]
     },
     "metadata": {},
     "output_type": "display_data"
    }
   ],
   "source": [
    "country_list = ['Estonia',\n",
    " 'France,Monac',\n",
    " 'Germany',\n",
    " 'Greece',\n",
    " 'Honduras']\n",
    "\n",
    "country_list = list(mcp.exporter.unique())\n",
    "country_list.remove(\"World\")\n",
    "\n",
    "\n",
    "kdf = pd.DataFrame({'country_name': country_list,\n",
    "                    'kc0': list(map(lambda x: k[x][0],country_list)),\n",
    "                   'kc1': list(map(lambda x: k[x][1],country_list))})\n",
    "\n",
    "layout = dict(plot_bgcolor='white', xaxis=dict(title='$k_{c,0}$', linecolor='#d9d9d9', mirror=True),\n",
    "              yaxis=dict(title='$k_{c,1}$', linecolor='#d9d9d9', mirror=True))\n",
    "\n",
    "data = go.Scatter(x=kdf['kc0'],\n",
    "                  y=kdf['kc1'],\n",
    "                  text=kdf['country_name'],\n",
    "                  mode='markers+text',\n",
    "                  marker=dict(color='rgba(48, 217, 189, 1)'),\n",
    "                  name='citations')\n",
    "\n",
    "fig = go.Figure(data=data, layout=layout)\n",
    "\n",
    "fig.show()"
   ]
  },
  {
   "cell_type": "code",
   "execution_count": null,
   "metadata": {},
   "outputs": [],
   "source": []
  },
  {
   "cell_type": "code",
   "execution_count": null,
   "metadata": {},
   "outputs": [],
   "source": []
  },
  {
   "cell_type": "code",
   "execution_count": null,
   "metadata": {},
   "outputs": [],
   "source": []
  },
  {
   "cell_type": "code",
   "execution_count": null,
   "metadata": {},
   "outputs": [],
   "source": []
  },
  {
   "cell_type": "code",
   "execution_count": null,
   "metadata": {},
   "outputs": [],
   "source": []
  }
 ],
 "metadata": {
  "kernelspec": {
   "display_name": "datakv",
   "language": "python",
   "name": "datakv"
  },
  "language_info": {
   "codemirror_mode": {
    "name": "ipython",
    "version": 3
   },
   "file_extension": ".py",
   "mimetype": "text/x-python",
   "name": "python",
   "nbconvert_exporter": "python",
   "pygments_lexer": "ipython3",
   "version": "3.9.1"
  }
 },
 "nbformat": 4,
 "nbformat_minor": 4
}
